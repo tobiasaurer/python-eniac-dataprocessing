{
 "cells": [
  {
   "cell_type": "code",
   "execution_count": 1,
   "metadata": {},
   "outputs": [],
   "source": [
    "import pandas as pd\n",
    "import matplotlib"
   ]
  },
  {
   "cell_type": "markdown",
   "metadata": {},
   "source": [
    "# Data Exploration"
   ]
  },
  {
   "cell_type": "markdown",
   "metadata": {},
   "source": [
    "### __Read data to create dataframes__"
   ]
  },
  {
   "cell_type": "code",
   "execution_count": 2,
   "metadata": {},
   "outputs": [],
   "source": [
    "brands = pd.read_csv('brands.csv')\n",
    "orderlines = pd.read_csv('orderlines.csv')\n",
    "orders = pd.read_csv('orders.csv')\n",
    "products = pd.read_csv('products.csv')"
   ]
  },
  {
   "cell_type": "markdown",
   "metadata": {},
   "source": [
    "### __df.info__"
   ]
  },
  {
   "cell_type": "code",
   "execution_count": 3,
   "metadata": {},
   "outputs": [
    {
     "name": "stdout",
     "output_type": "stream",
     "text": [
      "<class 'pandas.core.frame.DataFrame'>\n",
      "RangeIndex: 187 entries, 0 to 186\n",
      "Data columns (total 2 columns):\n",
      " #   Column  Non-Null Count  Dtype \n",
      "---  ------  --------------  ----- \n",
      " 0   short   187 non-null    object\n",
      " 1   long    187 non-null    object\n",
      "dtypes: object(2)\n",
      "memory usage: 3.0+ KB\n",
      "None\n",
      "<class 'pandas.core.frame.DataFrame'>\n",
      "RangeIndex: 293983 entries, 0 to 293982\n",
      "Data columns (total 7 columns):\n",
      " #   Column            Non-Null Count   Dtype \n",
      "---  ------            --------------   ----- \n",
      " 0   id                293983 non-null  int64 \n",
      " 1   id_order          293983 non-null  int64 \n",
      " 2   product_id        293983 non-null  int64 \n",
      " 3   product_quantity  293983 non-null  int64 \n",
      " 4   sku               293983 non-null  object\n",
      " 5   unit_price        293983 non-null  object\n",
      " 6   date              293983 non-null  object\n",
      "dtypes: int64(4), object(3)\n",
      "memory usage: 15.7+ MB\n",
      "None\n",
      "<class 'pandas.core.frame.DataFrame'>\n",
      "RangeIndex: 226909 entries, 0 to 226908\n",
      "Data columns (total 4 columns):\n",
      " #   Column        Non-Null Count   Dtype  \n",
      "---  ------        --------------   -----  \n",
      " 0   order_id      226909 non-null  int64  \n",
      " 1   created_date  226909 non-null  object \n",
      " 2   total_paid    226904 non-null  float64\n",
      " 3   state         226909 non-null  object \n",
      "dtypes: float64(1), int64(1), object(2)\n",
      "memory usage: 6.9+ MB\n",
      "None\n",
      "<class 'pandas.core.frame.DataFrame'>\n",
      "RangeIndex: 19326 entries, 0 to 19325\n",
      "Data columns (total 7 columns):\n",
      " #   Column       Non-Null Count  Dtype \n",
      "---  ------       --------------  ----- \n",
      " 0   sku          19326 non-null  object\n",
      " 1   name         19326 non-null  object\n",
      " 2   desc         19319 non-null  object\n",
      " 3   price        19280 non-null  object\n",
      " 4   promo_price  19326 non-null  object\n",
      " 5   in_stock     19326 non-null  int64 \n",
      " 6   type         19276 non-null  object\n",
      "dtypes: int64(1), object(6)\n",
      "memory usage: 1.0+ MB\n",
      "None\n"
     ]
    }
   ],
   "source": [
    "print(brands.info())\n",
    "print(orderlines.info())\n",
    "print(orders.info())\n",
    "print(products.info())"
   ]
  },
  {
   "cell_type": "markdown",
   "metadata": {},
   "source": [
    "### __Inspect dataframes heads and tails__"
   ]
  },
  {
   "cell_type": "code",
   "execution_count": 4,
   "metadata": {},
   "outputs": [
    {
     "name": "stdout",
     "output_type": "stream",
     "text": [
      "###################### BRANDS \n",
      "   short       long\n",
      "0   8MO  8Mobility\n",
      "1   ACM       Acme\n",
      "2   ADN     Adonit\n",
      "3   AII      Aiino\n",
      "4   AKI     Akitio \n",
      "     short      long\n",
      "182   XOO    Xoopar\n",
      "183   XRI    X-Rite\n",
      "184   XTO     Xtorm\n",
      "185   ZAG  ZaggKeys\n",
      "186   ZEP      Zepp \n",
      "---\n",
      "###################### ORDERLINES \n",
      "         id  id_order  product_id  product_quantity      sku unit_price                 date\n",
      "0  1119109    299539           0                 1  OTT0133      18.99  2017-01-01 00:07:19\n",
      "1  1119110    299540           0                 1  LGE0043     399.00  2017-01-01 00:19:45\n",
      "2  1119111    299541           0                 1  PAR0071     474.05  2017-01-01 00:20:57\n",
      "3  1119112    299542           0                 1  WDT0315      68.39  2017-01-01 00:51:40\n",
      "4  1119113    299543           0                 1  JBL0104      23.74  2017-01-01 01:06:38 \n",
      "              id  id_order  product_id  product_quantity      sku unit_price                 date\n",
      "293978  1650199    527398           0                 1  JBL0122      42.99  2018-03-14 13:57:25\n",
      "293979  1650200    527399           0                 1  PAC0653     141.58  2018-03-14 13:57:34\n",
      "293980  1650201    527400           0                 2  APP0698       9.99  2018-03-14 13:57:41\n",
      "293981  1650202    527388           0                 1  BEZ0204      19.99  2018-03-14 13:58:01\n",
      "293982  1650203    527401           0                 1  APP0927      13.99  2018-03-14 13:58:36 \n",
      "---\n",
      "###################### ORDERS \n",
      "    order_id         created_date  total_paid      state\n",
      "0    241319  2017-01-02 13:35:40       44.99  Cancelled\n",
      "1    241423  2017-11-06 13:10:02      136.15  Completed\n",
      "2    242832  2017-12-31 17:40:03       15.76  Completed\n",
      "3    243330  2017-02-16 10:59:38       84.98  Completed\n",
      "4    243784  2017-11-24 13:35:19      157.86  Cancelled \n",
      "         order_id         created_date  total_paid            state\n",
      "226904    527397  2018-03-14 13:56:38       42.99      Place Order\n",
      "226905    527398  2018-03-14 13:57:25       42.99  Shopping Basket\n",
      "226906    527399  2018-03-14 13:57:34      141.58  Shopping Basket\n",
      "226907    527400  2018-03-14 13:57:41       19.98  Shopping Basket\n",
      "226908    527401  2018-03-14 13:58:36       18.98      Place Order \n",
      "---\n",
      "###################### PRODUCTS \n",
      "        sku                                           name                                                           desc  price promo_price  in_stock      type\n",
      "0  RAI0007              Silver Rain Design mStand Support                   Aluminum support compatible with all MacBook  59.99     499.899         1      8696\n",
      "1  APP0023              Apple Mac Keyboard Keypad Spanish                      USB ultrathin keyboard Apple Mac Spanish.     59     589.996         0  13855401\n",
      "2  APP0025               Mighty Mouse Apple Mouse for Mac                                         mouse Apple USB cable.     59     569.898         0      1387\n",
      "3  APP0072  Apple Dock to USB Cable iPhone and iPod white                          IPhone dock and USB Cable Apple iPod.     25     229.997         0      1230\n",
      "4  KIN0007    Mac Memory Kingston 2GB 667MHz DDR2 SO-DIMM  2GB RAM Mac mini and iMac (2006/07) MacBook Pro (2006/07/08).  34.99       31.99         1      1364 \n",
      "            sku                                          name                                                                                           desc  price promo_price  in_stock   type\n",
      "19321  BEL0376       Belkin Travel Support Apple Watch Black                          compact and portable stand vertically or horizontally for Apple Watch  29.99     269.903         1  12282\n",
      "19322  THU0060  Enroute Thule 14L Backpack MacBook 13 \"Black  Backpack with capacity of 14 liter compartments MacBook up to 13 inches up to 10 inches Cases  69.95     649.903         1   1392\n",
      "19323  THU0061   Enroute Thule 14L Backpack MacBook 13 \"Blue  Backpack with capacity of 14 liter compartments MacBook up to 13 inches up to 10 inches Cases  69.95     649.903         1   1392\n",
      "19324  THU0062    Enroute Thule 14L Backpack MacBook 13 \"Red  Backpack with capacity of 14 liter compartments MacBook up to 13 inches up to 10 inches Cases  69.95     649.903         0   1392\n",
      "19325  THU0063  Enroute Thule 14L Backpack MacBook 13 \"Green  Backpack with capacity of 14 liter compartments MacBook up to 13 inches up to 10 inches Cases  69.95     649.903         1   1392 \n",
      "---\n"
     ]
    }
   ],
   "source": [
    "print('###################### BRANDS \\n', brands.head(),'\\n', brands.tail(),'\\n---')\n",
    "print('###################### ORDERLINES \\n', orderlines.head().to_string(),'\\n', orderlines.tail().to_string(),'\\n---')\n",
    "print('###################### ORDERS \\n', orders.head().to_string(), '\\n', orders.tail().to_string(),'\\n---')\n",
    "print('###################### PRODUCTS \\n', products.head().to_string(), '\\n', products.tail().to_string(),'\\n---')"
   ]
  },
  {
   "cell_type": "markdown",
   "metadata": {},
   "source": [
    "### __Gather some basic descriptives for all the dataframes__"
   ]
  },
  {
   "cell_type": "markdown",
   "metadata": {},
   "source": [
    "#### brands"
   ]
  },
  {
   "cell_type": "code",
   "execution_count": 5,
   "metadata": {},
   "outputs": [
    {
     "name": "stdout",
     "output_type": "stream",
     "text": [
      "\n",
      "################################## .describe() \n",
      "\n",
      "        short    long\n",
      "count    187     187\n",
      "unique   187     181\n",
      "top      8MO  Mophie\n",
      "freq       1       2\n",
      "\n",
      "################################## .isna().any() \n",
      "\n",
      " short    False\n",
      "long     False\n",
      "dtype: bool\n",
      "\n",
      "################################## .shape \n",
      "\n",
      " (187, 2)\n",
      "\n",
      "################################## .columns \n",
      "\n",
      " Index(['short', 'long'], dtype='object')\n"
     ]
    }
   ],
   "source": [
    "print('\\n################################## .describe() \\n\\n', brands.describe())\n",
    "print('\\n################################## .isna().any() \\n\\n', brands.isna().any())\n",
    "print('\\n################################## .shape \\n\\n', brands.shape)\n",
    "print('\\n################################## .columns \\n\\n', brands.columns)"
   ]
  },
  {
   "cell_type": "markdown",
   "metadata": {},
   "source": [
    "#### orderlines\n",
    "\n"
   ]
  },
  {
   "cell_type": "code",
   "execution_count": 77,
   "metadata": {},
   "outputs": [
    {
     "name": "stdout",
     "output_type": "stream",
     "text": [
      "        id  order_id  product_id  product_quantity      sku  unit_price                date  total_price\n",
      "0  1119109    299539           0                 1  OTT0133       18.99 2017-01-01 00:07:19        18.99\n",
      "1  1119110    299540           0                 1  LGE0043      399.00 2017-01-01 00:19:45       399.00\n",
      "2  1119111    299541           0                 1  PAR0071      474.05 2017-01-01 00:20:57       474.05\n",
      "3  1119112    299542           0                 1  WDT0315       68.39 2017-01-01 00:51:40        68.39\n",
      "4  1119113    299543           0                 1  JBL0104       23.74 2017-01-01 01:06:38        23.74\n",
      "\n",
      "################################## .describe() \n",
      "\n",
      "                  id       order_id  product_id  product_quantity  \\\n",
      "count  2.939830e+05  293983.000000    293983.0     293983.000000   \n",
      "mean   1.397918e+06  419999.116544         0.0          1.121126   \n",
      "std    1.530096e+05   66344.486479         0.0          3.396569   \n",
      "min    1.119109e+06  241319.000000         0.0          1.000000   \n",
      "25%    1.262542e+06  362258.500000         0.0          1.000000   \n",
      "50%    1.406940e+06  425956.000000         0.0          1.000000   \n",
      "75%    1.531322e+06  478657.000000         0.0          1.000000   \n",
      "max    1.650203e+06  527401.000000         0.0        999.000000   \n",
      "\n",
      "          unit_price    total_price  \n",
      "count  293983.000000  293983.000000  \n",
      "mean      409.855192     438.039689  \n",
      "std       837.065461    1191.982427  \n",
      "min      -119.000000    -119.000000  \n",
      "25%        35.990000      37.790000  \n",
      "50%        92.990000      99.000000  \n",
      "75%       339.580000     359.000000  \n",
      "max    159989.830000  206681.790000  \n",
      "\n",
      "################################## .isna().any() \n",
      "\n",
      " id                  False\n",
      "order_id            False\n",
      "product_id          False\n",
      "product_quantity    False\n",
      "sku                 False\n",
      "unit_price          False\n",
      "date                False\n",
      "total_price         False\n",
      "dtype: bool\n",
      "\n",
      "################################## .shape \n",
      "\n",
      " (293983, 8)\n",
      "\n",
      "################################## .columns \n",
      "\n",
      " Index(['id', 'order_id', 'product_id', 'product_quantity', 'sku', 'unit_price',\n",
      "       'date', 'total_price'],\n",
      "      dtype='object')\n"
     ]
    }
   ],
   "source": [
    "print(orderlines.head().to_string())\n",
    "print('\\n################################## .describe() \\n\\n', orderlines.describe())\n",
    "print('\\n################################## .isna().any() \\n\\n', orderlines.isna().any())\n",
    "print('\\n################################## .shape \\n\\n', orderlines.shape)\n",
    "print('\\n################################## .columns \\n\\n', orderlines.columns)"
   ]
  },
  {
   "cell_type": "markdown",
   "metadata": {},
   "source": [
    "#### orders"
   ]
  },
  {
   "cell_type": "code",
   "execution_count": 7,
   "metadata": {},
   "outputs": [
    {
     "name": "stdout",
     "output_type": "stream",
     "text": [
      "   order_id         created_date  total_paid      state\n",
      "0    241319  2017-01-02 13:35:40       44.99  Cancelled\n",
      "1    241423  2017-11-06 13:10:02      136.15  Completed\n",
      "2    242832  2017-12-31 17:40:03       15.76  Completed\n",
      "3    243330  2017-02-16 10:59:38       84.98  Completed\n",
      "4    243784  2017-11-24 13:35:19      157.86  Cancelled\n",
      "\n",
      "################################## .describe() \n",
      "\n",
      "             order_id     total_paid\n",
      "count  226909.000000  226904.000000\n",
      "mean   413296.482480     569.225818\n",
      "std     65919.250331    1761.778002\n",
      "min    241319.000000       0.000000\n",
      "25%    356263.000000      34.190000\n",
      "50%    413040.000000     112.990000\n",
      "75%    470553.000000     525.980000\n",
      "max    527401.000000  214747.530000\n",
      "\n",
      "################################## .isna().any() \n",
      "\n",
      " order_id        False\n",
      "created_date    False\n",
      "total_paid       True\n",
      "state           False\n",
      "dtype: bool\n",
      "\n",
      "################################## .shape \n",
      "\n",
      " (226909, 4)\n",
      "\n",
      "################################## .columns \n",
      "\n",
      " Index(['order_id', 'created_date', 'total_paid', 'state'], dtype='object')\n",
      "\n",
      "################################## .state.unique() \n",
      "\n",
      " ['Cancelled' 'Completed' 'Pending' 'Shopping Basket' 'Place Order']\n",
      "\n",
      "################################## .order_id.duplicated \n",
      "\n",
      " 0\n"
     ]
    }
   ],
   "source": [
    "print(orders.head())\n",
    "print('\\n################################## .describe() \\n\\n', orders.describe())\n",
    "print('\\n################################## .isna().any() \\n\\n', orders.isna().any())\n",
    "print('\\n################################## .shape \\n\\n', orders.shape)\n",
    "print('\\n################################## .columns \\n\\n', orders.columns)\n",
    "print('\\n################################## .state.unique() \\n\\n', orders.state.unique())\n",
    "print('\\n################################## .order_id.duplicated \\n\\n', orders.order_id.duplicated().sum())"
   ]
  },
  {
   "cell_type": "markdown",
   "metadata": {},
   "source": [
    "#### products"
   ]
  },
  {
   "cell_type": "code",
   "execution_count": 34,
   "metadata": {},
   "outputs": [
    {
     "name": "stdout",
     "output_type": "stream",
     "text": [
      "       sku                                           name                                                           desc  price promo_price  in_stock      type\n",
      "0  RAI0007              Silver Rain Design mStand Support                   Aluminum support compatible with all MacBook  59.99     499.899         1      8696\n",
      "1  APP0023              Apple Mac Keyboard Keypad Spanish                      USB ultrathin keyboard Apple Mac Spanish.     59     589.996         0  13855401\n",
      "2  APP0025               Mighty Mouse Apple Mouse for Mac                                         mouse Apple USB cable.     59     569.898         0      1387\n",
      "3  APP0072  Apple Dock to USB Cable iPhone and iPod white                          IPhone dock and USB Cable Apple iPod.     25     229.997         0      1230\n",
      "4  KIN0007    Mac Memory Kingston 2GB 667MHz DDR2 SO-DIMM  2GB RAM Mac mini and iMac (2006/07) MacBook Pro (2006/07/08).  34.99       31.99         1      1364\n",
      "\n",
      "################################## .describe() \n",
      "\n",
      "            in_stock\n",
      "count  10580.000000\n",
      "mean       0.194140\n",
      "std        0.395556\n",
      "min        0.000000\n",
      "25%        0.000000\n",
      "50%        0.000000\n",
      "75%        0.000000\n",
      "max        1.000000\n",
      "\n",
      "################################## .isna().any() \n",
      "\n",
      " sku            False\n",
      "name           False\n",
      "desc            True\n",
      "price           True\n",
      "promo_price    False\n",
      "in_stock       False\n",
      "type            True\n",
      "dtype: bool\n",
      "\n",
      "################################## .shape \n",
      "\n",
      " (10580, 7)\n",
      "\n",
      "################################## .columns \n",
      "\n",
      " Index(['sku', 'name', 'desc', 'price', 'promo_price', 'in_stock', 'type'], dtype='object')\n"
     ]
    }
   ],
   "source": [
    "print(products.head().to_string())\n",
    "print('\\n################################## .describe() \\n\\n', products.describe())\n",
    "print('\\n################################## .isna().any() \\n\\n', products.isna().any())\n",
    "print('\\n################################## .shape \\n\\n', products.shape)\n",
    "print('\\n################################## .columns \\n\\n', products.columns)"
   ]
  },
  {
   "cell_type": "markdown",
   "metadata": {},
   "source": [
    "# __Datacleaning__"
   ]
  },
  {
   "cell_type": "markdown",
   "metadata": {},
   "source": [
    "## Cleaning orders"
   ]
  },
  {
   "cell_type": "code",
   "execution_count": 3,
   "metadata": {},
   "outputs": [
    {
     "name": "stdout",
     "output_type": "stream",
     "text": [
      "Nan-count before removal = 5\n",
      "Nan-count after removal = 0\n"
     ]
    }
   ],
   "source": [
    "# Convert datatypes\n",
    "orders['created_date'] = pd.to_datetime(orders['created_date'])\n",
    "\n",
    "# Create new columns for 'year' (int), 'month' (int), 'day_of_month' (int), 'weekday' (categorical variable, ordered)\n",
    "orders['year'] = pd.DatetimeIndex(orders['created_date']).year\n",
    "orders['month'] = pd.DatetimeIndex(orders['created_date']).month\n",
    "orders['day_of_month'] = pd.DatetimeIndex(orders['created_date']).day\n",
    "orders['weekday'] = orders['created_date'].dt.strftime('%A')\n",
    "\n",
    "# create sorted categories for weekday\n",
    "cats = [ 'Monday', 'Tuesday', 'Wednesday', 'Thursday', 'Friday', 'Saturday', 'Sunday']\n",
    "orders['weekday'] = pd.Categorical(orders['weekday'], categories = cats, ordered=True)\n",
    "\n",
    "# Exclude missing values in total_paid column (cause for missing values is order-state = pending) and check for na before and after manipulation\n",
    "print(f'Nan-count before removal = {orders.total_paid.isna().sum()}')\n",
    "orders.dropna(inplace=True)\n",
    "print(f'Nan-count after removal = {orders.total_paid.isna().sum()}')"
   ]
  },
  {
   "cell_type": "markdown",
   "metadata": {},
   "source": [
    "## Cleaning orderlines"
   ]
  },
  {
   "cell_type": "code",
   "execution_count": 4,
   "metadata": {},
   "outputs": [],
   "source": [
    "# Convert datatypes\n",
    "orderlines['date'] = pd.to_datetime(orderlines['date'])\n",
    "\n",
    "# rename id_order to order_id to standardize it\n",
    "orderlines.rename(columns={'id_order':'order_id'}, \n",
    "                   inplace=True)"
   ]
  },
  {
   "cell_type": "code",
   "execution_count": 5,
   "metadata": {},
   "outputs": [],
   "source": [
    "# FIX UNIT_PRICE COLUMN DECIMAL ISSUE\n",
    "## remove all decimal dots \n",
    "orderlines = orderlines.assign(unit_price_nd = orderlines['unit_price'].str.replace('\\.','', regex=True))\n",
    "\n",
    "## separate all numbers before and after the decimal dot\n",
    "orderlines['integers'] = orderlines['unit_price_nd'].str[:-2]\n",
    "orderlines['decimals'] = orderlines['unit_price_nd'].str[-2:]\n",
    "\n",
    "## concatenate integers and decimals with dot in between\n",
    "orderlines['new_unit_price'] = orderlines['integers'] + '.' + orderlines['decimals']\n",
    "\n",
    "## create converted unit_price column based on fixed column\n",
    "orderlines['unit_price'] = pd.to_numeric(orderlines['new_unit_price'])\n",
    "\n",
    "## drop 'auxiliary' columns\n",
    "orderlines.drop(['unit_price_nd','decimals','integers','new_unit_price'], axis=1, inplace=True)\n",
    "\n",
    "# create a new column \"total_price\" by multiplying product_quantity times unit_price\n",
    "orderlines['total_price'] = orderlines['product_quantity'] * orderlines['unit_price']"
   ]
  },
  {
   "cell_type": "markdown",
   "metadata": {},
   "source": [
    "## Cleaning products"
   ]
  },
  {
   "cell_type": "code",
   "execution_count": 6,
   "metadata": {},
   "outputs": [
    {
     "name": "stdout",
     "output_type": "stream",
     "text": [
      "Duplicates in products: 8747\n",
      "Duplicates in products after removal: 0\n"
     ]
    }
   ],
   "source": [
    "# Duplicates\n",
    "print(f'Duplicates in products: {products.duplicated(\"sku\").sum()}')\n",
    "# --> 8747\n",
    "products.drop_duplicates(subset= 'sku', inplace=True)\n",
    "print(f'Duplicates in products after removal: {products.duplicated(\"sku\").sum()}')"
   ]
  },
  {
   "cell_type": "code",
   "execution_count": 7,
   "metadata": {},
   "outputs": [],
   "source": [
    "# Replace all price values in products that have: \n",
    "# --> more than three digits after the dot\n",
    "# --> missing value\n",
    "# with the unit_price value from orderlines\n",
    "# returns a df with two columns, 'sku' and 'price'\n",
    "\n",
    "price_from_orderlines = (\n",
    "    products\n",
    "        .merge(\n",
    "                orderlines\n",
    "                        .groupby('sku')\n",
    "                        .agg(max_price = ('unit_price', 'max')), \n",
    "                how = 'left', \n",
    "                on= 'sku'\n",
    "                )\n",
    "        .assign(price = lambda df: df['max_price'].round(2) if (lambda df_ : (df_['price'].str.contains(\"('.*\\.\\d{3}$')\", regex=True)) | (df_['price'].isna()))  else df['price'])\n",
    "        .dropna(subset = 'price')\n",
    ")"
   ]
  },
  {
   "cell_type": "code",
   "execution_count": 8,
   "metadata": {},
   "outputs": [],
   "source": [
    "# # Fixing price column\n",
    "\n",
    "# Fixing decimal point issue\n",
    "# create a new column with amount of dots in the price column\n",
    "products['dots']=products['price'].str.count('.')\n",
    "\n",
    "# remove all decimal dots \n",
    "products = (\n",
    "    products\n",
    "        .assign(price_nd = lambda df: df['price'].str.replace('\\.','', regex=True) if type(df['price'] == 'string') else df['price'])\n",
    "        )\n",
    "\n",
    "# separate all numbers before and after the decimal dot\n",
    "products['integers'] = products['price_nd'].str[:-2]\n",
    "products['decimals'] = products['price_nd'].str[-2:]\n",
    "\n",
    "# if we dont have dots makes the decimals 00\n",
    "products.loc[products['dots']==0,'decimals']='00'\n",
    "products.loc[products['dots']==0,'integers']=products['price_nd']\n",
    "\n",
    "# concatenate integers and decimals with dot in between\n",
    "products['new_price'] = products['integers'] + '.' + products['decimals']\n",
    "\n",
    "# create converted price column based on fixed column\n",
    "products['price'] = pd.to_numeric(products['new_price'])\n",
    "\n",
    "# drop 'auxiliary' columns\n",
    "products.drop(['price_nd','decimals','integers','new_price', 'dots'], axis=1, inplace=True)\n",
    "\n",
    "# products.head(15)"
   ]
  },
  {
   "cell_type": "code",
   "execution_count": 18,
   "metadata": {},
   "outputs": [
    {
     "data": {
      "text/html": [
       "<div>\n",
       "<style scoped>\n",
       "    .dataframe tbody tr th:only-of-type {\n",
       "        vertical-align: middle;\n",
       "    }\n",
       "\n",
       "    .dataframe tbody tr th {\n",
       "        vertical-align: top;\n",
       "    }\n",
       "\n",
       "    .dataframe thead th {\n",
       "        text-align: right;\n",
       "    }\n",
       "</style>\n",
       "<table border=\"1\" class=\"dataframe\">\n",
       "  <thead>\n",
       "    <tr style=\"text-align: right;\">\n",
       "      <th></th>\n",
       "      <th>sku</th>\n",
       "      <th>name</th>\n",
       "      <th>desc</th>\n",
       "      <th>price</th>\n",
       "      <th>promo_price</th>\n",
       "      <th>in_stock</th>\n",
       "      <th>type</th>\n",
       "    </tr>\n",
       "  </thead>\n",
       "  <tbody>\n",
       "    <tr>\n",
       "      <th>0</th>\n",
       "      <td>RAI0007</td>\n",
       "      <td>Silver Rain Design mStand Support</td>\n",
       "      <td>Aluminum support compatible with all MacBook</td>\n",
       "      <td>54.99</td>\n",
       "      <td>499.899</td>\n",
       "      <td>1</td>\n",
       "      <td>8696</td>\n",
       "    </tr>\n",
       "    <tr>\n",
       "      <th>1</th>\n",
       "      <td>APP0023</td>\n",
       "      <td>Apple Mac Keyboard Keypad Spanish</td>\n",
       "      <td>USB ultrathin keyboard Apple Mac Spanish.</td>\n",
       "      <td>60.49</td>\n",
       "      <td>589.996</td>\n",
       "      <td>0</td>\n",
       "      <td>13855401</td>\n",
       "    </tr>\n",
       "    <tr>\n",
       "      <th>2</th>\n",
       "      <td>APP0025</td>\n",
       "      <td>Mighty Mouse Apple Mouse for Mac</td>\n",
       "      <td>mouse Apple USB cable.</td>\n",
       "      <td>59.00</td>\n",
       "      <td>569.898</td>\n",
       "      <td>0</td>\n",
       "      <td>1387</td>\n",
       "    </tr>\n",
       "    <tr>\n",
       "      <th>3</th>\n",
       "      <td>APP0072</td>\n",
       "      <td>Apple Dock to USB Cable iPhone and iPod white</td>\n",
       "      <td>IPhone dock and USB Cable Apple iPod.</td>\n",
       "      <td>25.00</td>\n",
       "      <td>229.997</td>\n",
       "      <td>0</td>\n",
       "      <td>1230</td>\n",
       "    </tr>\n",
       "    <tr>\n",
       "      <th>4</th>\n",
       "      <td>KIN0007</td>\n",
       "      <td>Mac Memory Kingston 2GB 667MHz DDR2 SO-DIMM</td>\n",
       "      <td>2GB RAM Mac mini and iMac (2006/07) MacBook Pr...</td>\n",
       "      <td>35.71</td>\n",
       "      <td>31.99</td>\n",
       "      <td>1</td>\n",
       "      <td>1364</td>\n",
       "    </tr>\n",
       "    <tr>\n",
       "      <th>...</th>\n",
       "      <td>...</td>\n",
       "      <td>...</td>\n",
       "      <td>...</td>\n",
       "      <td>...</td>\n",
       "      <td>...</td>\n",
       "      <td>...</td>\n",
       "      <td>...</td>\n",
       "    </tr>\n",
       "    <tr>\n",
       "      <th>19279</th>\n",
       "      <td>MMW0012</td>\n",
       "      <td>My MW Case MacBook Pro 13 \"(Late 2016) Blue Sa...</td>\n",
       "      <td>Avoid shock and damage to your MacBook Pro 13-...</td>\n",
       "      <td>22.99</td>\n",
       "      <td>20.99</td>\n",
       "      <td>0</td>\n",
       "      <td>13835403</td>\n",
       "    </tr>\n",
       "    <tr>\n",
       "      <th>19280</th>\n",
       "      <td>MMW0013</td>\n",
       "      <td>My MW Case MacBook Pro 13 \"(Late 2016) White S...</td>\n",
       "      <td>Avoid shock and damage to your MacBook Pro 13-...</td>\n",
       "      <td>22.99</td>\n",
       "      <td>20.99</td>\n",
       "      <td>1</td>\n",
       "      <td>13835403</td>\n",
       "    </tr>\n",
       "    <tr>\n",
       "      <th>19281</th>\n",
       "      <td>MMW0016</td>\n",
       "      <td>My MW Case MacBook Pro 13 \"(Late 2016) Black</td>\n",
       "      <td>Avoid shock and damage to your MacBook Pro 13-...</td>\n",
       "      <td>22.99</td>\n",
       "      <td>20.99</td>\n",
       "      <td>1</td>\n",
       "      <td>13835403</td>\n",
       "    </tr>\n",
       "    <tr>\n",
       "      <th>19282</th>\n",
       "      <td>MMW0015</td>\n",
       "      <td>My MW Case MacBook Pro 13 \"(Late 2016) Gray</td>\n",
       "      <td>Avoid shock and damage to your MacBook Pro 13-...</td>\n",
       "      <td>22.99</td>\n",
       "      <td>20.99</td>\n",
       "      <td>1</td>\n",
       "      <td>13835403</td>\n",
       "    </tr>\n",
       "    <tr>\n",
       "      <th>19320</th>\n",
       "      <td>REP0076</td>\n",
       "      <td>repair Full screen iPad (1st generation)</td>\n",
       "      <td>Repair service including parts and labor for iPad</td>\n",
       "      <td>149.99</td>\n",
       "      <td>1.499.795</td>\n",
       "      <td>0</td>\n",
       "      <td>1,44E+11</td>\n",
       "    </tr>\n",
       "  </tbody>\n",
       "</table>\n",
       "<p>7850 rows × 7 columns</p>\n",
       "</div>"
      ],
      "text/plain": [
       "           sku                                               name  \\\n",
       "0      RAI0007                  Silver Rain Design mStand Support   \n",
       "1      APP0023                  Apple Mac Keyboard Keypad Spanish   \n",
       "2      APP0025                   Mighty Mouse Apple Mouse for Mac   \n",
       "3      APP0072      Apple Dock to USB Cable iPhone and iPod white   \n",
       "4      KIN0007        Mac Memory Kingston 2GB 667MHz DDR2 SO-DIMM   \n",
       "...        ...                                                ...   \n",
       "19279  MMW0012  My MW Case MacBook Pro 13 \"(Late 2016) Blue Sa...   \n",
       "19280  MMW0013  My MW Case MacBook Pro 13 \"(Late 2016) White S...   \n",
       "19281  MMW0016       My MW Case MacBook Pro 13 \"(Late 2016) Black   \n",
       "19282  MMW0015        My MW Case MacBook Pro 13 \"(Late 2016) Gray   \n",
       "19320  REP0076           repair Full screen iPad (1st generation)   \n",
       "\n",
       "                                                    desc   price promo_price  \\\n",
       "0           Aluminum support compatible with all MacBook   54.99     499.899   \n",
       "1              USB ultrathin keyboard Apple Mac Spanish.   60.49     589.996   \n",
       "2                                 mouse Apple USB cable.   59.00     569.898   \n",
       "3                  IPhone dock and USB Cable Apple iPod.   25.00     229.997   \n",
       "4      2GB RAM Mac mini and iMac (2006/07) MacBook Pr...   35.71       31.99   \n",
       "...                                                  ...     ...         ...   \n",
       "19279  Avoid shock and damage to your MacBook Pro 13-...   22.99       20.99   \n",
       "19280  Avoid shock and damage to your MacBook Pro 13-...   22.99       20.99   \n",
       "19281  Avoid shock and damage to your MacBook Pro 13-...   22.99       20.99   \n",
       "19282  Avoid shock and damage to your MacBook Pro 13-...   22.99       20.99   \n",
       "19320  Repair service including parts and labor for iPad  149.99   1.499.795   \n",
       "\n",
       "       in_stock      type  \n",
       "0             1      8696  \n",
       "1             0  13855401  \n",
       "2             0      1387  \n",
       "3             0      1230  \n",
       "4             1      1364  \n",
       "...         ...       ...  \n",
       "19279         0  13835403  \n",
       "19280         1  13835403  \n",
       "19281         1  13835403  \n",
       "19282         1  13835403  \n",
       "19320         0  1,44E+11  \n",
       "\n",
       "[7850 rows x 7 columns]"
      ]
     },
     "execution_count": 18,
     "metadata": {},
     "output_type": "execute_result"
    }
   ],
   "source": [
    "# Insert price values from orderlines back into products table and remove missing values\n",
    "\n",
    "dict_price_orderlines = dict(price_from_orderlines[['sku', 'price']].values)\n",
    "products = (\n",
    "    products\n",
    "        .assign(price = lambda df: df['sku'].map(dict_price_orderlines) if (lambda df_: df_['sku'] in dict_price_orderlines.keys()) else df['price'])\n",
    "        .dropna(subset = 'price')\n",
    "    )\n"
   ]
  },
  {
   "cell_type": "code",
   "execution_count": 10,
   "metadata": {},
   "outputs": [
    {
     "name": "stderr",
     "output_type": "stream",
     "text": [
      "C:\\Users\\tobia\\AppData\\Local\\Temp\\ipykernel_21424\\2699542818.py:4: FutureWarning: The default value of regex will change from True to False in a future version. In addition, single character regular expressions will *not* be treated as literal strings when regex=True.\n",
      "  .assign(promo_price = lambda df: df['promo_price'].str.replace('.', ''))\n"
     ]
    }
   ],
   "source": [
    "# Remove all dots from promo_prices and add one dot before the second to last digit, then convert to numeric\n",
    "products = (\n",
    "    products\n",
    "        .assign(promo_price = lambda df: df['promo_price'].str.replace('.', ''))\n",
    "        .assign(promo_price = lambda df: df['promo_price'].str[:-2] + '.' + df['promo_price'].str[-2:])\n",
    "        .dropna(subset = 'promo_price')\n",
    "        .assign(promo_price = lambda df: pd.to_numeric(df['promo_price']))\n",
    ")"
   ]
  },
  {
   "cell_type": "code",
   "execution_count": 11,
   "metadata": {},
   "outputs": [
    {
     "name": "stdout",
     "output_type": "stream",
     "text": [
      "       sku                               name  \\\n",
      "0  RAI0007  Silver Rain Design mStand Support   \n",
      "1  APP0023  Apple Mac Keyboard Keypad Spanish   \n",
      "2  APP0025   Mighty Mouse Apple Mouse for Mac   \n",
      "\n",
      "                                           desc  price  promo_price  in_stock  \\\n",
      "0  Aluminum support compatible with all MacBook  59.99      4998.99         1   \n",
      "1     USB ultrathin keyboard Apple Mac Spanish.   0.59      5899.96         0   \n",
      "2                        mouse Apple USB cable.   0.59      5698.98         0   \n",
      "\n",
      "       type  \n",
      "0      8696  \n",
      "1  13855401  \n",
      "2      1387  \n"
     ]
    },
    {
     "ename": "AttributeError",
     "evalue": "Can only use .str accessor with string values!",
     "output_type": "error",
     "traceback": [
      "\u001b[1;31m---------------------------------------------------------------------------\u001b[0m",
      "\u001b[1;31mAttributeError\u001b[0m                            Traceback (most recent call last)",
      "\u001b[1;32mc:\\Users\\tobia\\Documents\\Bootcamp\\03_datacleaning_storytelling_pd_matplot\\00_eniac_data\\data_exploration.ipynb Cell 28\u001b[0m in \u001b[0;36m<cell line: 9>\u001b[1;34m()\u001b[0m\n\u001b[0;32m      <a href='vscode-notebook-cell:/c%3A/Users/tobia/Documents/Bootcamp/03_datacleaning_storytelling_pd_matplot/00_eniac_data/data_exploration.ipynb#ch0000026?line=6'>7</a>\u001b[0m test_df \u001b[39m=\u001b[39m products\u001b[39m.\u001b[39mcopy()\n\u001b[0;32m      <a href='vscode-notebook-cell:/c%3A/Users/tobia/Documents/Bootcamp/03_datacleaning_storytelling_pd_matplot/00_eniac_data/data_exploration.ipynb#ch0000026?line=7'>8</a>\u001b[0m \u001b[39mprint\u001b[39m(test_df\u001b[39m.\u001b[39mhead(\u001b[39m3\u001b[39m))\n\u001b[1;32m----> <a href='vscode-notebook-cell:/c%3A/Users/tobia/Documents/Bootcamp/03_datacleaning_storytelling_pd_matplot/00_eniac_data/data_exploration.ipynb#ch0000026?line=8'>9</a>\u001b[0m test_df[\u001b[39m'\u001b[39;49m\u001b[39mpromo_price\u001b[39;49m\u001b[39m'\u001b[39;49m]\u001b[39m.\u001b[39;49mstr\u001b[39m.\u001b[39mreplace(\u001b[39m'\u001b[39m\u001b[39m.\u001b[39m\u001b[39m'\u001b[39m, \u001b[39m'\u001b[39m\u001b[39m'\u001b[39m)\n\u001b[0;32m     <a href='vscode-notebook-cell:/c%3A/Users/tobia/Documents/Bootcamp/03_datacleaning_storytelling_pd_matplot/00_eniac_data/data_exploration.ipynb#ch0000026?line=9'>10</a>\u001b[0m test_df[\u001b[39m'\u001b[39m\u001b[39mpromo_price\u001b[39m\u001b[39m'\u001b[39m] \u001b[39m=\u001b[39m test_df[\u001b[39m'\u001b[39m\u001b[39mpromo_price\u001b[39m\u001b[39m'\u001b[39m]\u001b[39m.\u001b[39mstr[:\u001b[39m-\u001b[39m\u001b[39m3\u001b[39m] \u001b[39m+\u001b[39m \u001b[39m'\u001b[39m\u001b[39m.\u001b[39m\u001b[39m'\u001b[39m \u001b[39m+\u001b[39m test_df[\u001b[39m'\u001b[39m\u001b[39mpromo_price\u001b[39m\u001b[39m'\u001b[39m]\u001b[39m.\u001b[39mstr[\u001b[39m-\u001b[39m\u001b[39m2\u001b[39m:\u001b[39m-\u001b[39m\u001b[39m1\u001b[39m]\n\u001b[0;32m     <a href='vscode-notebook-cell:/c%3A/Users/tobia/Documents/Bootcamp/03_datacleaning_storytelling_pd_matplot/00_eniac_data/data_exploration.ipynb#ch0000026?line=10'>11</a>\u001b[0m \u001b[39mprint\u001b[39m(test_df\u001b[39m.\u001b[39mhead(\u001b[39m3\u001b[39m))\n",
      "File \u001b[1;32mc:\\Users\\tobia\\miniconda3\\envs\\home\\lib\\site-packages\\pandas\\core\\generic.py:5575\u001b[0m, in \u001b[0;36mNDFrame.__getattr__\u001b[1;34m(self, name)\u001b[0m\n\u001b[0;32m   5568\u001b[0m \u001b[39mif\u001b[39;00m (\n\u001b[0;32m   5569\u001b[0m     name \u001b[39mnot\u001b[39;00m \u001b[39min\u001b[39;00m \u001b[39mself\u001b[39m\u001b[39m.\u001b[39m_internal_names_set\n\u001b[0;32m   5570\u001b[0m     \u001b[39mand\u001b[39;00m name \u001b[39mnot\u001b[39;00m \u001b[39min\u001b[39;00m \u001b[39mself\u001b[39m\u001b[39m.\u001b[39m_metadata\n\u001b[0;32m   5571\u001b[0m     \u001b[39mand\u001b[39;00m name \u001b[39mnot\u001b[39;00m \u001b[39min\u001b[39;00m \u001b[39mself\u001b[39m\u001b[39m.\u001b[39m_accessors\n\u001b[0;32m   5572\u001b[0m     \u001b[39mand\u001b[39;00m \u001b[39mself\u001b[39m\u001b[39m.\u001b[39m_info_axis\u001b[39m.\u001b[39m_can_hold_identifiers_and_holds_name(name)\n\u001b[0;32m   5573\u001b[0m ):\n\u001b[0;32m   5574\u001b[0m     \u001b[39mreturn\u001b[39;00m \u001b[39mself\u001b[39m[name]\n\u001b[1;32m-> 5575\u001b[0m \u001b[39mreturn\u001b[39;00m \u001b[39mobject\u001b[39;49m\u001b[39m.\u001b[39;49m\u001b[39m__getattribute__\u001b[39;49m(\u001b[39mself\u001b[39;49m, name)\n",
      "File \u001b[1;32mc:\\Users\\tobia\\miniconda3\\envs\\home\\lib\\site-packages\\pandas\\core\\accessor.py:182\u001b[0m, in \u001b[0;36mCachedAccessor.__get__\u001b[1;34m(self, obj, cls)\u001b[0m\n\u001b[0;32m    179\u001b[0m \u001b[39mif\u001b[39;00m obj \u001b[39mis\u001b[39;00m \u001b[39mNone\u001b[39;00m:\n\u001b[0;32m    180\u001b[0m     \u001b[39m# we're accessing the attribute of the class, i.e., Dataset.geo\u001b[39;00m\n\u001b[0;32m    181\u001b[0m     \u001b[39mreturn\u001b[39;00m \u001b[39mself\u001b[39m\u001b[39m.\u001b[39m_accessor\n\u001b[1;32m--> 182\u001b[0m accessor_obj \u001b[39m=\u001b[39m \u001b[39mself\u001b[39;49m\u001b[39m.\u001b[39;49m_accessor(obj)\n\u001b[0;32m    183\u001b[0m \u001b[39m# Replace the property with the accessor object. Inspired by:\u001b[39;00m\n\u001b[0;32m    184\u001b[0m \u001b[39m# https://www.pydanny.com/cached-property.html\u001b[39;00m\n\u001b[0;32m    185\u001b[0m \u001b[39m# We need to use object.__setattr__ because we overwrite __setattr__ on\u001b[39;00m\n\u001b[0;32m    186\u001b[0m \u001b[39m# NDFrame\u001b[39;00m\n\u001b[0;32m    187\u001b[0m \u001b[39mobject\u001b[39m\u001b[39m.\u001b[39m\u001b[39m__setattr__\u001b[39m(obj, \u001b[39mself\u001b[39m\u001b[39m.\u001b[39m_name, accessor_obj)\n",
      "File \u001b[1;32mc:\\Users\\tobia\\miniconda3\\envs\\home\\lib\\site-packages\\pandas\\core\\strings\\accessor.py:177\u001b[0m, in \u001b[0;36mStringMethods.__init__\u001b[1;34m(self, data)\u001b[0m\n\u001b[0;32m    174\u001b[0m \u001b[39mdef\u001b[39;00m \u001b[39m__init__\u001b[39m(\u001b[39mself\u001b[39m, data):\n\u001b[0;32m    175\u001b[0m     \u001b[39mfrom\u001b[39;00m \u001b[39mpandas\u001b[39;00m\u001b[39m.\u001b[39;00m\u001b[39mcore\u001b[39;00m\u001b[39m.\u001b[39;00m\u001b[39marrays\u001b[39;00m\u001b[39m.\u001b[39;00m\u001b[39mstring_\u001b[39;00m \u001b[39mimport\u001b[39;00m StringDtype\n\u001b[1;32m--> 177\u001b[0m     \u001b[39mself\u001b[39m\u001b[39m.\u001b[39m_inferred_dtype \u001b[39m=\u001b[39m \u001b[39mself\u001b[39;49m\u001b[39m.\u001b[39;49m_validate(data)\n\u001b[0;32m    178\u001b[0m     \u001b[39mself\u001b[39m\u001b[39m.\u001b[39m_is_categorical \u001b[39m=\u001b[39m is_categorical_dtype(data\u001b[39m.\u001b[39mdtype)\n\u001b[0;32m    179\u001b[0m     \u001b[39mself\u001b[39m\u001b[39m.\u001b[39m_is_string \u001b[39m=\u001b[39m \u001b[39misinstance\u001b[39m(data\u001b[39m.\u001b[39mdtype, StringDtype)\n",
      "File \u001b[1;32mc:\\Users\\tobia\\miniconda3\\envs\\home\\lib\\site-packages\\pandas\\core\\strings\\accessor.py:231\u001b[0m, in \u001b[0;36mStringMethods._validate\u001b[1;34m(data)\u001b[0m\n\u001b[0;32m    228\u001b[0m inferred_dtype \u001b[39m=\u001b[39m lib\u001b[39m.\u001b[39minfer_dtype(values, skipna\u001b[39m=\u001b[39m\u001b[39mTrue\u001b[39;00m)\n\u001b[0;32m    230\u001b[0m \u001b[39mif\u001b[39;00m inferred_dtype \u001b[39mnot\u001b[39;00m \u001b[39min\u001b[39;00m allowed_types:\n\u001b[1;32m--> 231\u001b[0m     \u001b[39mraise\u001b[39;00m \u001b[39mAttributeError\u001b[39;00m(\u001b[39m\"\u001b[39m\u001b[39mCan only use .str accessor with string values!\u001b[39m\u001b[39m\"\u001b[39m)\n\u001b[0;32m    232\u001b[0m \u001b[39mreturn\u001b[39;00m inferred_dtype\n",
      "\u001b[1;31mAttributeError\u001b[0m: Can only use .str accessor with string values!"
     ]
    }
   ],
   "source": [
    "# Function to reduce promo_price\n",
    "# def reduce_promo_price(row):\n",
    "#     if row['promo_price'] < row['price']:\n",
    "#         row['price'] = row['price'] / 10\n",
    "\n",
    "(\n",
    "products\n",
    "    .assign(promo_price = lambda df: (df['promo_price'] / 10) if )\n",
    ")\n"
   ]
  },
  {
   "cell_type": "code",
   "execution_count": 63,
   "metadata": {},
   "outputs": [
    {
     "ename": "AttributeError",
     "evalue": "Can only use .str accessor with string values!",
     "output_type": "error",
     "traceback": [
      "\u001b[1;31m---------------------------------------------------------------------------\u001b[0m",
      "\u001b[1;31mAttributeError\u001b[0m                            Traceback (most recent call last)",
      "\u001b[1;32mc:\\Users\\tobia\\Documents\\Bootcamp\\03_datacleaning_storytelling_pd_matplot\\00_eniac_data\\data_exploration.ipynb Cell 27\u001b[0m in \u001b[0;36m<cell line: 16>\u001b[1;34m()\u001b[0m\n\u001b[0;32m      <a href='vscode-notebook-cell:/c%3A/Users/tobia/Documents/Bootcamp/03_datacleaning_storytelling_pd_matplot/00_eniac_data/data_exploration.ipynb#ch0000024?line=0'>1</a>\u001b[0m \u001b[39m# TESTING CELL\u001b[39;00m\n\u001b[0;32m      <a href='vscode-notebook-cell:/c%3A/Users/tobia/Documents/Bootcamp/03_datacleaning_storytelling_pd_matplot/00_eniac_data/data_exploration.ipynb#ch0000024?line=1'>2</a>\u001b[0m \n\u001b[0;32m      <a href='vscode-notebook-cell:/c%3A/Users/tobia/Documents/Bootcamp/03_datacleaning_storytelling_pd_matplot/00_eniac_data/data_exploration.ipynb#ch0000024?line=2'>3</a>\u001b[0m \u001b[39m# (\u001b[39;00m\n\u001b[1;32m   (...)\u001b[0m\n\u001b[0;32m     <a href='vscode-notebook-cell:/c%3A/Users/tobia/Documents/Bootcamp/03_datacleaning_storytelling_pd_matplot/00_eniac_data/data_exploration.ipynb#ch0000024?line=11'>12</a>\u001b[0m \u001b[39m#     .count()\u001b[39;00m\n\u001b[0;32m     <a href='vscode-notebook-cell:/c%3A/Users/tobia/Documents/Bootcamp/03_datacleaning_storytelling_pd_matplot/00_eniac_data/data_exploration.ipynb#ch0000024?line=12'>13</a>\u001b[0m \u001b[39m# )\u001b[39;00m\n\u001b[0;32m     <a href='vscode-notebook-cell:/c%3A/Users/tobia/Documents/Bootcamp/03_datacleaning_storytelling_pd_matplot/00_eniac_data/data_exploration.ipynb#ch0000024?line=14'>15</a>\u001b[0m (\n\u001b[1;32m---> <a href='vscode-notebook-cell:/c%3A/Users/tobia/Documents/Bootcamp/03_datacleaning_storytelling_pd_matplot/00_eniac_data/data_exploration.ipynb#ch0000024?line=15'>16</a>\u001b[0m products\n\u001b[0;32m     <a href='vscode-notebook-cell:/c%3A/Users/tobia/Documents/Bootcamp/03_datacleaning_storytelling_pd_matplot/00_eniac_data/data_exploration.ipynb#ch0000024?line=16'>17</a>\u001b[0m     \u001b[39m.\u001b[39;49mdropna()\n\u001b[0;32m     <a href='vscode-notebook-cell:/c%3A/Users/tobia/Documents/Bootcamp/03_datacleaning_storytelling_pd_matplot/00_eniac_data/data_exploration.ipynb#ch0000024?line=17'>18</a>\u001b[0m     \u001b[39m.\u001b[39;49mquery(\u001b[39m\"\u001b[39;49m\u001b[39mprice.str.match(\u001b[39;49m\u001b[39m'\u001b[39;49m\u001b[39m.*\u001b[39;49m\u001b[39m\\\u001b[39;49m\u001b[39m.\u001b[39;49m\u001b[39m\\\u001b[39;49m\u001b[39md\u001b[39;49m\u001b[39m{3}\u001b[39;49;00m\u001b[39m$\u001b[39;49m\u001b[39m'\u001b[39;49m\u001b[39m)\u001b[39;49m\u001b[39m\"\u001b[39;49m)\n\u001b[0;32m     <a href='vscode-notebook-cell:/c%3A/Users/tobia/Documents/Bootcamp/03_datacleaning_storytelling_pd_matplot/00_eniac_data/data_exploration.ipynb#ch0000024?line=18'>19</a>\u001b[0m     \u001b[39m.\u001b[39mhead(\u001b[39m25\u001b[39m)\n\u001b[0;32m     <a href='vscode-notebook-cell:/c%3A/Users/tobia/Documents/Bootcamp/03_datacleaning_storytelling_pd_matplot/00_eniac_data/data_exploration.ipynb#ch0000024?line=19'>20</a>\u001b[0m )\n",
      "File \u001b[1;32mc:\\Users\\tobia\\miniconda3\\envs\\home\\lib\\site-packages\\pandas\\core\\frame.py:4111\u001b[0m, in \u001b[0;36mDataFrame.query\u001b[1;34m(self, expr, inplace, **kwargs)\u001b[0m\n\u001b[0;32m   4109\u001b[0m kwargs[\u001b[39m\"\u001b[39m\u001b[39mlevel\u001b[39m\u001b[39m\"\u001b[39m] \u001b[39m=\u001b[39m kwargs\u001b[39m.\u001b[39mpop(\u001b[39m\"\u001b[39m\u001b[39mlevel\u001b[39m\u001b[39m\"\u001b[39m, \u001b[39m0\u001b[39m) \u001b[39m+\u001b[39m \u001b[39m1\u001b[39m\n\u001b[0;32m   4110\u001b[0m kwargs[\u001b[39m\"\u001b[39m\u001b[39mtarget\u001b[39m\u001b[39m\"\u001b[39m] \u001b[39m=\u001b[39m \u001b[39mNone\u001b[39;00m\n\u001b[1;32m-> 4111\u001b[0m res \u001b[39m=\u001b[39m \u001b[39mself\u001b[39m\u001b[39m.\u001b[39meval(expr, \u001b[39m*\u001b[39m\u001b[39m*\u001b[39mkwargs)\n\u001b[0;32m   4113\u001b[0m \u001b[39mtry\u001b[39;00m:\n\u001b[0;32m   4114\u001b[0m     result \u001b[39m=\u001b[39m \u001b[39mself\u001b[39m\u001b[39m.\u001b[39mloc[res]\n",
      "File \u001b[1;32mc:\\Users\\tobia\\miniconda3\\envs\\home\\lib\\site-packages\\pandas\\core\\frame.py:4240\u001b[0m, in \u001b[0;36mDataFrame.eval\u001b[1;34m(self, expr, inplace, **kwargs)\u001b[0m\n\u001b[0;32m   4237\u001b[0m     kwargs[\u001b[39m\"\u001b[39m\u001b[39mtarget\u001b[39m\u001b[39m\"\u001b[39m] \u001b[39m=\u001b[39m \u001b[39mself\u001b[39m\n\u001b[0;32m   4238\u001b[0m kwargs[\u001b[39m\"\u001b[39m\u001b[39mresolvers\u001b[39m\u001b[39m\"\u001b[39m] \u001b[39m=\u001b[39m \u001b[39mtuple\u001b[39m(kwargs\u001b[39m.\u001b[39mget(\u001b[39m\"\u001b[39m\u001b[39mresolvers\u001b[39m\u001b[39m\"\u001b[39m, ())) \u001b[39m+\u001b[39m resolvers\n\u001b[1;32m-> 4240\u001b[0m \u001b[39mreturn\u001b[39;00m _eval(expr, inplace\u001b[39m=\u001b[39minplace, \u001b[39m*\u001b[39m\u001b[39m*\u001b[39mkwargs)\n",
      "File \u001b[1;32mc:\\Users\\tobia\\miniconda3\\envs\\home\\lib\\site-packages\\pandas\\core\\computation\\eval.py:350\u001b[0m, in \u001b[0;36meval\u001b[1;34m(expr, parser, engine, truediv, local_dict, global_dict, resolvers, level, target, inplace)\u001b[0m\n\u001b[0;32m    341\u001b[0m \u001b[39m# get our (possibly passed-in) scope\u001b[39;00m\n\u001b[0;32m    342\u001b[0m env \u001b[39m=\u001b[39m ensure_scope(\n\u001b[0;32m    343\u001b[0m     level \u001b[39m+\u001b[39m \u001b[39m1\u001b[39m,\n\u001b[0;32m    344\u001b[0m     global_dict\u001b[39m=\u001b[39mglobal_dict,\n\u001b[1;32m   (...)\u001b[0m\n\u001b[0;32m    347\u001b[0m     target\u001b[39m=\u001b[39mtarget,\n\u001b[0;32m    348\u001b[0m )\n\u001b[1;32m--> 350\u001b[0m parsed_expr \u001b[39m=\u001b[39m Expr(expr, engine\u001b[39m=\u001b[39;49mengine, parser\u001b[39m=\u001b[39;49mparser, env\u001b[39m=\u001b[39;49menv)\n\u001b[0;32m    352\u001b[0m \u001b[39m# construct the engine and evaluate the parsed expression\u001b[39;00m\n\u001b[0;32m    353\u001b[0m eng \u001b[39m=\u001b[39m ENGINES[engine]\n",
      "File \u001b[1;32mc:\\Users\\tobia\\miniconda3\\envs\\home\\lib\\site-packages\\pandas\\core\\computation\\expr.py:811\u001b[0m, in \u001b[0;36mExpr.__init__\u001b[1;34m(self, expr, engine, parser, env, level)\u001b[0m\n\u001b[0;32m    809\u001b[0m \u001b[39mself\u001b[39m\u001b[39m.\u001b[39mparser \u001b[39m=\u001b[39m parser\n\u001b[0;32m    810\u001b[0m \u001b[39mself\u001b[39m\u001b[39m.\u001b[39m_visitor \u001b[39m=\u001b[39m PARSERS[parser](\u001b[39mself\u001b[39m\u001b[39m.\u001b[39menv, \u001b[39mself\u001b[39m\u001b[39m.\u001b[39mengine, \u001b[39mself\u001b[39m\u001b[39m.\u001b[39mparser)\n\u001b[1;32m--> 811\u001b[0m \u001b[39mself\u001b[39m\u001b[39m.\u001b[39mterms \u001b[39m=\u001b[39m \u001b[39mself\u001b[39;49m\u001b[39m.\u001b[39;49mparse()\n",
      "File \u001b[1;32mc:\\Users\\tobia\\miniconda3\\envs\\home\\lib\\site-packages\\pandas\\core\\computation\\expr.py:830\u001b[0m, in \u001b[0;36mExpr.parse\u001b[1;34m(self)\u001b[0m\n\u001b[0;32m    826\u001b[0m \u001b[39mdef\u001b[39;00m \u001b[39mparse\u001b[39m(\u001b[39mself\u001b[39m):\n\u001b[0;32m    827\u001b[0m     \u001b[39m\"\"\"\u001b[39;00m\n\u001b[0;32m    828\u001b[0m \u001b[39m    Parse an expression.\u001b[39;00m\n\u001b[0;32m    829\u001b[0m \u001b[39m    \"\"\"\u001b[39;00m\n\u001b[1;32m--> 830\u001b[0m     \u001b[39mreturn\u001b[39;00m \u001b[39mself\u001b[39;49m\u001b[39m.\u001b[39;49m_visitor\u001b[39m.\u001b[39;49mvisit(\u001b[39mself\u001b[39;49m\u001b[39m.\u001b[39;49mexpr)\n",
      "File \u001b[1;32mc:\\Users\\tobia\\miniconda3\\envs\\home\\lib\\site-packages\\pandas\\core\\computation\\expr.py:415\u001b[0m, in \u001b[0;36mBaseExprVisitor.visit\u001b[1;34m(self, node, **kwargs)\u001b[0m\n\u001b[0;32m    413\u001b[0m method \u001b[39m=\u001b[39m \u001b[39m\"\u001b[39m\u001b[39mvisit_\u001b[39m\u001b[39m\"\u001b[39m \u001b[39m+\u001b[39m \u001b[39mtype\u001b[39m(node)\u001b[39m.\u001b[39m\u001b[39m__name__\u001b[39m\n\u001b[0;32m    414\u001b[0m visitor \u001b[39m=\u001b[39m \u001b[39mgetattr\u001b[39m(\u001b[39mself\u001b[39m, method)\n\u001b[1;32m--> 415\u001b[0m \u001b[39mreturn\u001b[39;00m visitor(node, \u001b[39m*\u001b[39m\u001b[39m*\u001b[39mkwargs)\n",
      "File \u001b[1;32mc:\\Users\\tobia\\miniconda3\\envs\\home\\lib\\site-packages\\pandas\\core\\computation\\expr.py:421\u001b[0m, in \u001b[0;36mBaseExprVisitor.visit_Module\u001b[1;34m(self, node, **kwargs)\u001b[0m\n\u001b[0;32m    419\u001b[0m     \u001b[39mraise\u001b[39;00m \u001b[39mSyntaxError\u001b[39;00m(\u001b[39m\"\u001b[39m\u001b[39monly a single expression is allowed\u001b[39m\u001b[39m\"\u001b[39m)\n\u001b[0;32m    420\u001b[0m expr \u001b[39m=\u001b[39m node\u001b[39m.\u001b[39mbody[\u001b[39m0\u001b[39m]\n\u001b[1;32m--> 421\u001b[0m \u001b[39mreturn\u001b[39;00m \u001b[39mself\u001b[39m\u001b[39m.\u001b[39mvisit(expr, \u001b[39m*\u001b[39m\u001b[39m*\u001b[39mkwargs)\n",
      "File \u001b[1;32mc:\\Users\\tobia\\miniconda3\\envs\\home\\lib\\site-packages\\pandas\\core\\computation\\expr.py:415\u001b[0m, in \u001b[0;36mBaseExprVisitor.visit\u001b[1;34m(self, node, **kwargs)\u001b[0m\n\u001b[0;32m    413\u001b[0m method \u001b[39m=\u001b[39m \u001b[39m\"\u001b[39m\u001b[39mvisit_\u001b[39m\u001b[39m\"\u001b[39m \u001b[39m+\u001b[39m \u001b[39mtype\u001b[39m(node)\u001b[39m.\u001b[39m\u001b[39m__name__\u001b[39m\n\u001b[0;32m    414\u001b[0m visitor \u001b[39m=\u001b[39m \u001b[39mgetattr\u001b[39m(\u001b[39mself\u001b[39m, method)\n\u001b[1;32m--> 415\u001b[0m \u001b[39mreturn\u001b[39;00m visitor(node, \u001b[39m*\u001b[39m\u001b[39m*\u001b[39mkwargs)\n",
      "File \u001b[1;32mc:\\Users\\tobia\\miniconda3\\envs\\home\\lib\\site-packages\\pandas\\core\\computation\\expr.py:424\u001b[0m, in \u001b[0;36mBaseExprVisitor.visit_Expr\u001b[1;34m(self, node, **kwargs)\u001b[0m\n\u001b[0;32m    423\u001b[0m \u001b[39mdef\u001b[39;00m \u001b[39mvisit_Expr\u001b[39m(\u001b[39mself\u001b[39m, node, \u001b[39m*\u001b[39m\u001b[39m*\u001b[39mkwargs):\n\u001b[1;32m--> 424\u001b[0m     \u001b[39mreturn\u001b[39;00m \u001b[39mself\u001b[39m\u001b[39m.\u001b[39mvisit(node\u001b[39m.\u001b[39mvalue, \u001b[39m*\u001b[39m\u001b[39m*\u001b[39mkwargs)\n",
      "File \u001b[1;32mc:\\Users\\tobia\\miniconda3\\envs\\home\\lib\\site-packages\\pandas\\core\\computation\\expr.py:415\u001b[0m, in \u001b[0;36mBaseExprVisitor.visit\u001b[1;34m(self, node, **kwargs)\u001b[0m\n\u001b[0;32m    413\u001b[0m method \u001b[39m=\u001b[39m \u001b[39m\"\u001b[39m\u001b[39mvisit_\u001b[39m\u001b[39m\"\u001b[39m \u001b[39m+\u001b[39m \u001b[39mtype\u001b[39m(node)\u001b[39m.\u001b[39m\u001b[39m__name__\u001b[39m\n\u001b[0;32m    414\u001b[0m visitor \u001b[39m=\u001b[39m \u001b[39mgetattr\u001b[39m(\u001b[39mself\u001b[39m, method)\n\u001b[1;32m--> 415\u001b[0m \u001b[39mreturn\u001b[39;00m visitor(node, \u001b[39m*\u001b[39m\u001b[39m*\u001b[39mkwargs)\n",
      "File \u001b[1;32mc:\\Users\\tobia\\miniconda3\\envs\\home\\lib\\site-packages\\pandas\\core\\computation\\expr.py:661\u001b[0m, in \u001b[0;36mBaseExprVisitor.visit_Call\u001b[1;34m(self, node, side, **kwargs)\u001b[0m\n\u001b[0;32m    658\u001b[0m \u001b[39mdef\u001b[39;00m \u001b[39mvisit_Call\u001b[39m(\u001b[39mself\u001b[39m, node, side\u001b[39m=\u001b[39m\u001b[39mNone\u001b[39;00m, \u001b[39m*\u001b[39m\u001b[39m*\u001b[39mkwargs):\n\u001b[0;32m    660\u001b[0m     \u001b[39mif\u001b[39;00m \u001b[39misinstance\u001b[39m(node\u001b[39m.\u001b[39mfunc, ast\u001b[39m.\u001b[39mAttribute) \u001b[39mand\u001b[39;00m node\u001b[39m.\u001b[39mfunc\u001b[39m.\u001b[39mattr \u001b[39m!=\u001b[39m \u001b[39m\"\u001b[39m\u001b[39m__call__\u001b[39m\u001b[39m\"\u001b[39m:\n\u001b[1;32m--> 661\u001b[0m         res \u001b[39m=\u001b[39m \u001b[39mself\u001b[39;49m\u001b[39m.\u001b[39;49mvisit_Attribute(node\u001b[39m.\u001b[39;49mfunc)\n\u001b[0;32m    662\u001b[0m     \u001b[39melif\u001b[39;00m \u001b[39mnot\u001b[39;00m \u001b[39misinstance\u001b[39m(node\u001b[39m.\u001b[39mfunc, ast\u001b[39m.\u001b[39mName):\n\u001b[0;32m    663\u001b[0m         \u001b[39mraise\u001b[39;00m \u001b[39mTypeError\u001b[39;00m(\u001b[39m\"\u001b[39m\u001b[39mOnly named functions are supported\u001b[39m\u001b[39m\"\u001b[39m)\n",
      "File \u001b[1;32mc:\\Users\\tobia\\miniconda3\\envs\\home\\lib\\site-packages\\pandas\\core\\computation\\expr.py:645\u001b[0m, in \u001b[0;36mBaseExprVisitor.visit_Attribute\u001b[1;34m(self, node, **kwargs)\u001b[0m\n\u001b[0;32m    642\u001b[0m ctx \u001b[39m=\u001b[39m node\u001b[39m.\u001b[39mctx\n\u001b[0;32m    643\u001b[0m \u001b[39mif\u001b[39;00m \u001b[39misinstance\u001b[39m(ctx, ast\u001b[39m.\u001b[39mLoad):\n\u001b[0;32m    644\u001b[0m     \u001b[39m# resolve the value\u001b[39;00m\n\u001b[1;32m--> 645\u001b[0m     resolved \u001b[39m=\u001b[39m \u001b[39mself\u001b[39;49m\u001b[39m.\u001b[39;49mvisit(value)\u001b[39m.\u001b[39mvalue\n\u001b[0;32m    646\u001b[0m     \u001b[39mtry\u001b[39;00m:\n\u001b[0;32m    647\u001b[0m         v \u001b[39m=\u001b[39m \u001b[39mgetattr\u001b[39m(resolved, attr)\n",
      "File \u001b[1;32mc:\\Users\\tobia\\miniconda3\\envs\\home\\lib\\site-packages\\pandas\\core\\computation\\expr.py:415\u001b[0m, in \u001b[0;36mBaseExprVisitor.visit\u001b[1;34m(self, node, **kwargs)\u001b[0m\n\u001b[0;32m    413\u001b[0m method \u001b[39m=\u001b[39m \u001b[39m\"\u001b[39m\u001b[39mvisit_\u001b[39m\u001b[39m\"\u001b[39m \u001b[39m+\u001b[39m \u001b[39mtype\u001b[39m(node)\u001b[39m.\u001b[39m\u001b[39m__name__\u001b[39m\n\u001b[0;32m    414\u001b[0m visitor \u001b[39m=\u001b[39m \u001b[39mgetattr\u001b[39m(\u001b[39mself\u001b[39m, method)\n\u001b[1;32m--> 415\u001b[0m \u001b[39mreturn\u001b[39;00m visitor(node, \u001b[39m*\u001b[39m\u001b[39m*\u001b[39mkwargs)\n",
      "File \u001b[1;32mc:\\Users\\tobia\\miniconda3\\envs\\home\\lib\\site-packages\\pandas\\core\\computation\\expr.py:647\u001b[0m, in \u001b[0;36mBaseExprVisitor.visit_Attribute\u001b[1;34m(self, node, **kwargs)\u001b[0m\n\u001b[0;32m    645\u001b[0m resolved \u001b[39m=\u001b[39m \u001b[39mself\u001b[39m\u001b[39m.\u001b[39mvisit(value)\u001b[39m.\u001b[39mvalue\n\u001b[0;32m    646\u001b[0m \u001b[39mtry\u001b[39;00m:\n\u001b[1;32m--> 647\u001b[0m     v \u001b[39m=\u001b[39m \u001b[39mgetattr\u001b[39;49m(resolved, attr)\n\u001b[0;32m    648\u001b[0m     name \u001b[39m=\u001b[39m \u001b[39mself\u001b[39m\u001b[39m.\u001b[39menv\u001b[39m.\u001b[39madd_tmp(v)\n\u001b[0;32m    649\u001b[0m     \u001b[39mreturn\u001b[39;00m \u001b[39mself\u001b[39m\u001b[39m.\u001b[39mterm_type(name, \u001b[39mself\u001b[39m\u001b[39m.\u001b[39menv)\n",
      "File \u001b[1;32mc:\\Users\\tobia\\miniconda3\\envs\\home\\lib\\site-packages\\pandas\\core\\generic.py:5575\u001b[0m, in \u001b[0;36mNDFrame.__getattr__\u001b[1;34m(self, name)\u001b[0m\n\u001b[0;32m   5568\u001b[0m \u001b[39mif\u001b[39;00m (\n\u001b[0;32m   5569\u001b[0m     name \u001b[39mnot\u001b[39;00m \u001b[39min\u001b[39;00m \u001b[39mself\u001b[39m\u001b[39m.\u001b[39m_internal_names_set\n\u001b[0;32m   5570\u001b[0m     \u001b[39mand\u001b[39;00m name \u001b[39mnot\u001b[39;00m \u001b[39min\u001b[39;00m \u001b[39mself\u001b[39m\u001b[39m.\u001b[39m_metadata\n\u001b[0;32m   5571\u001b[0m     \u001b[39mand\u001b[39;00m name \u001b[39mnot\u001b[39;00m \u001b[39min\u001b[39;00m \u001b[39mself\u001b[39m\u001b[39m.\u001b[39m_accessors\n\u001b[0;32m   5572\u001b[0m     \u001b[39mand\u001b[39;00m \u001b[39mself\u001b[39m\u001b[39m.\u001b[39m_info_axis\u001b[39m.\u001b[39m_can_hold_identifiers_and_holds_name(name)\n\u001b[0;32m   5573\u001b[0m ):\n\u001b[0;32m   5574\u001b[0m     \u001b[39mreturn\u001b[39;00m \u001b[39mself\u001b[39m[name]\n\u001b[1;32m-> 5575\u001b[0m \u001b[39mreturn\u001b[39;00m \u001b[39mobject\u001b[39;49m\u001b[39m.\u001b[39;49m\u001b[39m__getattribute__\u001b[39;49m(\u001b[39mself\u001b[39;49m, name)\n",
      "File \u001b[1;32mc:\\Users\\tobia\\miniconda3\\envs\\home\\lib\\site-packages\\pandas\\core\\accessor.py:182\u001b[0m, in \u001b[0;36mCachedAccessor.__get__\u001b[1;34m(self, obj, cls)\u001b[0m\n\u001b[0;32m    179\u001b[0m \u001b[39mif\u001b[39;00m obj \u001b[39mis\u001b[39;00m \u001b[39mNone\u001b[39;00m:\n\u001b[0;32m    180\u001b[0m     \u001b[39m# we're accessing the attribute of the class, i.e., Dataset.geo\u001b[39;00m\n\u001b[0;32m    181\u001b[0m     \u001b[39mreturn\u001b[39;00m \u001b[39mself\u001b[39m\u001b[39m.\u001b[39m_accessor\n\u001b[1;32m--> 182\u001b[0m accessor_obj \u001b[39m=\u001b[39m \u001b[39mself\u001b[39;49m\u001b[39m.\u001b[39;49m_accessor(obj)\n\u001b[0;32m    183\u001b[0m \u001b[39m# Replace the property with the accessor object. Inspired by:\u001b[39;00m\n\u001b[0;32m    184\u001b[0m \u001b[39m# https://www.pydanny.com/cached-property.html\u001b[39;00m\n\u001b[0;32m    185\u001b[0m \u001b[39m# We need to use object.__setattr__ because we overwrite __setattr__ on\u001b[39;00m\n\u001b[0;32m    186\u001b[0m \u001b[39m# NDFrame\u001b[39;00m\n\u001b[0;32m    187\u001b[0m \u001b[39mobject\u001b[39m\u001b[39m.\u001b[39m\u001b[39m__setattr__\u001b[39m(obj, \u001b[39mself\u001b[39m\u001b[39m.\u001b[39m_name, accessor_obj)\n",
      "File \u001b[1;32mc:\\Users\\tobia\\miniconda3\\envs\\home\\lib\\site-packages\\pandas\\core\\strings\\accessor.py:177\u001b[0m, in \u001b[0;36mStringMethods.__init__\u001b[1;34m(self, data)\u001b[0m\n\u001b[0;32m    174\u001b[0m \u001b[39mdef\u001b[39;00m \u001b[39m__init__\u001b[39m(\u001b[39mself\u001b[39m, data):\n\u001b[0;32m    175\u001b[0m     \u001b[39mfrom\u001b[39;00m \u001b[39mpandas\u001b[39;00m\u001b[39m.\u001b[39;00m\u001b[39mcore\u001b[39;00m\u001b[39m.\u001b[39;00m\u001b[39marrays\u001b[39;00m\u001b[39m.\u001b[39;00m\u001b[39mstring_\u001b[39;00m \u001b[39mimport\u001b[39;00m StringDtype\n\u001b[1;32m--> 177\u001b[0m     \u001b[39mself\u001b[39m\u001b[39m.\u001b[39m_inferred_dtype \u001b[39m=\u001b[39m \u001b[39mself\u001b[39;49m\u001b[39m.\u001b[39;49m_validate(data)\n\u001b[0;32m    178\u001b[0m     \u001b[39mself\u001b[39m\u001b[39m.\u001b[39m_is_categorical \u001b[39m=\u001b[39m is_categorical_dtype(data\u001b[39m.\u001b[39mdtype)\n\u001b[0;32m    179\u001b[0m     \u001b[39mself\u001b[39m\u001b[39m.\u001b[39m_is_string \u001b[39m=\u001b[39m \u001b[39misinstance\u001b[39m(data\u001b[39m.\u001b[39mdtype, StringDtype)\n",
      "File \u001b[1;32mc:\\Users\\tobia\\miniconda3\\envs\\home\\lib\\site-packages\\pandas\\core\\strings\\accessor.py:231\u001b[0m, in \u001b[0;36mStringMethods._validate\u001b[1;34m(data)\u001b[0m\n\u001b[0;32m    228\u001b[0m inferred_dtype \u001b[39m=\u001b[39m lib\u001b[39m.\u001b[39minfer_dtype(values, skipna\u001b[39m=\u001b[39m\u001b[39mTrue\u001b[39;00m)\n\u001b[0;32m    230\u001b[0m \u001b[39mif\u001b[39;00m inferred_dtype \u001b[39mnot\u001b[39;00m \u001b[39min\u001b[39;00m allowed_types:\n\u001b[1;32m--> 231\u001b[0m     \u001b[39mraise\u001b[39;00m \u001b[39mAttributeError\u001b[39;00m(\u001b[39m\"\u001b[39m\u001b[39mCan only use .str accessor with string values!\u001b[39m\u001b[39m\"\u001b[39m)\n\u001b[0;32m    232\u001b[0m \u001b[39mreturn\u001b[39;00m inferred_dtype\n",
      "\u001b[1;31mAttributeError\u001b[0m: Can only use .str accessor with string values!"
     ]
    }
   ],
   "source": [
    "# TESTING CELL\n",
    "\n",
    "# (\n",
    "# products\n",
    "#     .dropna()\n",
    "#     .query(\"price.str.len() > 6\", engine = 'python')\n",
    "#     .head(15)   \n",
    "# )\n",
    "# (\n",
    "# products\n",
    "#     .dropna()\n",
    "#     .count()\n",
    "# )\n",
    "\n",
    "# (\n",
    "# products\n",
    "#     .dropna()\n",
    "#     .query(\"price.str.match('.*\\.\\d{3}$')\")\n",
    "#     .head(25)\n",
    "# )\n"
   ]
  },
  {
   "cell_type": "markdown",
   "metadata": {},
   "source": [
    "### Price and Column Price Columns\n",
    "* First idea is to remove all rows containing prices that have three digits after the last dot\n",
    "* For now dropping all na\n",
    "* Checking the number of rows that have this issue: \n",
    "    * price: 537 / 10477 total rows\n",
    "    * promo_price: 9638 / 10477 total rows"
   ]
  },
  {
   "cell_type": "markdown",
   "metadata": {},
   "source": [
    "## Cleaning brands"
   ]
  },
  {
   "cell_type": "code",
   "execution_count": null,
   "metadata": {},
   "outputs": [],
   "source": []
  },
  {
   "cell_type": "markdown",
   "metadata": {},
   "source": [
    "# Data-Consistency Checks"
   ]
  },
  {
   "cell_type": "markdown",
   "metadata": {},
   "source": [
    "## Dates between orders and orderlines"
   ]
  },
  {
   "cell_type": "code",
   "execution_count": 12,
   "metadata": {},
   "outputs": [
    {
     "data": {
      "text/html": [
       "<div>\n",
       "<style scoped>\n",
       "    .dataframe tbody tr th:only-of-type {\n",
       "        vertical-align: middle;\n",
       "    }\n",
       "\n",
       "    .dataframe tbody tr th {\n",
       "        vertical-align: top;\n",
       "    }\n",
       "\n",
       "    .dataframe thead th {\n",
       "        text-align: right;\n",
       "    }\n",
       "</style>\n",
       "<table border=\"1\" class=\"dataframe\">\n",
       "  <thead>\n",
       "    <tr style=\"text-align: right;\">\n",
       "      <th></th>\n",
       "      <th>df</th>\n",
       "      <th>first_order</th>\n",
       "      <th>last_order</th>\n",
       "    </tr>\n",
       "  </thead>\n",
       "  <tbody>\n",
       "    <tr>\n",
       "      <th>0</th>\n",
       "      <td>orders</td>\n",
       "      <td>2017-01-01 00:07:19</td>\n",
       "      <td>2018-03-14 13:58:36</td>\n",
       "    </tr>\n",
       "    <tr>\n",
       "      <th>1</th>\n",
       "      <td>orderlines</td>\n",
       "      <td>2017-01-01 00:07:19</td>\n",
       "      <td>2018-03-14 13:58:36</td>\n",
       "    </tr>\n",
       "  </tbody>\n",
       "</table>\n",
       "</div>"
      ],
      "text/plain": [
       "           df         first_order          last_order\n",
       "0      orders 2017-01-01 00:07:19 2018-03-14 13:58:36\n",
       "1  orderlines 2017-01-01 00:07:19 2018-03-14 13:58:36"
      ]
     },
     "execution_count": 12,
     "metadata": {},
     "output_type": "execute_result"
    }
   ],
   "source": [
    "# Check whether dates of first and last orders match in orders vs orderlines\n",
    "\n",
    "min_date_orders=min(orders['created_date'])\n",
    "max_date_orders= max(orders['created_date'])\n",
    "min_date_orderlines = min(orderlines['date'])\n",
    "max_date_orderlines = max(orderlines['date'])\n",
    "\n",
    "pd.DataFrame(\n",
    "    {\n",
    "        'df': ['orders', 'orderlines'],\n",
    "        'first_order': [min_date_orders, min_date_orderlines],\n",
    "        'last_order': [max_date_orders, max_date_orderlines]\n",
    "    })"
   ]
  },
  {
   "cell_type": "markdown",
   "metadata": {},
   "source": [
    "## Total price between orders and orderlines"
   ]
  },
  {
   "cell_type": "code",
   "execution_count": 13,
   "metadata": {},
   "outputs": [
    {
     "name": "stdout",
     "output_type": "stream",
     "text": [
      "Total price sum in orders=     129159615.07000001\n",
      "Total price sum in orderlines= 128776222.02999999\n",
      "\n",
      "             id  order_id  product_id  product_quantity      sku  unit_price  \\\n",
      "5       1119114    295310           0                10  WDT0249      231.79   \n",
      "63      1119218    296284           0                 1  BNQ0042      699.00   \n",
      "67      1119223    294806           0                 1  APP1849     2558.99   \n",
      "69      1119226    294806           0                 1  APP1864     2797.99   \n",
      "70      1119235    297261           0                 1  QNA0177      304.99   \n",
      "...         ...       ...         ...               ...      ...         ...   \n",
      "275665  1621177    244328           0                 1  OWC0260      349.00   \n",
      "280055  1628699    261391           0                 1  APP2352     3343.00   \n",
      "280352  1629247    287797           0                 1  SYN0182      484.11   \n",
      "280856  1630150    261391           0                 1  SAT0091       44.99   \n",
      "280869  1630178    261391           0                 1  SAT0062       49.99   \n",
      "\n",
      "                      date  total_price  check_orders  \n",
      "5      2017-01-01 01:14:27      2317.90         False  \n",
      "63     2017-01-01 09:58:35       699.00         False  \n",
      "67     2017-01-01 10:09:15      2558.99         False  \n",
      "69     2017-01-01 10:15:14      2797.99         False  \n",
      "70     2017-01-01 10:17:59       304.99         False  \n",
      "...                    ...          ...           ...  \n",
      "275665 2018-02-20 13:00:45       349.00         False  \n",
      "280055 2018-02-27 11:43:25      3343.00         False  \n",
      "280352 2018-02-27 19:16:26       484.11         False  \n",
      "280856 2018-02-28 12:18:26        44.99         False  \n",
      "280869 2018-02-28 12:30:57        49.99         False  \n",
      "\n",
      "[240 rows x 9 columns]\n",
      "\n"
     ]
    }
   ],
   "source": [
    "# Exploration of price mismatch from perspective of ORDERLINES\n",
    "\n",
    "print(f'Total price sum in orders=     {orders.total_paid.sum()}\\nTotal price sum in orderlines= {orderlines.total_price.sum()}\\n')\n",
    "\n",
    "# Exploration of price mismatch from perspective of ORDERLINES\n",
    "## create copy of orderlines with column checking whether order id is also in orders df\n",
    "ol_copy = orderlines.assign(check_orders = orderlines['order_id'].isin(orders['order_id'])).copy()\n",
    "\n",
    "# check unequal rows\n",
    "print(\n",
    "ol_copy\n",
    "    .query(\"check_orders==False\")\n",
    ")\n",
    "print()\n",
    "\n",
    "# there are 240 rows of orders that are not in the orders df - these will be removed for now\n",
    "orderlines = (ol_copy\n",
    "              .query(\"check_orders==True\").copy())"
   ]
  },
  {
   "cell_type": "code",
   "execution_count": 14,
   "metadata": {},
   "outputs": [],
   "source": [
    "# Exploration of price mismatch from perspective of ORDERS\n",
    "# check whether order id is also in orderlines df\n",
    "(\n",
    "orders\n",
    " .assign(check_orders = orders['order_id'].isin(orderlines['order_id']))\n",
    " .query(\"check_orders==False\")\n",
    ")\n",
    "\n",
    "# check state of orders that are in orders but not in orderlines\n",
    "(\n",
    "orders\n",
    "    .assign(check_orders = orders['order_id'].isin(orderlines['order_id']))\n",
    "    .query(\"check_orders==False\")\n",
    "    ['state'].value_counts()\n",
    ")\n",
    "\n",
    "# Can be explored further, but for now all unmatched orders will be dropped\n",
    "orders = (orders\n",
    "            .assign(check_orders = orders['order_id'].isin(orderlines['order_id']))\n",
    "            .query(\"check_orders==True\")\n",
    "         )"
   ]
  },
  {
   "cell_type": "code",
   "execution_count": 15,
   "metadata": {},
   "outputs": [],
   "source": [
    "# Merge orderlines and order to check price-differences\n",
    "ol_orders_merged = (\n",
    "    orderlines\n",
    "        .groupby('order_id')\n",
    "        .agg({'total_price':'sum'})\n",
    "        .merge(orders, how='left', on='order_id')\n",
    "        .rename(columns= {\n",
    "            'total_price':'total_price_orderlines',\n",
    "            'total_paid': 'total_paid_orders'\n",
    "        })\n",
    "        .copy()\n",
    ")\n",
    "\n",
    "# create price-difference column and remove small differences\n",
    "def get_price_difference(row):\n",
    "    if (abs(row['total_price_orderlines'] - row['total_paid_orders']) < 0.01):\n",
    "        result = 0\n",
    "    else:\n",
    "        result = (row['total_price_orderlines'] - row['total_paid_orders'])\n",
    "    return result\n",
    "\n",
    "ol_orders_merged['price_diff'] = ol_orders_merged.apply(lambda row : get_price_difference(row), axis=1)\n"
   ]
  },
  {
   "cell_type": "code",
   "execution_count": 16,
   "metadata": {},
   "outputs": [
    {
     "data": {
      "text/html": [
       "<div>\n",
       "<style scoped>\n",
       "    .dataframe tbody tr th:only-of-type {\n",
       "        vertical-align: middle;\n",
       "    }\n",
       "\n",
       "    .dataframe tbody tr th {\n",
       "        vertical-align: top;\n",
       "    }\n",
       "\n",
       "    .dataframe thead th {\n",
       "        text-align: right;\n",
       "    }\n",
       "</style>\n",
       "<table border=\"1\" class=\"dataframe\">\n",
       "  <thead>\n",
       "    <tr style=\"text-align: right;\">\n",
       "      <th></th>\n",
       "      <th>order_id</th>\n",
       "      <th>total_price_orderlines</th>\n",
       "      <th>created_date</th>\n",
       "      <th>total_paid_orders</th>\n",
       "      <th>state</th>\n",
       "      <th>year</th>\n",
       "      <th>month</th>\n",
       "      <th>day_of_month</th>\n",
       "      <th>weekday</th>\n",
       "      <th>check_orders</th>\n",
       "      <th>price_diff</th>\n",
       "    </tr>\n",
       "  </thead>\n",
       "  <tbody>\n",
       "    <tr>\n",
       "      <th>145</th>\n",
       "      <td>297148</td>\n",
       "      <td>84.55</td>\n",
       "      <td>2017-01-01 16:42:24</td>\n",
       "      <td>4069.54</td>\n",
       "      <td>Completed</td>\n",
       "      <td>2017</td>\n",
       "      <td>1</td>\n",
       "      <td>1</td>\n",
       "      <td>Sunday</td>\n",
       "      <td>True</td>\n",
       "      <td>-3984.99</td>\n",
       "    </tr>\n",
       "    <tr>\n",
       "      <th>123</th>\n",
       "      <td>293308</td>\n",
       "      <td>66.49</td>\n",
       "      <td>2017-01-01 13:33:43</td>\n",
       "      <td>2635.47</td>\n",
       "      <td>Completed</td>\n",
       "      <td>2017</td>\n",
       "      <td>1</td>\n",
       "      <td>1</td>\n",
       "      <td>Sunday</td>\n",
       "      <td>True</td>\n",
       "      <td>-2568.98</td>\n",
       "    </tr>\n",
       "    <tr>\n",
       "      <th>191738</th>\n",
       "      <td>512894</td>\n",
       "      <td>1674.60</td>\n",
       "      <td>2018-02-16 13:25:30</td>\n",
       "      <td>3356.18</td>\n",
       "      <td>Completed</td>\n",
       "      <td>2018</td>\n",
       "      <td>2</td>\n",
       "      <td>16</td>\n",
       "      <td>Friday</td>\n",
       "      <td>True</td>\n",
       "      <td>-1681.58</td>\n",
       "    </tr>\n",
       "    <tr>\n",
       "      <th>188176</th>\n",
       "      <td>508825</td>\n",
       "      <td>1291.60</td>\n",
       "      <td>2018-02-16 11:21:44</td>\n",
       "      <td>2590.18</td>\n",
       "      <td>Completed</td>\n",
       "      <td>2018</td>\n",
       "      <td>2</td>\n",
       "      <td>16</td>\n",
       "      <td>Friday</td>\n",
       "      <td>True</td>\n",
       "      <td>-1298.58</td>\n",
       "    </tr>\n",
       "    <tr>\n",
       "      <th>192231</th>\n",
       "      <td>513447</td>\n",
       "      <td>94.98</td>\n",
       "      <td>2018-02-17 19:26:59</td>\n",
       "      <td>486.89</td>\n",
       "      <td>Completed</td>\n",
       "      <td>2018</td>\n",
       "      <td>2</td>\n",
       "      <td>17</td>\n",
       "      <td>Saturday</td>\n",
       "      <td>True</td>\n",
       "      <td>-391.91</td>\n",
       "    </tr>\n",
       "    <tr>\n",
       "      <th>191838</th>\n",
       "      <td>513009</td>\n",
       "      <td>20.00</td>\n",
       "      <td>2018-02-16 17:33:09</td>\n",
       "      <td>406.80</td>\n",
       "      <td>Completed</td>\n",
       "      <td>2018</td>\n",
       "      <td>2</td>\n",
       "      <td>16</td>\n",
       "      <td>Friday</td>\n",
       "      <td>True</td>\n",
       "      <td>-386.80</td>\n",
       "    </tr>\n",
       "    <tr>\n",
       "      <th>191134</th>\n",
       "      <td>512146</td>\n",
       "      <td>313.00</td>\n",
       "      <td>2018-02-15 17:32:17</td>\n",
       "      <td>632.98</td>\n",
       "      <td>Completed</td>\n",
       "      <td>2018</td>\n",
       "      <td>2</td>\n",
       "      <td>15</td>\n",
       "      <td>Thursday</td>\n",
       "      <td>True</td>\n",
       "      <td>-319.98</td>\n",
       "    </tr>\n",
       "    <tr>\n",
       "      <th>188923</th>\n",
       "      <td>509673</td>\n",
       "      <td>2408.99</td>\n",
       "      <td>2018-02-17 16:25:44</td>\n",
       "      <td>2708.97</td>\n",
       "      <td>Completed</td>\n",
       "      <td>2018</td>\n",
       "      <td>2</td>\n",
       "      <td>17</td>\n",
       "      <td>Saturday</td>\n",
       "      <td>True</td>\n",
       "      <td>-299.98</td>\n",
       "    </tr>\n",
       "    <tr>\n",
       "      <th>191874</th>\n",
       "      <td>513049</td>\n",
       "      <td>249.00</td>\n",
       "      <td>2018-02-16 19:03:22</td>\n",
       "      <td>504.98</td>\n",
       "      <td>Completed</td>\n",
       "      <td>2018</td>\n",
       "      <td>2</td>\n",
       "      <td>16</td>\n",
       "      <td>Friday</td>\n",
       "      <td>True</td>\n",
       "      <td>-255.98</td>\n",
       "    </tr>\n",
       "    <tr>\n",
       "      <th>191804</th>\n",
       "      <td>512969</td>\n",
       "      <td>123.99</td>\n",
       "      <td>2018-02-16 15:48:22</td>\n",
       "      <td>376.96</td>\n",
       "      <td>Completed</td>\n",
       "      <td>2018</td>\n",
       "      <td>2</td>\n",
       "      <td>16</td>\n",
       "      <td>Friday</td>\n",
       "      <td>True</td>\n",
       "      <td>-252.97</td>\n",
       "    </tr>\n",
       "  </tbody>\n",
       "</table>\n",
       "</div>"
      ],
      "text/plain": [
       "        order_id  total_price_orderlines        created_date  \\\n",
       "145       297148                   84.55 2017-01-01 16:42:24   \n",
       "123       293308                   66.49 2017-01-01 13:33:43   \n",
       "191738    512894                 1674.60 2018-02-16 13:25:30   \n",
       "188176    508825                 1291.60 2018-02-16 11:21:44   \n",
       "192231    513447                   94.98 2018-02-17 19:26:59   \n",
       "191838    513009                   20.00 2018-02-16 17:33:09   \n",
       "191134    512146                  313.00 2018-02-15 17:32:17   \n",
       "188923    509673                 2408.99 2018-02-17 16:25:44   \n",
       "191874    513049                  249.00 2018-02-16 19:03:22   \n",
       "191804    512969                  123.99 2018-02-16 15:48:22   \n",
       "\n",
       "        total_paid_orders      state  year  month  day_of_month   weekday  \\\n",
       "145               4069.54  Completed  2017      1             1    Sunday   \n",
       "123               2635.47  Completed  2017      1             1    Sunday   \n",
       "191738            3356.18  Completed  2018      2            16    Friday   \n",
       "188176            2590.18  Completed  2018      2            16    Friday   \n",
       "192231             486.89  Completed  2018      2            17  Saturday   \n",
       "191838             406.80  Completed  2018      2            16    Friday   \n",
       "191134             632.98  Completed  2018      2            15  Thursday   \n",
       "188923            2708.97  Completed  2018      2            17  Saturday   \n",
       "191874             504.98  Completed  2018      2            16    Friday   \n",
       "191804             376.96  Completed  2018      2            16    Friday   \n",
       "\n",
       "        check_orders  price_diff  \n",
       "145             True    -3984.99  \n",
       "123             True    -2568.98  \n",
       "191738          True    -1681.58  \n",
       "188176          True    -1298.58  \n",
       "192231          True     -391.91  \n",
       "191838          True     -386.80  \n",
       "191134          True     -319.98  \n",
       "188923          True     -299.98  \n",
       "191874          True     -255.98  \n",
       "191804          True     -252.97  "
      ]
     },
     "execution_count": 16,
     "metadata": {},
     "output_type": "execute_result"
    }
   ],
   "source": [
    "# Explore price differences\n",
    "\n",
    "# (\n",
    "# ol_orders_merged\n",
    "#     .query(\"price_diff != 0 & state == 'Completed'\")\n",
    "#     .price_diff.describe()\n",
    "# )\n",
    "\n",
    "(\n",
    "ol_orders_merged\n",
    "    .query(\"price_diff != 0 & state == 'Completed'\")\n",
    "    .sort_values(by='price_diff')\n",
    "    .head(10)\n",
    ")"
   ]
  },
  {
   "cell_type": "markdown",
   "metadata": {},
   "source": [
    "### Insights on price-differences\n",
    "\n",
    "* by far the largest price-differences exist for orders that were not completed - maybe people who put a huge amount of products into their shopping cart\n",
    "* price differences that were less than +- 1 cent were set to 0 to clean the dataset \n",
    "* recommendation: remove all rows containing price-differences that are higher or lower than the highest or lowest order that was completed\n",
    "  * High cap = > 165.00 \n",
    "  * Low cap  = < -3984.99"
   ]
  },
  {
   "cell_type": "markdown",
   "metadata": {},
   "source": [
    "### Removal of orders with largest price-differences "
   ]
  },
  {
   "cell_type": "code",
   "execution_count": 17,
   "metadata": {},
   "outputs": [],
   "source": [
    "ol_orders_merged = (\n",
    "    ol_orders_merged\n",
    "        .query(\"(price_diff >= -3984.99) & (price_diff <= 165)\")\n",
    ")"
   ]
  },
  {
   "cell_type": "markdown",
   "metadata": {},
   "source": [
    "# Export of orders and orderlines"
   ]
  },
  {
   "cell_type": "code",
   "execution_count": 18,
   "metadata": {},
   "outputs": [],
   "source": [
    "orderlines.to_csv(R'C:\\Users\\tobia\\Documents\\Bootcamp\\03_datacleaning_storytelling_pd_matplot\\00_eniac_data\\cleaned_data\\orderlines_cleaned.csv', index=False)\n",
    "orders.to_csv(R'C:\\Users\\tobia\\Documents\\Bootcamp\\03_datacleaning_storytelling_pd_matplot\\00_eniac_data\\cleaned_data\\orders_cleaned.csv', index=False)"
   ]
  },
  {
   "cell_type": "markdown",
   "metadata": {},
   "source": [
    "# __Exploration of specific questions__"
   ]
  },
  {
   "cell_type": "markdown",
   "metadata": {},
   "source": [
    "## Suggested Questions\n",
    "\n",
    "__How many orders are there?__  \n",
    "226909 unique order_ids.  \n",
    "  \n",
    "__How many products are there?__  \n",
    "10579 unique products  \n",
    "\n",
    "__Which timespan is captured in the dataset?__  \n",
    "First order in dataset made on: 2017-01-01 00:07:19  \n",
    "Last order in dataset made on: 2018-03-14 13:58:36\n",
    "\n",
    "__How many orders are completed?__  \n",
    "46605 orders are completed.  \n",
    "  \n",
    "__How should revenue be computed?__  \n",
    "Summarize price of all unique orders with state = completed.  \n",
    "Total revenue from captured data: 15910079.24 €\n",
    "\n"
   ]
  },
  {
   "cell_type": "code",
   "execution_count": 19,
   "metadata": {},
   "outputs": [
    {
     "name": "stdout",
     "output_type": "stream",
     "text": [
      "First order in dataset made on: 2017-01-01 00:07:19\n",
      "Last order in dataset made on: 2018-03-14 13:58:36\n"
     ]
    },
    {
     "data": {
      "text/plain": [
       "15907059.889999995"
      ]
     },
     "execution_count": 19,
     "metadata": {},
     "output_type": "execute_result"
    }
   ],
   "source": [
    "# num of orders\n",
    "orders.order_id.nunique()\n",
    "# num of products\n",
    "products.sku.nunique()\n",
    "\n",
    "# timeperiod captured\n",
    "first_order = orders.created_date.min()\n",
    "last_order = orders.created_date.max()\n",
    "print(f'First order in dataset made on: {first_order}\\nLast order in dataset made on: {last_order}')\n",
    "\n",
    "# num of completed orders\n",
    "orders.loc[orders['state'] == 'Completed','order_id'].count()\n",
    "\n",
    "# revenue\n",
    "orders.loc[orders['state'] == 'Completed','total_paid'].sum()"
   ]
  },
  {
   "cell_type": "markdown",
   "metadata": {},
   "source": [
    "## Revenue  \n",
    "  \n",
    "__Monthly Revenue__:  \n"
   ]
  },
  {
   "cell_type": "code",
   "execution_count": 20,
   "metadata": {},
   "outputs": [
    {
     "ename": "AttributeError",
     "evalue": "'DataFrame' object has no attribute 'day_of_week'",
     "output_type": "error",
     "traceback": [
      "\u001b[1;31m---------------------------------------------------------------------------\u001b[0m",
      "\u001b[1;31mAttributeError\u001b[0m                            Traceback (most recent call last)",
      "\u001b[1;32mc:\\Users\\tobia\\Documents\\Bootcamp\\03_datacleaning_storytelling_pd_matplot\\00_eniac_data\\data_exploration.ipynb Cell 45\u001b[0m in \u001b[0;36m<cell line: 1>\u001b[1;34m()\u001b[0m\n\u001b[0;32m      <a href='vscode-notebook-cell:/c%3A/Users/tobia/Documents/Bootcamp/03_datacleaning_storytelling_pd_matplot/00_eniac_data/data_exploration.ipynb#ch0000044?line=0'>1</a>\u001b[0m rev_by_day \u001b[39m=\u001b[39m pd\u001b[39m.\u001b[39mDataFrame(\n\u001b[0;32m      <a href='vscode-notebook-cell:/c%3A/Users/tobia/Documents/Bootcamp/03_datacleaning_storytelling_pd_matplot/00_eniac_data/data_exploration.ipynb#ch0000044?line=1'>2</a>\u001b[0m     orders\n\u001b[0;32m      <a href='vscode-notebook-cell:/c%3A/Users/tobia/Documents/Bootcamp/03_datacleaning_storytelling_pd_matplot/00_eniac_data/data_exploration.ipynb#ch0000044?line=2'>3</a>\u001b[0m     \u001b[39m.\u001b[39mloc[orders[\u001b[39m'\u001b[39m\u001b[39mstate\u001b[39m\u001b[39m'\u001b[39m] \u001b[39m==\u001b[39m \u001b[39m'\u001b[39m\u001b[39mCompleted\u001b[39m\u001b[39m'\u001b[39m, \u001b[39m'\u001b[39m\u001b[39mtotal_paid\u001b[39m\u001b[39m'\u001b[39m]\n\u001b[1;32m----> <a href='vscode-notebook-cell:/c%3A/Users/tobia/Documents/Bootcamp/03_datacleaning_storytelling_pd_matplot/00_eniac_data/data_exploration.ipynb#ch0000044?line=3'>4</a>\u001b[0m     \u001b[39m.\u001b[39mgroupby(orders\u001b[39m.\u001b[39;49mday_of_week)\n\u001b[0;32m      <a href='vscode-notebook-cell:/c%3A/Users/tobia/Documents/Bootcamp/03_datacleaning_storytelling_pd_matplot/00_eniac_data/data_exploration.ipynb#ch0000044?line=4'>5</a>\u001b[0m     \u001b[39m.\u001b[39msum()\n\u001b[0;32m      <a href='vscode-notebook-cell:/c%3A/Users/tobia/Documents/Bootcamp/03_datacleaning_storytelling_pd_matplot/00_eniac_data/data_exploration.ipynb#ch0000044?line=5'>6</a>\u001b[0m )\n\u001b[0;32m      <a href='vscode-notebook-cell:/c%3A/Users/tobia/Documents/Bootcamp/03_datacleaning_storytelling_pd_matplot/00_eniac_data/data_exploration.ipynb#ch0000044?line=6'>7</a>\u001b[0m rev_by_day\u001b[39m.\u001b[39mreset_index(inplace\u001b[39m=\u001b[39m\u001b[39mTrue\u001b[39;00m)\n\u001b[0;32m      <a href='vscode-notebook-cell:/c%3A/Users/tobia/Documents/Bootcamp/03_datacleaning_storytelling_pd_matplot/00_eniac_data/data_exploration.ipynb#ch0000044?line=8'>9</a>\u001b[0m rev_by_day[\u001b[39m'\u001b[39m\u001b[39mday_of_week_cat\u001b[39m\u001b[39m'\u001b[39m] \u001b[39m=\u001b[39m pd\u001b[39m.\u001b[39mCategorical(\n\u001b[0;32m     <a href='vscode-notebook-cell:/c%3A/Users/tobia/Documents/Bootcamp/03_datacleaning_storytelling_pd_matplot/00_eniac_data/data_exploration.ipynb#ch0000044?line=9'>10</a>\u001b[0m     rev_by_day[\u001b[39m'\u001b[39m\u001b[39mday_of_week\u001b[39m\u001b[39m'\u001b[39m],\n\u001b[0;32m     <a href='vscode-notebook-cell:/c%3A/Users/tobia/Documents/Bootcamp/03_datacleaning_storytelling_pd_matplot/00_eniac_data/data_exploration.ipynb#ch0000044?line=10'>11</a>\u001b[0m     categories\u001b[39m=\u001b[39m[\u001b[39m'\u001b[39m\u001b[39mMonday\u001b[39m\u001b[39m'\u001b[39m, \u001b[39m'\u001b[39m\u001b[39mTuesday\u001b[39m\u001b[39m'\u001b[39m, \u001b[39m'\u001b[39m\u001b[39mWednesday\u001b[39m\u001b[39m'\u001b[39m, \u001b[39m'\u001b[39m\u001b[39mThursday\u001b[39m\u001b[39m'\u001b[39m, \u001b[39m'\u001b[39m\u001b[39mFriday\u001b[39m\u001b[39m'\u001b[39m, \u001b[39m'\u001b[39m\u001b[39mSaturday\u001b[39m\u001b[39m'\u001b[39m, \u001b[39m'\u001b[39m\u001b[39mSunday\u001b[39m\u001b[39m'\u001b[39m],\n\u001b[0;32m     <a href='vscode-notebook-cell:/c%3A/Users/tobia/Documents/Bootcamp/03_datacleaning_storytelling_pd_matplot/00_eniac_data/data_exploration.ipynb#ch0000044?line=11'>12</a>\u001b[0m     ordered \u001b[39m=\u001b[39m \u001b[39mTrue\u001b[39;00m\n\u001b[0;32m     <a href='vscode-notebook-cell:/c%3A/Users/tobia/Documents/Bootcamp/03_datacleaning_storytelling_pd_matplot/00_eniac_data/data_exploration.ipynb#ch0000044?line=12'>13</a>\u001b[0m )\n",
      "File \u001b[1;32mc:\\Users\\tobia\\miniconda3\\envs\\home\\lib\\site-packages\\pandas\\core\\generic.py:5575\u001b[0m, in \u001b[0;36mNDFrame.__getattr__\u001b[1;34m(self, name)\u001b[0m\n\u001b[0;32m   5568\u001b[0m \u001b[39mif\u001b[39;00m (\n\u001b[0;32m   5569\u001b[0m     name \u001b[39mnot\u001b[39;00m \u001b[39min\u001b[39;00m \u001b[39mself\u001b[39m\u001b[39m.\u001b[39m_internal_names_set\n\u001b[0;32m   5570\u001b[0m     \u001b[39mand\u001b[39;00m name \u001b[39mnot\u001b[39;00m \u001b[39min\u001b[39;00m \u001b[39mself\u001b[39m\u001b[39m.\u001b[39m_metadata\n\u001b[0;32m   5571\u001b[0m     \u001b[39mand\u001b[39;00m name \u001b[39mnot\u001b[39;00m \u001b[39min\u001b[39;00m \u001b[39mself\u001b[39m\u001b[39m.\u001b[39m_accessors\n\u001b[0;32m   5572\u001b[0m     \u001b[39mand\u001b[39;00m \u001b[39mself\u001b[39m\u001b[39m.\u001b[39m_info_axis\u001b[39m.\u001b[39m_can_hold_identifiers_and_holds_name(name)\n\u001b[0;32m   5573\u001b[0m ):\n\u001b[0;32m   5574\u001b[0m     \u001b[39mreturn\u001b[39;00m \u001b[39mself\u001b[39m[name]\n\u001b[1;32m-> 5575\u001b[0m \u001b[39mreturn\u001b[39;00m \u001b[39mobject\u001b[39;49m\u001b[39m.\u001b[39;49m\u001b[39m__getattribute__\u001b[39;49m(\u001b[39mself\u001b[39;49m, name)\n",
      "\u001b[1;31mAttributeError\u001b[0m: 'DataFrame' object has no attribute 'day_of_week'"
     ]
    }
   ],
   "source": [
    "rev_by_day = pd.DataFrame(\n",
    "    orders\n",
    "    .loc[orders['state'] == 'Completed', 'total_paid']\n",
    "    .groupby(orders.day_of_week)\n",
    "    .sum()\n",
    ")\n",
    "rev_by_day.reset_index(inplace=True)\n",
    "\n",
    "rev_by_day['day_of_week_cat'] = pd.Categorical(\n",
    "    rev_by_day['day_of_week'],\n",
    "    categories=['Monday', 'Tuesday', 'Wednesday', 'Thursday', 'Friday', 'Saturday', 'Sunday'],\n",
    "    ordered = True\n",
    ")\n",
    "rev_by_day = rev_by_day.sort_values('day_of_week_cat')\n",
    "\n",
    "print(rev_by_day.head(10))\n",
    "\n",
    "rev_by_day.plot.bar(x = 'day_of_week_cat')\n"
   ]
  }
 ],
 "metadata": {
  "kernelspec": {
   "display_name": "Python 3.9.5",
   "language": "python",
   "name": "python3"
  },
  "language_info": {
   "codemirror_mode": {
    "name": "ipython",
    "version": 3
   },
   "file_extension": ".py",
   "mimetype": "text/x-python",
   "name": "python",
   "nbconvert_exporter": "python",
   "pygments_lexer": "ipython3",
   "version": "3.9.5"
  },
  "orig_nbformat": 4,
  "vscode": {
   "interpreter": {
    "hash": "f32269641e17bf27d9ca909c2404938da1b1b2df6b9d3f5a88a1b877c863c5b8"
   }
  }
 },
 "nbformat": 4,
 "nbformat_minor": 2
}
