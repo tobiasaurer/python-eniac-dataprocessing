{
 "cells": [
  {
   "cell_type": "code",
   "execution_count": 41,
   "metadata": {},
   "outputs": [],
   "source": [
    "import pandas as pd\n",
    "import matplotlib\n",
    "import numpy as np\n",
    "import re\n",
    "import seaborn as sns\n",
    "import matplotlib.pyplot as plt"
   ]
  },
  {
   "cell_type": "markdown",
   "metadata": {},
   "source": [
    "# Data Exploration"
   ]
  },
  {
   "cell_type": "markdown",
   "metadata": {},
   "source": [
    "### __Read data to create dataframes__"
   ]
  },
  {
   "cell_type": "code",
   "execution_count": 2,
   "metadata": {},
   "outputs": [],
   "source": [
    "brands = pd.read_csv('brands.csv')\n",
    "orderlines = pd.read_csv('orderlines.csv')\n",
    "orders = pd.read_csv('orders.csv')\n",
    "products = pd.read_csv('products.csv')\n",
    "\n",
    "og_brands = pd.read_csv('brands.csv')\n",
    "og_orderlines = pd.read_csv('orderlines.csv')\n",
    "og_orders = pd.read_csv('orders.csv')\n",
    "og_products = pd.read_csv('products.csv')"
   ]
  },
  {
   "cell_type": "markdown",
   "metadata": {},
   "source": [
    "### __Inspect dataframes heads and tails__"
   ]
  },
  {
   "cell_type": "code",
   "execution_count": 3,
   "metadata": {},
   "outputs": [],
   "source": [
    "# print('###################### BRANDS \\n', brands.head(),'\\n', brands.tail(),'\\n---')\n",
    "# print('###################### ORDERLINES \\n', orderlines.head().to_string(),'\\n', orderlines.tail().to_string(),'\\n---')\n",
    "# print('###################### ORDERS \\n', orders.head().to_string(), '\\n', orders.tail().to_string(),'\\n---')\n",
    "# print('###################### PRODUCTS \\n', products.head().to_string(), '\\n', products.tail().to_string(),'\\n---')"
   ]
  },
  {
   "cell_type": "markdown",
   "metadata": {},
   "source": [
    "### __Gather some basic descriptives for all the dataframes__"
   ]
  },
  {
   "cell_type": "markdown",
   "metadata": {},
   "source": [
    "#### brands"
   ]
  },
  {
   "cell_type": "code",
   "execution_count": 4,
   "metadata": {},
   "outputs": [],
   "source": [
    "# print('\\n################################## .describe() \\n\\n', brands.describe())\n",
    "# print('\\n################################## .isna().any() \\n\\n', brands.isna().any())\n",
    "# print('\\n################################## .shape \\n\\n', brands.shape)\n",
    "# print('\\n################################## .columns \\n\\n', brands.columns)"
   ]
  },
  {
   "cell_type": "markdown",
   "metadata": {},
   "source": [
    "#### orderlines\n",
    "\n"
   ]
  },
  {
   "cell_type": "code",
   "execution_count": 5,
   "metadata": {},
   "outputs": [],
   "source": [
    "# print(orderlines.head().to_string())\n",
    "# print('\\n################################## .describe() \\n\\n', orderlines.describe())\n",
    "# print('\\n################################## .isna().any() \\n\\n', orderlines.isna().any())\n",
    "# print('\\n################################## .shape \\n\\n', orderlines.shape)\n",
    "# print('\\n################################## .columns \\n\\n', orderlines.columns)"
   ]
  },
  {
   "cell_type": "markdown",
   "metadata": {},
   "source": [
    "#### orders"
   ]
  },
  {
   "cell_type": "code",
   "execution_count": 6,
   "metadata": {},
   "outputs": [],
   "source": [
    "# print(orders.head())\n",
    "# print('\\n################################## .describe() \\n\\n', orders.describe())\n",
    "# print('\\n################################## .isna().any() \\n\\n', orders.isna().any())\n",
    "# print('\\n################################## .shape \\n\\n', orders.shape)\n",
    "# print('\\n################################## .columns \\n\\n', orders.columns)\n",
    "# print('\\n################################## .state.unique() \\n\\n', orders.state.unique())\n",
    "# print('\\n################################## .order_id.duplicated \\n\\n', orders.order_id.duplicated().sum())"
   ]
  },
  {
   "cell_type": "markdown",
   "metadata": {},
   "source": [
    "#### products"
   ]
  },
  {
   "cell_type": "code",
   "execution_count": 7,
   "metadata": {},
   "outputs": [],
   "source": [
    "# print(products.head().to_string())\n",
    "# print('\\n################################## .describe() \\n\\n', products.describe())\n",
    "# print('\\n################################## .isna().any() \\n\\n', products.isna().any())\n",
    "# print('\\n################################## .shape \\n\\n', products.shape)\n",
    "# print('\\n################################## .columns \\n\\n', products.columns)"
   ]
  },
  {
   "cell_type": "markdown",
   "metadata": {},
   "source": [
    "# __Datacleaning__"
   ]
  },
  {
   "cell_type": "markdown",
   "metadata": {},
   "source": [
    "## Cleaning orders"
   ]
  },
  {
   "cell_type": "code",
   "execution_count": 8,
   "metadata": {},
   "outputs": [
    {
     "name": "stdout",
     "output_type": "stream",
     "text": [
      "Nan-count before removal = 5\n",
      "Nan-count after removal = 0\n"
     ]
    }
   ],
   "source": [
    "# Convert datatypes\n",
    "orders['created_date'] = pd.to_datetime(orders['created_date'])\n",
    "\n",
    "# Create new columns for 'year' (int), 'month' (int), 'day_of_month' (int), 'weekday' (categorical variable, ordered)\n",
    "orders['year'] = pd.DatetimeIndex(orders['created_date']).year\n",
    "orders['month'] = pd.DatetimeIndex(orders['created_date']).month\n",
    "orders['day_of_month'] = pd.DatetimeIndex(orders['created_date']).day\n",
    "orders['weekday'] = orders['created_date'].dt.strftime('%A')\n",
    "\n",
    "# create sorted categories for weekday\n",
    "cats = [ 'Monday', 'Tuesday', 'Wednesday', 'Thursday', 'Friday', 'Saturday', 'Sunday']\n",
    "orders['weekday'] = pd.Categorical(orders['weekday'], categories = cats, ordered=True)\n",
    "\n",
    "# Exclude missing values in total_paid column (cause for missing values is order-state = pending) and check for na before and after manipulation\n",
    "print(f'Nan-count before removal = {orders.total_paid.isna().sum()}')\n",
    "orders.dropna(inplace=True)\n",
    "print(f'Nan-count after removal = {orders.total_paid.isna().sum()}')"
   ]
  },
  {
   "cell_type": "markdown",
   "metadata": {},
   "source": [
    "## Cleaning orderlines"
   ]
  },
  {
   "cell_type": "code",
   "execution_count": 9,
   "metadata": {},
   "outputs": [],
   "source": [
    "# Convert datatypes\n",
    "orderlines['date'] = pd.to_datetime(orderlines['date'])\n",
    "\n",
    "# rename id_order to order_id to standardize it\n",
    "orderlines.rename(columns={'id_order':'order_id'}, \n",
    "                   inplace=True)"
   ]
  },
  {
   "cell_type": "code",
   "execution_count": 10,
   "metadata": {},
   "outputs": [],
   "source": [
    "# FIX UNIT_PRICE COLUMN DECIMAL ISSUE\n",
    "## remove all decimal dots \n",
    "orderlines = orderlines.assign(unit_price_nd = orderlines['unit_price'].str.replace('\\.','', regex=True))\n",
    "\n",
    "## separate all numbers before and after the decimal dot\n",
    "orderlines['integers'] = orderlines['unit_price_nd'].str[:-2]\n",
    "orderlines['decimals'] = orderlines['unit_price_nd'].str[-2:]\n",
    "\n",
    "## concatenate integers and decimals with dot in between\n",
    "orderlines['new_unit_price'] = orderlines['integers'] + '.' + orderlines['decimals']\n",
    "\n",
    "## create converted unit_price column based on fixed column\n",
    "orderlines['unit_price'] = pd.to_numeric(orderlines['new_unit_price'])\n",
    "\n",
    "## drop 'auxiliary' columns\n",
    "orderlines.drop(['unit_price_nd','decimals','integers','new_unit_price'], axis=1, inplace=True)\n",
    "\n",
    "# create a new column \"total_price\" by multiplying product_quantity times unit_price\n",
    "orderlines['total_price'] = orderlines['product_quantity'] * orderlines['unit_price']"
   ]
  },
  {
   "cell_type": "markdown",
   "metadata": {},
   "source": [
    "## Cleaning products"
   ]
  },
  {
   "cell_type": "markdown",
   "metadata": {},
   "source": [
    "### Price and promo Price Columns\n",
    "* First idea is to remove all rows containing prices that have three digits after the last dot\n",
    "* For now dropping all na\n",
    "* Checking the number of rows that have this issue: \n",
    "    * price: 537 / 10477 total rows\n",
    "    * promo_price: 9638 / 10477 total rows"
   ]
  },
  {
   "cell_type": "code",
   "execution_count": 16,
   "metadata": {},
   "outputs": [
    {
     "data": {
      "text/html": [
       "<div>\n",
       "<style scoped>\n",
       "    .dataframe tbody tr th:only-of-type {\n",
       "        vertical-align: middle;\n",
       "    }\n",
       "\n",
       "    .dataframe tbody tr th {\n",
       "        vertical-align: top;\n",
       "    }\n",
       "\n",
       "    .dataframe thead th {\n",
       "        text-align: right;\n",
       "    }\n",
       "</style>\n",
       "<table border=\"1\" class=\"dataframe\">\n",
       "  <thead>\n",
       "    <tr style=\"text-align: right;\">\n",
       "      <th></th>\n",
       "      <th>sku</th>\n",
       "      <th>name</th>\n",
       "      <th>desc</th>\n",
       "      <th>price</th>\n",
       "      <th>promo_price</th>\n",
       "      <th>in_stock</th>\n",
       "      <th>type</th>\n",
       "      <th>duplicated</th>\n",
       "    </tr>\n",
       "  </thead>\n",
       "  <tbody>\n",
       "  </tbody>\n",
       "</table>\n",
       "</div>"
      ],
      "text/plain": [
       "Empty DataFrame\n",
       "Columns: [sku, name, desc, price, promo_price, in_stock, type, duplicated]\n",
       "Index: []"
      ]
     },
     "execution_count": 16,
     "metadata": {},
     "output_type": "execute_result"
    }
   ],
   "source": [
    "(\n",
    "products\n",
    "    .assign(duplicated = lambda df: df[['sku', 'price']].duplicated())\n",
    "    .query(\"duplicated == True\")\n",
    "    .head()\n",
    ")"
   ]
  },
  {
   "cell_type": "code",
   "execution_count": 15,
   "metadata": {},
   "outputs": [
    {
     "name": "stdout",
     "output_type": "stream",
     "text": [
      "Duplicates in products: 8747\n",
      "Duplicates in products after removal: 0\n"
     ]
    }
   ],
   "source": [
    "# Duplicates\n",
    "print(f'Duplicates in products: {products.duplicated(\"sku\").sum()}')\n",
    "# --> 8747\n",
    "products.drop_duplicates(subset= 'sku', inplace=True)\n",
    "print(f'Duplicates in products after removal: {products.duplicated(\"sku\").sum()}')"
   ]
  },
  {
   "cell_type": "markdown",
   "metadata": {},
   "source": [
    "### Find \"bad\" prices and replace with NaN"
   ]
  },
  {
   "cell_type": "code",
   "execution_count": 17,
   "metadata": {},
   "outputs": [],
   "source": [
    "# Find all \"bad\" prices\n",
    "# Replace missing values by '000.000'\n",
    "products = products.assign(price = products['price'].fillna('000.000'))\n",
    "\n",
    "# split the price and add a dot count\n",
    "products = products.assign(price_split = products['price'].str.split('\\.'), \n",
    "                           dots_count = products['price'].str.count('\\.'))"
   ]
  },
  {
   "cell_type": "code",
   "execution_count": 18,
   "metadata": {},
   "outputs": [],
   "source": [
    "'''\n",
    "Function to check the price for each row\n",
    "If price matches the pattern (only 2 digits after the last dot) function will return False, else it will return True \n",
    "'''\n",
    "\n",
    "def check_price(row):\n",
    "    matcher= re.compile(R'.*\\.\\d{2}$')\n",
    "    if matcher.match(row['price']):\n",
    "        return False\n",
    "    else:\n",
    "        return True\n",
    "\n",
    "'''\n",
    "Function to check the number of elements in each price_split\n",
    "Returns an integer representing that number\n",
    "'''\n",
    "\n",
    "def check_len_price_split(row):\n",
    "    return len(row['price_split'])\n",
    "\n",
    "# create new column 'need_check' with False if last element of price consists of only 2 digits, and True if it's more than 2\n",
    "products = (\n",
    "            products\n",
    "                .assign(\n",
    "                    need_check = products.apply(lambda row: check_price(row), axis=1),\n",
    "                    len_price_split = products.apply(lambda row: check_len_price_split(row), axis=1))\n",
    "            )"
   ]
  },
  {
   "cell_type": "code",
   "execution_count": 19,
   "metadata": {},
   "outputs": [],
   "source": [
    "# replace all faulty prices that fulfill three conditions with NaN\n",
    "# conditions: \n",
    "# 1. more or less than 2 digits after the last dot\n",
    "# 2. more than one element in column price_split\n",
    "# 3. number of dots in price is different than 0\n",
    "\n",
    "products.loc[(products.need_check==True) & (products.len_price_split > 1) & (products.dots_count != 0), 'price'] = 'Null'\n",
    "\n",
    "# convert price to float and coerce errors\n",
    "products['price'] = pd.to_numeric(products['price'], errors='coerce')\n",
    "\n",
    "# remove now unnecessary columns\n",
    "products.drop(['price_split','need_check','len_price_split','dots_count'], axis=1, inplace=True)"
   ]
  },
  {
   "cell_type": "markdown",
   "metadata": {},
   "source": [
    "### Fill missing prices"
   ]
  },
  {
   "cell_type": "code",
   "execution_count": 20,
   "metadata": {},
   "outputs": [
    {
     "data": {
      "text/plain": [
       "0.05782122836856714"
      ]
     },
     "execution_count": 20,
     "metadata": {},
     "output_type": "execute_result"
    }
   ],
   "source": [
    "# check impact of missing values in price column\n",
    "# create df containing only rows with missing values in products df \n",
    "prod_na = products.loc[products.isna().sum(axis=1) > 0,:].copy()\n",
    "\n",
    "# create list of skus that have missing price in products df\n",
    "na_skus = prod_na['sku'].tolist()\n",
    "\n",
    "# check how much of the revenue of total completed orders is associated with skus that have missing prices \n",
    "(\n",
    "orderlines\n",
    "    .merge(orders, how='left', on ='order_id')\n",
    "    .query('state == \"Completed\" & sku == @na_skus')\n",
    "    ['total_price'].sum()\n",
    ") / (\n",
    "orderlines\n",
    "    .merge(orders, how='left', on='order_id')\n",
    "    .query('state == \"Completed\"')\n",
    "    ['total_price'].sum()\n",
    ")"
   ]
  },
  {
   "cell_type": "code",
   "execution_count": 21,
   "metadata": {},
   "outputs": [],
   "source": [
    "# find out which sku are missing in products\n",
    "prod_na_list = (\n",
    "products\n",
    "    .loc[products['price'].isna(),'sku']\n",
    "    .tolist()\n",
    ")\n",
    "\n",
    "# find them on orderlines, and aggregate the information to find the maximum value\n",
    "orderlines_prod_na_max = (\n",
    "orderlines\n",
    "    .query(\"sku == @prod_na_list\")\n",
    "    .groupby('sku') \n",
    "    .agg(max_price_orderlines = ('unit_price', max))\n",
    "    .reset_index()\n",
    ")\n",
    "\n",
    "# add max_price_orderlines to the products df\n",
    "products = (\n",
    "products\n",
    "    .merge(orderlines_prod_na_max, how='left',on='sku')\n",
    ")\n"
   ]
  },
  {
   "cell_type": "code",
   "execution_count": 22,
   "metadata": {},
   "outputs": [],
   "source": [
    "# replace missing values in price with orderlines_max_price\n",
    "products = (\n",
    "products\n",
    "    .assign(\n",
    "        price = lambda df_: np.where(np.isnan(df_['price']), df_['max_price_orderlines'], df_['price'])\n",
    "        )\n",
    " )\n",
    "\n",
    "# remove max_price_orderlines column\n",
    "products.drop('max_price_orderlines', axis=1, inplace=True)"
   ]
  },
  {
   "cell_type": "markdown",
   "metadata": {},
   "source": [
    "### Promo price"
   ]
  },
  {
   "cell_type": "code",
   "execution_count": 23,
   "metadata": {},
   "outputs": [
    {
     "name": "stderr",
     "output_type": "stream",
     "text": [
      "C:\\Users\\tobia\\AppData\\Local\\Temp\\ipykernel_16616\\2699542818.py:4: FutureWarning: The default value of regex will change from True to False in a future version. In addition, single character regular expressions will *not* be treated as literal strings when regex=True.\n",
      "  .assign(promo_price = lambda df: df['promo_price'].str.replace('.', ''))\n"
     ]
    }
   ],
   "source": [
    "# Remove all dots from promo_prices and add one dot before the second to last digit, then convert to numeric\n",
    "products = (\n",
    "    products\n",
    "        .assign(promo_price = lambda df: df['promo_price'].str.replace('.', ''))\n",
    "        .assign(promo_price = lambda df: df['promo_price'].str[:-2] + '.' + df['promo_price'].str[-2:])\n",
    "        .dropna(subset = 'promo_price')\n",
    "        .assign(promo_price = lambda df: pd.to_numeric(df['promo_price']))\n",
    ")"
   ]
  },
  {
   "cell_type": "code",
   "execution_count": 25,
   "metadata": {},
   "outputs": [],
   "source": [
    "# Function to reduce promo_price\n",
    "# While promo_price is higher than price, divides by 10 to move decimal point one further to the left\n",
    "# Returns the result of the divisions once promo price is smaller than price\n",
    "def reduce_promo_price(row):\n",
    "  result = round(row['promo_price'], 2) \n",
    "  while result > row['price']:\n",
    "    result = round((result / 10), 2)\n",
    "  return result\n",
    "\n",
    "products['promo_price'] = products.apply(lambda row : reduce_promo_price(row), axis=1)"
   ]
  },
  {
   "cell_type": "code",
   "execution_count": 26,
   "metadata": {},
   "outputs": [
    {
     "data": {
      "text/html": [
       "<div>\n",
       "<style scoped>\n",
       "    .dataframe tbody tr th:only-of-type {\n",
       "        vertical-align: middle;\n",
       "    }\n",
       "\n",
       "    .dataframe tbody tr th {\n",
       "        vertical-align: top;\n",
       "    }\n",
       "\n",
       "    .dataframe thead th {\n",
       "        text-align: right;\n",
       "    }\n",
       "</style>\n",
       "<table border=\"1\" class=\"dataframe\">\n",
       "  <thead>\n",
       "    <tr style=\"text-align: right;\">\n",
       "      <th></th>\n",
       "      <th>sku</th>\n",
       "      <th>name</th>\n",
       "      <th>desc</th>\n",
       "      <th>price</th>\n",
       "      <th>promo_price</th>\n",
       "      <th>in_stock</th>\n",
       "      <th>type</th>\n",
       "    </tr>\n",
       "  </thead>\n",
       "  <tbody>\n",
       "    <tr>\n",
       "      <th>8012</th>\n",
       "      <td>APP2106</td>\n",
       "      <td>Apple Correa 42mm Sports Blue Haze</td>\n",
       "      <td>Durable and flexible strap sports with clip cl...</td>\n",
       "      <td>59.00</td>\n",
       "      <td>0.56</td>\n",
       "      <td>0</td>\n",
       "      <td>2449</td>\n",
       "    </tr>\n",
       "    <tr>\n",
       "      <th>2341</th>\n",
       "      <td>AII0085</td>\n",
       "      <td>Aiino Glass Screen Protector Edge to Edge Temp...</td>\n",
       "      <td>Screen saver superfine glass covers the entire...</td>\n",
       "      <td>24.99</td>\n",
       "      <td>19.99</td>\n",
       "      <td>0</td>\n",
       "      <td>13555403</td>\n",
       "    </tr>\n",
       "    <tr>\n",
       "      <th>1883</th>\n",
       "      <td>MOP0061</td>\n",
       "      <td>Mophie Juice Pack Air Case Battery (2750 mAh) ...</td>\n",
       "      <td>Case 2750 mAh battery and LED indicator for iP...</td>\n",
       "      <td>109.99</td>\n",
       "      <td>51.99</td>\n",
       "      <td>0</td>\n",
       "      <td>5,49E+11</td>\n",
       "    </tr>\n",
       "    <tr>\n",
       "      <th>9089</th>\n",
       "      <td>PAC2322</td>\n",
       "      <td>Synology DS718 + NAS Server | 2GB RAM | 20TB (...</td>\n",
       "      <td>Scalable NAS server with transcoding 4K: 4-cor...</td>\n",
       "      <td>1259.97</td>\n",
       "      <td>1009.18</td>\n",
       "      <td>0</td>\n",
       "      <td>12175397</td>\n",
       "    </tr>\n",
       "    <tr>\n",
       "      <th>1654</th>\n",
       "      <td>MOS0141</td>\n",
       "      <td>Moshi iGlaze iPhone 6 / 6S Plus Black</td>\n",
       "      <td>Rigid shell shock protection and rasguÌ ± os f...</td>\n",
       "      <td>35.00</td>\n",
       "      <td>24.99</td>\n",
       "      <td>0</td>\n",
       "      <td>11865403</td>\n",
       "    </tr>\n",
       "    <tr>\n",
       "      <th>10366</th>\n",
       "      <td>APP2619</td>\n",
       "      <td>Apple Correa Deportiva 42mm Gray</td>\n",
       "      <td>Durable and flexible strap sports with clip cl...</td>\n",
       "      <td>59.00</td>\n",
       "      <td>57.00</td>\n",
       "      <td>0</td>\n",
       "      <td>2449</td>\n",
       "    </tr>\n",
       "    <tr>\n",
       "      <th>4641</th>\n",
       "      <td>WDT0231-A</td>\n",
       "      <td>Open - Western Digital Elements 2TB USB 3.0 Ha...</td>\n",
       "      <td>2TB Portable External Hard Drive for Mac and PC</td>\n",
       "      <td>105.00</td>\n",
       "      <td>94.16</td>\n",
       "      <td>0</td>\n",
       "      <td>1298</td>\n",
       "    </tr>\n",
       "    <tr>\n",
       "      <th>7104</th>\n",
       "      <td>SXA0029</td>\n",
       "      <td>SecurityXtra One Desktop Security Support iPad...</td>\n",
       "      <td>Safety support fixed viewing angle of 45 degre...</td>\n",
       "      <td>189.99</td>\n",
       "      <td>1.39</td>\n",
       "      <td>0</td>\n",
       "      <td>1216</td>\n",
       "    </tr>\n",
       "    <tr>\n",
       "      <th>3094</th>\n",
       "      <td>TIG0018-A</td>\n",
       "      <td>Open - Tigra Support + Bike Case iPhone 6</td>\n",
       "      <td>Waterproof Case for iPhone 6 bicycle stand</td>\n",
       "      <td>39.99</td>\n",
       "      <td>28.25</td>\n",
       "      <td>0</td>\n",
       "      <td>1298</td>\n",
       "    </tr>\n",
       "    <tr>\n",
       "      <th>1599</th>\n",
       "      <td>MOB0013</td>\n",
       "      <td>Mobee Magic Feet Charger Apple Wireless Keyboa...</td>\n",
       "      <td>Charger for Apple Wireless Keyboard and Magic ...</td>\n",
       "      <td>149.99</td>\n",
       "      <td>149.99</td>\n",
       "      <td>0</td>\n",
       "      <td>13005399</td>\n",
       "    </tr>\n",
       "    <tr>\n",
       "      <th>8877</th>\n",
       "      <td>MUV0193</td>\n",
       "      <td>Muvit Crystal iPhone Case Soft X Flexible Tran...</td>\n",
       "      <td>A simple solution: Light comfortable and essen...</td>\n",
       "      <td>12.95</td>\n",
       "      <td>10.99</td>\n",
       "      <td>0</td>\n",
       "      <td>11865403</td>\n",
       "    </tr>\n",
       "    <tr>\n",
       "      <th>3781</th>\n",
       "      <td>IFX0043</td>\n",
       "      <td>Jimmy iFixit iPhone and iPad Opening Tool</td>\n",
       "      <td>Tool to open electronic devices for iPhone and...</td>\n",
       "      <td>9.99</td>\n",
       "      <td>9.99</td>\n",
       "      <td>1</td>\n",
       "      <td>12645406</td>\n",
       "    </tr>\n",
       "    <tr>\n",
       "      <th>7874</th>\n",
       "      <td>APP2344</td>\n",
       "      <td>Apple MacBook Pro 15 \"Core i7 Touch Bar 28GHz ...</td>\n",
       "      <td>New MacBook Pro 15-inch Touch Bar to 28GHz Cor...</td>\n",
       "      <td>3519.00</td>\n",
       "      <td>3273.00</td>\n",
       "      <td>0</td>\n",
       "      <td>1,02E+12</td>\n",
       "    </tr>\n",
       "    <tr>\n",
       "      <th>1109</th>\n",
       "      <td>MOS0130</td>\n",
       "      <td>Moshi iGlaze Case for iPhone 6 / 6S Lila</td>\n",
       "      <td>Rigid shell shock protection and rasguÌ ± os f...</td>\n",
       "      <td>30.00</td>\n",
       "      <td>19.99</td>\n",
       "      <td>0</td>\n",
       "      <td>11865403</td>\n",
       "    </tr>\n",
       "    <tr>\n",
       "      <th>10532</th>\n",
       "      <td>MMW0012</td>\n",
       "      <td>My MW Case MacBook Pro 13 \"(Late 2016) Blue Sa...</td>\n",
       "      <td>Avoid shock and damage to your MacBook Pro 13-...</td>\n",
       "      <td>29.99</td>\n",
       "      <td>20.99</td>\n",
       "      <td>0</td>\n",
       "      <td>13835403</td>\n",
       "    </tr>\n",
       "    <tr>\n",
       "      <th>4742</th>\n",
       "      <td>THU0035</td>\n",
       "      <td>Backpack Daypack Subterra Thule MacBook 15 \"Dr...</td>\n",
       "      <td>Backpack style zippered pockets and rigid zone...</td>\n",
       "      <td>119.95</td>\n",
       "      <td>107.99</td>\n",
       "      <td>0</td>\n",
       "      <td>1392</td>\n",
       "    </tr>\n",
       "    <tr>\n",
       "      <th>4922</th>\n",
       "      <td>IFX0104</td>\n",
       "      <td>iFixit piece Dock connector and audio jack iPh...</td>\n",
       "      <td>And Jack Dock Connector for iPhone 5</td>\n",
       "      <td>19.95</td>\n",
       "      <td>12.99</td>\n",
       "      <td>1</td>\n",
       "      <td>21485407</td>\n",
       "    </tr>\n",
       "    <tr>\n",
       "      <th>5414</th>\n",
       "      <td>UAG0046</td>\n",
       "      <td>Urban Armor Gear Case iPhone Pathfinder 7 Whit...</td>\n",
       "      <td>resistant cover for iPhone bumps and falls in ...</td>\n",
       "      <td>29.95</td>\n",
       "      <td>26.99</td>\n",
       "      <td>0</td>\n",
       "      <td>11865403</td>\n",
       "    </tr>\n",
       "    <tr>\n",
       "      <th>5598</th>\n",
       "      <td>WAC0198</td>\n",
       "      <td>Wacom Bamboo A5 Folio Black</td>\n",
       "      <td>Smart Bloc notes A5 with cover and pencil case...</td>\n",
       "      <td>149.99</td>\n",
       "      <td>129.99</td>\n",
       "      <td>0</td>\n",
       "      <td>1405</td>\n",
       "    </tr>\n",
       "    <tr>\n",
       "      <th>10502</th>\n",
       "      <td>DJI0025</td>\n",
       "      <td>DJI Mavic Air Drone Black Onyx cuadricóptero</td>\n",
       "      <td>Drone cuadricóptero laptop with integrated cam...</td>\n",
       "      <td>849.00</td>\n",
       "      <td>849.00</td>\n",
       "      <td>0</td>\n",
       "      <td>11905404</td>\n",
       "    </tr>\n",
       "  </tbody>\n",
       "</table>\n",
       "</div>"
      ],
      "text/plain": [
       "             sku                                               name  \\\n",
       "8012     APP2106                 Apple Correa 42mm Sports Blue Haze   \n",
       "2341     AII0085  Aiino Glass Screen Protector Edge to Edge Temp...   \n",
       "1883     MOP0061  Mophie Juice Pack Air Case Battery (2750 mAh) ...   \n",
       "9089     PAC2322  Synology DS718 + NAS Server | 2GB RAM | 20TB (...   \n",
       "1654     MOS0141              Moshi iGlaze iPhone 6 / 6S Plus Black   \n",
       "10366    APP2619                   Apple Correa Deportiva 42mm Gray   \n",
       "4641   WDT0231-A  Open - Western Digital Elements 2TB USB 3.0 Ha...   \n",
       "7104     SXA0029  SecurityXtra One Desktop Security Support iPad...   \n",
       "3094   TIG0018-A          Open - Tigra Support + Bike Case iPhone 6   \n",
       "1599     MOB0013  Mobee Magic Feet Charger Apple Wireless Keyboa...   \n",
       "8877     MUV0193  Muvit Crystal iPhone Case Soft X Flexible Tran...   \n",
       "3781     IFX0043          Jimmy iFixit iPhone and iPad Opening Tool   \n",
       "7874     APP2344  Apple MacBook Pro 15 \"Core i7 Touch Bar 28GHz ...   \n",
       "1109     MOS0130           Moshi iGlaze Case for iPhone 6 / 6S Lila   \n",
       "10532    MMW0012  My MW Case MacBook Pro 13 \"(Late 2016) Blue Sa...   \n",
       "4742     THU0035  Backpack Daypack Subterra Thule MacBook 15 \"Dr...   \n",
       "4922     IFX0104  iFixit piece Dock connector and audio jack iPh...   \n",
       "5414     UAG0046  Urban Armor Gear Case iPhone Pathfinder 7 Whit...   \n",
       "5598     WAC0198                        Wacom Bamboo A5 Folio Black   \n",
       "10502    DJI0025       DJI Mavic Air Drone Black Onyx cuadricóptero   \n",
       "\n",
       "                                                    desc    price  \\\n",
       "8012   Durable and flexible strap sports with clip cl...    59.00   \n",
       "2341   Screen saver superfine glass covers the entire...    24.99   \n",
       "1883   Case 2750 mAh battery and LED indicator for iP...   109.99   \n",
       "9089   Scalable NAS server with transcoding 4K: 4-cor...  1259.97   \n",
       "1654   Rigid shell shock protection and rasguÌ ± os f...    35.00   \n",
       "10366  Durable and flexible strap sports with clip cl...    59.00   \n",
       "4641     2TB Portable External Hard Drive for Mac and PC   105.00   \n",
       "7104   Safety support fixed viewing angle of 45 degre...   189.99   \n",
       "3094          Waterproof Case for iPhone 6 bicycle stand    39.99   \n",
       "1599   Charger for Apple Wireless Keyboard and Magic ...   149.99   \n",
       "8877   A simple solution: Light comfortable and essen...    12.95   \n",
       "3781   Tool to open electronic devices for iPhone and...     9.99   \n",
       "7874   New MacBook Pro 15-inch Touch Bar to 28GHz Cor...  3519.00   \n",
       "1109   Rigid shell shock protection and rasguÌ ± os f...    30.00   \n",
       "10532  Avoid shock and damage to your MacBook Pro 13-...    29.99   \n",
       "4742   Backpack style zippered pockets and rigid zone...   119.95   \n",
       "4922                And Jack Dock Connector for iPhone 5    19.95   \n",
       "5414   resistant cover for iPhone bumps and falls in ...    29.95   \n",
       "5598   Smart Bloc notes A5 with cover and pencil case...   149.99   \n",
       "10502  Drone cuadricóptero laptop with integrated cam...   849.00   \n",
       "\n",
       "       promo_price  in_stock      type  \n",
       "8012          0.56         0      2449  \n",
       "2341         19.99         0  13555403  \n",
       "1883         51.99         0  5,49E+11  \n",
       "9089       1009.18         0  12175397  \n",
       "1654         24.99         0  11865403  \n",
       "10366        57.00         0      2449  \n",
       "4641         94.16         0      1298  \n",
       "7104          1.39         0      1216  \n",
       "3094         28.25         0      1298  \n",
       "1599        149.99         0  13005399  \n",
       "8877         10.99         0  11865403  \n",
       "3781          9.99         1  12645406  \n",
       "7874       3273.00         0  1,02E+12  \n",
       "1109         19.99         0  11865403  \n",
       "10532        20.99         0  13835403  \n",
       "4742        107.99         0      1392  \n",
       "4922         12.99         1  21485407  \n",
       "5414         26.99         0  11865403  \n",
       "5598        129.99         0      1405  \n",
       "10502       849.00         0  11905404  "
      ]
     },
     "execution_count": 26,
     "metadata": {},
     "output_type": "execute_result"
    }
   ],
   "source": [
    "# Check promo_prices for issues\n",
    "products.sample(20)"
   ]
  },
  {
   "cell_type": "code",
   "execution_count": 21,
   "metadata": {},
   "outputs": [],
   "source": [
    "# TESTING\n",
    "\n",
    "# (\n",
    "# products\n",
    "#     .merge((og_products\n",
    "#                 .rename(columns={'price': 'og_price', 'promo_price': 'og_promo_price'})\n",
    "#                 [['sku', 'og_price', 'og_promo_price']]), \n",
    "#             how='left', on='sku')\n",
    "#     [['sku', 'name', 'price', 'og_price', 'promo_price', 'og_promo_price']]\n",
    "#     .sample(15)\n",
    "# )"
   ]
  },
  {
   "cell_type": "markdown",
   "metadata": {},
   "source": [
    "## Cleaning brands"
   ]
  },
  {
   "cell_type": "code",
   "execution_count": 22,
   "metadata": {},
   "outputs": [],
   "source": [
    "# No cleaning needed, everything is fine here"
   ]
  },
  {
   "cell_type": "markdown",
   "metadata": {},
   "source": [
    "# Data-Consistency Checks"
   ]
  },
  {
   "cell_type": "markdown",
   "metadata": {},
   "source": [
    "## Dates between orders and orderlines"
   ]
  },
  {
   "cell_type": "code",
   "execution_count": 27,
   "metadata": {},
   "outputs": [
    {
     "data": {
      "text/html": [
       "<div>\n",
       "<style scoped>\n",
       "    .dataframe tbody tr th:only-of-type {\n",
       "        vertical-align: middle;\n",
       "    }\n",
       "\n",
       "    .dataframe tbody tr th {\n",
       "        vertical-align: top;\n",
       "    }\n",
       "\n",
       "    .dataframe thead th {\n",
       "        text-align: right;\n",
       "    }\n",
       "</style>\n",
       "<table border=\"1\" class=\"dataframe\">\n",
       "  <thead>\n",
       "    <tr style=\"text-align: right;\">\n",
       "      <th></th>\n",
       "      <th>df</th>\n",
       "      <th>first_order</th>\n",
       "      <th>last_order</th>\n",
       "    </tr>\n",
       "  </thead>\n",
       "  <tbody>\n",
       "    <tr>\n",
       "      <th>0</th>\n",
       "      <td>orders</td>\n",
       "      <td>2017-01-01 00:07:19</td>\n",
       "      <td>2018-03-14 13:58:36</td>\n",
       "    </tr>\n",
       "    <tr>\n",
       "      <th>1</th>\n",
       "      <td>orderlines</td>\n",
       "      <td>2017-01-01 00:07:19</td>\n",
       "      <td>2018-03-14 13:58:36</td>\n",
       "    </tr>\n",
       "  </tbody>\n",
       "</table>\n",
       "</div>"
      ],
      "text/plain": [
       "           df         first_order          last_order\n",
       "0      orders 2017-01-01 00:07:19 2018-03-14 13:58:36\n",
       "1  orderlines 2017-01-01 00:07:19 2018-03-14 13:58:36"
      ]
     },
     "execution_count": 27,
     "metadata": {},
     "output_type": "execute_result"
    }
   ],
   "source": [
    "# Check whether dates of first and last orders match in orders vs orderlines\n",
    "\n",
    "min_date_orders=min(orders['created_date'])\n",
    "max_date_orders= max(orders['created_date'])\n",
    "min_date_orderlines = min(orderlines['date'])\n",
    "max_date_orderlines = max(orderlines['date'])\n",
    "\n",
    "pd.DataFrame(\n",
    "    {\n",
    "        'df': ['orders', 'orderlines'],\n",
    "        'first_order': [min_date_orders, min_date_orderlines],\n",
    "        'last_order': [max_date_orders, max_date_orderlines]\n",
    "    })"
   ]
  },
  {
   "cell_type": "markdown",
   "metadata": {},
   "source": [
    "## Total price between orders and orderlines"
   ]
  },
  {
   "cell_type": "code",
   "execution_count": 30,
   "metadata": {},
   "outputs": [
    {
     "name": "stdout",
     "output_type": "stream",
     "text": [
      "Total price sum in orders=     129159615.07000001\n",
      "Total price sum in orderlines= 128776222.02999999\n",
      "\n",
      "             id  order_id  product_id  product_quantity      sku  unit_price  \\\n",
      "5       1119114    295310           0                10  WDT0249      231.79   \n",
      "63      1119218    296284           0                 1  BNQ0042      699.00   \n",
      "67      1119223    294806           0                 1  APP1849     2558.99   \n",
      "69      1119226    294806           0                 1  APP1864     2797.99   \n",
      "70      1119235    297261           0                 1  QNA0177      304.99   \n",
      "...         ...       ...         ...               ...      ...         ...   \n",
      "275665  1621177    244328           0                 1  OWC0260      349.00   \n",
      "280055  1628699    261391           0                 1  APP2352     3343.00   \n",
      "280352  1629247    287797           0                 1  SYN0182      484.11   \n",
      "280856  1630150    261391           0                 1  SAT0091       44.99   \n",
      "280869  1630178    261391           0                 1  SAT0062       49.99   \n",
      "\n",
      "                      date  total_price  check_orders  \n",
      "5      2017-01-01 01:14:27      2317.90         False  \n",
      "63     2017-01-01 09:58:35       699.00         False  \n",
      "67     2017-01-01 10:09:15      2558.99         False  \n",
      "69     2017-01-01 10:15:14      2797.99         False  \n",
      "70     2017-01-01 10:17:59       304.99         False  \n",
      "...                    ...          ...           ...  \n",
      "275665 2018-02-20 13:00:45       349.00         False  \n",
      "280055 2018-02-27 11:43:25      3343.00         False  \n",
      "280352 2018-02-27 19:16:26       484.11         False  \n",
      "280856 2018-02-28 12:18:26        44.99         False  \n",
      "280869 2018-02-28 12:30:57        49.99         False  \n",
      "\n",
      "[240 rows x 9 columns]\n",
      "\n"
     ]
    }
   ],
   "source": [
    "# Exploration of price mismatch from perspective of ORDERLINES\n",
    "\n",
    "print(f'Total price sum in orders=     {orders.total_paid.sum()}\\nTotal price sum in orderlines= {orderlines.total_price.sum()}\\n')\n",
    "\n",
    "# Exploration of price mismatch from perspective of ORDERLINES\n",
    "## create copy of orderlines with column checking whether order id is also in orders df\n",
    "ol_copy = orderlines.assign(check_orders = orderlines['order_id'].isin(orders['order_id'])).copy()\n",
    "\n",
    "# check unequal rows\n",
    "print(\n",
    "ol_copy\n",
    "    .query(\"check_orders==False\")\n",
    ")\n",
    "print()\n",
    "\n",
    "# there are 240 rows of orders that are not in the orders df - these will be removed for now\n",
    "orderlines = (ol_copy\n",
    "              .query(\"check_orders==True\").copy())"
   ]
  },
  {
   "cell_type": "code",
   "execution_count": 32,
   "metadata": {},
   "outputs": [
    {
     "data": {
      "text/html": [
       "<div>\n",
       "<style scoped>\n",
       "    .dataframe tbody tr th:only-of-type {\n",
       "        vertical-align: middle;\n",
       "    }\n",
       "\n",
       "    .dataframe tbody tr th {\n",
       "        vertical-align: top;\n",
       "    }\n",
       "\n",
       "    .dataframe thead th {\n",
       "        text-align: right;\n",
       "    }\n",
       "</style>\n",
       "<table border=\"1\" class=\"dataframe\">\n",
       "  <thead>\n",
       "    <tr style=\"text-align: right;\">\n",
       "      <th></th>\n",
       "      <th>order_id</th>\n",
       "      <th>created_date</th>\n",
       "      <th>total_paid</th>\n",
       "      <th>state</th>\n",
       "      <th>year</th>\n",
       "      <th>month</th>\n",
       "      <th>day_of_month</th>\n",
       "      <th>weekday</th>\n",
       "      <th>check_orders</th>\n",
       "    </tr>\n",
       "  </thead>\n",
       "  <tbody>\n",
       "  </tbody>\n",
       "</table>\n",
       "</div>"
      ],
      "text/plain": [
       "Empty DataFrame\n",
       "Columns: [order_id, created_date, total_paid, state, year, month, day_of_month, weekday, check_orders]\n",
       "Index: []"
      ]
     },
     "execution_count": 32,
     "metadata": {},
     "output_type": "execute_result"
    }
   ],
   "source": [
    "# Exploration of price mismatch from perspective of ORDERS\n",
    "# check whether order id is also in orderlines df\n",
    "(\n",
    "orders\n",
    " .assign(check_orders = orders['order_id'].isin(orderlines['order_id']))\n",
    " .query(\"check_orders==False\")\n",
    ")"
   ]
  },
  {
   "cell_type": "code",
   "execution_count": 33,
   "metadata": {},
   "outputs": [
    {
     "data": {
      "text/plain": [
       "Series([], Name: state, dtype: int64)"
      ]
     },
     "execution_count": 33,
     "metadata": {},
     "output_type": "execute_result"
    }
   ],
   "source": [
    "# check state of orders that are in orders but not in orderlines\n",
    "(\n",
    "orders\n",
    "    .assign(check_orders = orders['order_id'].isin(orderlines['order_id']))\n",
    "    .query(\"check_orders==False\")\n",
    "    ['state'].value_counts()\n",
    ")"
   ]
  },
  {
   "cell_type": "code",
   "execution_count": 34,
   "metadata": {},
   "outputs": [],
   "source": [
    "# Can be explored further, but for now all unmatched orders will be dropped\n",
    "orders = (orders\n",
    "            .assign(check_orders = orders['order_id'].isin(orderlines['order_id']))\n",
    "            .query(\"check_orders==True\")\n",
    "         )"
   ]
  },
  {
   "cell_type": "code",
   "execution_count": 35,
   "metadata": {},
   "outputs": [],
   "source": [
    "# Merge orderlines and order to check price-differences\n",
    "ol_orders_merged = (\n",
    "    orderlines\n",
    "        .groupby('order_id')\n",
    "        .agg({'total_price':'sum'})\n",
    "        .merge(orders, how='left', on='order_id')\n",
    "        .rename(columns= {\n",
    "            'total_price':'total_price_orderlines',\n",
    "            'total_paid': 'total_paid_orders'\n",
    "        })\n",
    "        .copy()\n",
    ")"
   ]
  },
  {
   "cell_type": "code",
   "execution_count": 36,
   "metadata": {},
   "outputs": [],
   "source": [
    "# create price-difference column and remove small differences\n",
    "def get_price_difference(row):\n",
    "    if (abs(row['total_price_orderlines'] - row['total_paid_orders']) <= 0.1):\n",
    "        result = 0\n",
    "    else:\n",
    "        result = (row['total_price_orderlines'] - row['total_paid_orders'])\n",
    "    return abs(round(result,2))\n",
    "\n",
    "ol_orders_merged['price_diff'] = ol_orders_merged.apply(lambda row : get_price_difference(row), axis=1)"
   ]
  },
  {
   "cell_type": "code",
   "execution_count": 37,
   "metadata": {},
   "outputs": [
    {
     "data": {
      "text/plain": [
       "6.99     16729\n",
       "4.99     15881\n",
       "3.99     10287\n",
       "19.99     1239\n",
       "9.99       972\n",
       "5.00       632\n",
       "7.00       451\n",
       "11.99      246\n",
       "4.00       129\n",
       "1.01       124\n",
       "6.98       100\n",
       "14.99       86\n",
       "1.99        84\n",
       "4.98        72\n",
       "19.98       62\n",
       "20.00       57\n",
       "10.00       42\n",
       "7.01        33\n",
       "3.98        28\n",
       "20.01       15\n",
       "9.98        10\n",
       "14.98       10\n",
       "21.01        8\n",
       "10.01        7\n",
       "12.99        7\n",
       "Name: price_diff, dtype: int64"
      ]
     },
     "execution_count": 37,
     "metadata": {},
     "output_type": "execute_result"
    }
   ],
   "source": [
    "# Explore price differences\n",
    "(\n",
    "ol_orders_merged\n",
    "    .query(\"price_diff != 0\")\n",
    "    ['price_diff']\n",
    "    .value_counts()\n",
    "    .head(25)\n",
    ")"
   ]
  },
  {
   "cell_type": "markdown",
   "metadata": {},
   "source": [
    "### Insights on price-differences\n",
    "\n",
    "* price differences probably come from shipping costs\n",
    "* price differences that were less than +- 10 cents were set to 0 to clean the dataset \n",
    "* recommendation: no need to remove any rows, because the remaining rows all contain plausible and explainable price-differences"
   ]
  },
  {
   "cell_type": "markdown",
   "metadata": {},
   "source": [
    "# Export of orders and orderlines"
   ]
  },
  {
   "cell_type": "code",
   "execution_count": 28,
   "metadata": {},
   "outputs": [],
   "source": [
    "orderlines.to_csv(R'C:\\Users\\tobia\\Documents\\Bootcamp\\03_datacleaning_storytelling_pd_matplot\\00_eniac_data\\cleaned_data\\orderlines_cleaned.csv', index=False)\n",
    "orders.to_csv(R'C:\\Users\\tobia\\Documents\\Bootcamp\\03_datacleaning_storytelling_pd_matplot\\00_eniac_data\\cleaned_data\\orders_cleaned.csv', index=False)"
   ]
  },
  {
   "cell_type": "markdown",
   "metadata": {},
   "source": [
    "# __Exploration of specific questions__"
   ]
  },
  {
   "cell_type": "markdown",
   "metadata": {},
   "source": [
    "## Suggested Questions\n",
    "\n",
    "__How many orders are there?__  \n",
    "226909 unique order_ids.  \n",
    "  \n",
    "__How many products are there?__  \n",
    "10579 unique products  \n",
    "\n",
    "__Which timespan is captured in the dataset?__  \n",
    "First order in dataset made on: 2017-01-01 00:07:19  \n",
    "Last order in dataset made on: 2018-03-14 13:58:36\n",
    "\n",
    "__How many orders are completed?__  \n",
    "46605 orders are completed.  \n",
    "  \n",
    "__How should revenue be computed?__  \n",
    "Summarize price of all unique orders with state = completed.  \n",
    "Total revenue from captured data: 15907059.89 €\n",
    "\n"
   ]
  },
  {
   "cell_type": "code",
   "execution_count": 38,
   "metadata": {},
   "outputs": [
    {
     "name": "stdout",
     "output_type": "stream",
     "text": [
      "First order in dataset made on: 2017-01-01 00:07:19\n",
      "Last order in dataset made on: 2018-03-14 13:58:36\n",
      "Total revenue (sum of total_paid of orders where state = completed) = 15907059.889999995\n"
     ]
    }
   ],
   "source": [
    "# num of orders\n",
    "orders.order_id.nunique()\n",
    "# num of products\n",
    "products.sku.nunique()\n",
    "\n",
    "# timeperiod captured\n",
    "first_order = orders.created_date.min()\n",
    "last_order = orders.created_date.max()\n",
    "print(f'First order in dataset made on: {first_order}\\nLast order in dataset made on: {last_order}')\n",
    "\n",
    "# num of completed orders\n",
    "orders.loc[orders['state'] == 'Completed','order_id'].count()\n",
    "\n",
    "# revenue\n",
    "print(f\"Total revenue (sum of total_paid of orders where state = completed) = {orders.loc[orders['state'] == 'Completed','total_paid'].sum()}\")"
   ]
  },
  {
   "cell_type": "markdown",
   "metadata": {},
   "source": [
    "## Revenue  \n",
    "  \n",
    "__Monthly Revenue__:  \n"
   ]
  },
  {
   "cell_type": "code",
   "execution_count": 87,
   "metadata": {},
   "outputs": [
    {
     "data": {
      "image/png": "[encoded data removed]",
      "text/plain": [
       "<Figure size 1080x720 with 1 Axes>"
      ]
     },
     "metadata": {
      "needs_background": "light"
     },
     "output_type": "display_data"
    }
   ],
   "source": [
    "rev_by_day = pd.DataFrame(\n",
    "    orders\n",
    "    .loc[orders['state'] == 'Completed', 'total_paid']\n",
    "    .groupby([orders['weekday'], orders['year']])\n",
    "    .mean()\n",
    "    .reset_index()\n",
    ")\n",
    "\n",
    "\n",
    "rev_by_day['weekday_cat'] = pd.Categorical(\n",
    "    rev_by_day['weekday'],\n",
    "    categories=['Monday', 'Tuesday', 'Wednesday', 'Thursday', 'Friday', 'Saturday', 'Sunday'],\n",
    "    ordered = True\n",
    ")\n",
    "rev_by_day = rev_by_day.sort_values('weekday_cat')\n",
    "rev_by_day.drop(columns = 'weekday', inplace=True)\n",
    "\n",
    "# rev_by_day.plot.bar(x = 'weekday_cat')\n",
    "\n",
    "plt.subplots(figsize=(15, 10))\n",
    "\n",
    "sns.barplot(\n",
    "    data = rev_by_day,\n",
    "    x = 'weekday_cat',\n",
    "    y = 'total_paid',\n",
    "    hue = 'year'\n",
    ")\n",
    "plt.ylim(0 , 450)\n",
    "plt.xlabel('Weekday', fontsize=12)\n",
    "plt.ylabel('Average Revenue (in €)', fontsize=12)\n",
    "plt.title('Average Revenue per Weekday (in €)', weight='bold', fontsize=15)\n",
    "plt.legend(title= 'Year')\n",
    "sns.despine() \n",
    "plt.show()\n"
   ]
  }
 ],
 "metadata": {
  "kernelspec": {
   "display_name": "Python 3.9.5",
   "language": "python",
   "name": "python3"
  },
  "language_info": {
   "codemirror_mode": {
    "name": "ipython",
    "version": 3
   },
   "file_extension": ".py",
   "mimetype": "text/x-python",
   "name": "python",
   "nbconvert_exporter": "python",
   "pygments_lexer": "ipython3",
   "version": "3.9.5"
  },
  "orig_nbformat": 4,
  "vscode": {
   "interpreter": {
    "hash": "f32269641e17bf27d9ca909c2404938da1b1b2df6b9d3f5a88a1b877c863c5b8"
   }
  }
 },
 "nbformat": 4,
 "nbformat_minor": 2
}
