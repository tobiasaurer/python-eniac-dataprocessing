{
 "cells": [
  {
   "cell_type": "code",
   "execution_count": 1,
   "metadata": {},
   "outputs": [],
   "source": [
    "import pandas as pd\n",
    "import matplotlib\n",
    "import numpy as np\n",
    "import re"
   ]
  },
  {
   "cell_type": "markdown",
   "metadata": {},
   "source": [
    "# Data Exploration"
   ]
  },
  {
   "cell_type": "markdown",
   "metadata": {},
   "source": [
    "### __Read data to create dataframes__"
   ]
  },
  {
   "cell_type": "code",
   "execution_count": 2,
   "metadata": {},
   "outputs": [],
   "source": [
    "brands = pd.read_csv('brands.csv')\n",
    "orderlines = pd.read_csv('orderlines.csv')\n",
    "orders = pd.read_csv('orders.csv')\n",
    "products = pd.read_csv('products.csv')\n",
    "\n",
    "og_brands = pd.read_csv('brands.csv')\n",
    "og_orderlines = pd.read_csv('orderlines.csv')\n",
    "og_orders = pd.read_csv('orders.csv')\n",
    "og_products = pd.read_csv('products.csv')"
   ]
  },
  {
   "cell_type": "markdown",
   "metadata": {},
   "source": [
    "### __Inspect dataframes heads and tails__"
   ]
  },
  {
   "cell_type": "code",
   "execution_count": 3,
   "metadata": {},
   "outputs": [
    {
     "name": "stdout",
     "output_type": "stream",
     "text": [
      "###################### BRANDS \n",
      "   short       long\n",
      "0   8MO  8Mobility\n",
      "1   ACM       Acme\n",
      "2   ADN     Adonit\n",
      "3   AII      Aiino\n",
      "4   AKI     Akitio \n",
      "     short      long\n",
      "182   XOO    Xoopar\n",
      "183   XRI    X-Rite\n",
      "184   XTO     Xtorm\n",
      "185   ZAG  ZaggKeys\n",
      "186   ZEP      Zepp \n",
      "---\n",
      "###################### ORDERLINES \n",
      "         id  id_order  product_id  product_quantity      sku unit_price                 date\n",
      "0  1119109    299539           0                 1  OTT0133      18.99  2017-01-01 00:07:19\n",
      "1  1119110    299540           0                 1  LGE0043     399.00  2017-01-01 00:19:45\n",
      "2  1119111    299541           0                 1  PAR0071     474.05  2017-01-01 00:20:57\n",
      "3  1119112    299542           0                 1  WDT0315      68.39  2017-01-01 00:51:40\n",
      "4  1119113    299543           0                 1  JBL0104      23.74  2017-01-01 01:06:38 \n",
      "              id  id_order  product_id  product_quantity      sku unit_price                 date\n",
      "293978  1650199    527398           0                 1  JBL0122      42.99  2018-03-14 13:57:25\n",
      "293979  1650200    527399           0                 1  PAC0653     141.58  2018-03-14 13:57:34\n",
      "293980  1650201    527400           0                 2  APP0698       9.99  2018-03-14 13:57:41\n",
      "293981  1650202    527388           0                 1  BEZ0204      19.99  2018-03-14 13:58:01\n",
      "293982  1650203    527401           0                 1  APP0927      13.99  2018-03-14 13:58:36 \n",
      "---\n",
      "###################### ORDERS \n",
      "    order_id         created_date  total_paid      state\n",
      "0    241319  2017-01-02 13:35:40       44.99  Cancelled\n",
      "1    241423  2017-11-06 13:10:02      136.15  Completed\n",
      "2    242832  2017-12-31 17:40:03       15.76  Completed\n",
      "3    243330  2017-02-16 10:59:38       84.98  Completed\n",
      "4    243784  2017-11-24 13:35:19      157.86  Cancelled \n",
      "         order_id         created_date  total_paid            state\n",
      "226904    527397  2018-03-14 13:56:38       42.99      Place Order\n",
      "226905    527398  2018-03-14 13:57:25       42.99  Shopping Basket\n",
      "226906    527399  2018-03-14 13:57:34      141.58  Shopping Basket\n",
      "226907    527400  2018-03-14 13:57:41       19.98  Shopping Basket\n",
      "226908    527401  2018-03-14 13:58:36       18.98      Place Order \n",
      "---\n",
      "###################### PRODUCTS \n",
      "        sku                                           name                                                           desc  price promo_price  in_stock      type\n",
      "0  RAI0007              Silver Rain Design mStand Support                   Aluminum support compatible with all MacBook  59.99     499.899         1      8696\n",
      "1  APP0023              Apple Mac Keyboard Keypad Spanish                      USB ultrathin keyboard Apple Mac Spanish.     59     589.996         0  13855401\n",
      "2  APP0025               Mighty Mouse Apple Mouse for Mac                                         mouse Apple USB cable.     59     569.898         0      1387\n",
      "3  APP0072  Apple Dock to USB Cable iPhone and iPod white                          IPhone dock and USB Cable Apple iPod.     25     229.997         0      1230\n",
      "4  KIN0007    Mac Memory Kingston 2GB 667MHz DDR2 SO-DIMM  2GB RAM Mac mini and iMac (2006/07) MacBook Pro (2006/07/08).  34.99       31.99         1      1364 \n",
      "            sku                                          name                                                                                           desc  price promo_price  in_stock   type\n",
      "19321  BEL0376       Belkin Travel Support Apple Watch Black                          compact and portable stand vertically or horizontally for Apple Watch  29.99     269.903         1  12282\n",
      "19322  THU0060  Enroute Thule 14L Backpack MacBook 13 \"Black  Backpack with capacity of 14 liter compartments MacBook up to 13 inches up to 10 inches Cases  69.95     649.903         1   1392\n",
      "19323  THU0061   Enroute Thule 14L Backpack MacBook 13 \"Blue  Backpack with capacity of 14 liter compartments MacBook up to 13 inches up to 10 inches Cases  69.95     649.903         1   1392\n",
      "19324  THU0062    Enroute Thule 14L Backpack MacBook 13 \"Red  Backpack with capacity of 14 liter compartments MacBook up to 13 inches up to 10 inches Cases  69.95     649.903         0   1392\n",
      "19325  THU0063  Enroute Thule 14L Backpack MacBook 13 \"Green  Backpack with capacity of 14 liter compartments MacBook up to 13 inches up to 10 inches Cases  69.95     649.903         1   1392 \n",
      "---\n"
     ]
    }
   ],
   "source": [
    "print('###################### BRANDS \\n', brands.head(),'\\n', brands.tail(),'\\n---')\n",
    "print('###################### ORDERLINES \\n', orderlines.head().to_string(),'\\n', orderlines.tail().to_string(),'\\n---')\n",
    "print('###################### ORDERS \\n', orders.head().to_string(), '\\n', orders.tail().to_string(),'\\n---')\n",
    "print('###################### PRODUCTS \\n', products.head().to_string(), '\\n', products.tail().to_string(),'\\n---')"
   ]
  },
  {
   "cell_type": "markdown",
   "metadata": {},
   "source": [
    "### __Gather some basic descriptives for all the dataframes__"
   ]
  },
  {
   "cell_type": "markdown",
   "metadata": {},
   "source": [
    "#### brands"
   ]
  },
  {
   "cell_type": "code",
   "execution_count": 4,
   "metadata": {},
   "outputs": [
    {
     "name": "stdout",
     "output_type": "stream",
     "text": [
      "\n",
      "################################## .describe() \n",
      "\n",
      "        short    long\n",
      "count    187     187\n",
      "unique   187     181\n",
      "top      8MO  Mophie\n",
      "freq       1       2\n",
      "\n",
      "################################## .isna().any() \n",
      "\n",
      " short    False\n",
      "long     False\n",
      "dtype: bool\n",
      "\n",
      "################################## .shape \n",
      "\n",
      " (187, 2)\n",
      "\n",
      "################################## .columns \n",
      "\n",
      " Index(['short', 'long'], dtype='object')\n"
     ]
    }
   ],
   "source": [
    "print('\\n################################## .describe() \\n\\n', brands.describe())\n",
    "print('\\n################################## .isna().any() \\n\\n', brands.isna().any())\n",
    "print('\\n################################## .shape \\n\\n', brands.shape)\n",
    "print('\\n################################## .columns \\n\\n', brands.columns)"
   ]
  },
  {
   "cell_type": "markdown",
   "metadata": {},
   "source": [
    "#### orderlines\n",
    "\n"
   ]
  },
  {
   "cell_type": "code",
   "execution_count": 5,
   "metadata": {},
   "outputs": [
    {
     "name": "stdout",
     "output_type": "stream",
     "text": [
      "        id  id_order  product_id  product_quantity      sku unit_price                 date\n",
      "0  1119109    299539           0                 1  OTT0133      18.99  2017-01-01 00:07:19\n",
      "1  1119110    299540           0                 1  LGE0043     399.00  2017-01-01 00:19:45\n",
      "2  1119111    299541           0                 1  PAR0071     474.05  2017-01-01 00:20:57\n",
      "3  1119112    299542           0                 1  WDT0315      68.39  2017-01-01 00:51:40\n",
      "4  1119113    299543           0                 1  JBL0104      23.74  2017-01-01 01:06:38\n",
      "\n",
      "################################## .describe() \n",
      "\n",
      "                  id       id_order  product_id  product_quantity\n",
      "count  2.939830e+05  293983.000000    293983.0     293983.000000\n",
      "mean   1.397918e+06  419999.116544         0.0          1.121126\n",
      "std    1.530096e+05   66344.486479         0.0          3.396569\n",
      "min    1.119109e+06  241319.000000         0.0          1.000000\n",
      "25%    1.262542e+06  362258.500000         0.0          1.000000\n",
      "50%    1.406940e+06  425956.000000         0.0          1.000000\n",
      "75%    1.531322e+06  478657.000000         0.0          1.000000\n",
      "max    1.650203e+06  527401.000000         0.0        999.000000\n",
      "\n",
      "################################## .isna().any() \n",
      "\n",
      " id                  False\n",
      "id_order            False\n",
      "product_id          False\n",
      "product_quantity    False\n",
      "sku                 False\n",
      "unit_price          False\n",
      "date                False\n",
      "dtype: bool\n",
      "\n",
      "################################## .shape \n",
      "\n",
      " (293983, 7)\n",
      "\n",
      "################################## .columns \n",
      "\n",
      " Index(['id', 'id_order', 'product_id', 'product_quantity', 'sku', 'unit_price',\n",
      "       'date'],\n",
      "      dtype='object')\n"
     ]
    }
   ],
   "source": [
    "print(orderlines.head().to_string())\n",
    "print('\\n################################## .describe() \\n\\n', orderlines.describe())\n",
    "print('\\n################################## .isna().any() \\n\\n', orderlines.isna().any())\n",
    "print('\\n################################## .shape \\n\\n', orderlines.shape)\n",
    "print('\\n################################## .columns \\n\\n', orderlines.columns)"
   ]
  },
  {
   "cell_type": "markdown",
   "metadata": {},
   "source": [
    "#### orders"
   ]
  },
  {
   "cell_type": "code",
   "execution_count": 6,
   "metadata": {},
   "outputs": [
    {
     "name": "stdout",
     "output_type": "stream",
     "text": [
      "   order_id         created_date  total_paid      state\n",
      "0    241319  2017-01-02 13:35:40       44.99  Cancelled\n",
      "1    241423  2017-11-06 13:10:02      136.15  Completed\n",
      "2    242832  2017-12-31 17:40:03       15.76  Completed\n",
      "3    243330  2017-02-16 10:59:38       84.98  Completed\n",
      "4    243784  2017-11-24 13:35:19      157.86  Cancelled\n",
      "\n",
      "################################## .describe() \n",
      "\n",
      "             order_id     total_paid\n",
      "count  226909.000000  226904.000000\n",
      "mean   413296.482480     569.225818\n",
      "std     65919.250331    1761.778002\n",
      "min    241319.000000       0.000000\n",
      "25%    356263.000000      34.190000\n",
      "50%    413040.000000     112.990000\n",
      "75%    470553.000000     525.980000\n",
      "max    527401.000000  214747.530000\n",
      "\n",
      "################################## .isna().any() \n",
      "\n",
      " order_id        False\n",
      "created_date    False\n",
      "total_paid       True\n",
      "state           False\n",
      "dtype: bool\n",
      "\n",
      "################################## .shape \n",
      "\n",
      " (226909, 4)\n",
      "\n",
      "################################## .columns \n",
      "\n",
      " Index(['order_id', 'created_date', 'total_paid', 'state'], dtype='object')\n",
      "\n",
      "################################## .state.unique() \n",
      "\n",
      " ['Cancelled' 'Completed' 'Pending' 'Shopping Basket' 'Place Order']\n",
      "\n",
      "################################## .order_id.duplicated \n",
      "\n",
      " 0\n"
     ]
    }
   ],
   "source": [
    "print(orders.head())\n",
    "print('\\n################################## .describe() \\n\\n', orders.describe())\n",
    "print('\\n################################## .isna().any() \\n\\n', orders.isna().any())\n",
    "print('\\n################################## .shape \\n\\n', orders.shape)\n",
    "print('\\n################################## .columns \\n\\n', orders.columns)\n",
    "print('\\n################################## .state.unique() \\n\\n', orders.state.unique())\n",
    "print('\\n################################## .order_id.duplicated \\n\\n', orders.order_id.duplicated().sum())"
   ]
  },
  {
   "cell_type": "markdown",
   "metadata": {},
   "source": [
    "#### products"
   ]
  },
  {
   "cell_type": "code",
   "execution_count": 7,
   "metadata": {},
   "outputs": [
    {
     "name": "stdout",
     "output_type": "stream",
     "text": [
      "       sku                                           name                                                           desc  price promo_price  in_stock      type\n",
      "0  RAI0007              Silver Rain Design mStand Support                   Aluminum support compatible with all MacBook  59.99     499.899         1      8696\n",
      "1  APP0023              Apple Mac Keyboard Keypad Spanish                      USB ultrathin keyboard Apple Mac Spanish.     59     589.996         0  13855401\n",
      "2  APP0025               Mighty Mouse Apple Mouse for Mac                                         mouse Apple USB cable.     59     569.898         0      1387\n",
      "3  APP0072  Apple Dock to USB Cable iPhone and iPod white                          IPhone dock and USB Cable Apple iPod.     25     229.997         0      1230\n",
      "4  KIN0007    Mac Memory Kingston 2GB 667MHz DDR2 SO-DIMM  2GB RAM Mac mini and iMac (2006/07) MacBook Pro (2006/07/08).  34.99       31.99         1      1364\n",
      "\n",
      "################################## .describe() \n",
      "\n",
      "            in_stock\n",
      "count  19326.000000\n",
      "mean       0.109593\n",
      "std        0.312390\n",
      "min        0.000000\n",
      "25%        0.000000\n",
      "50%        0.000000\n",
      "75%        0.000000\n",
      "max        1.000000\n",
      "\n",
      "################################## .isna().any() \n",
      "\n",
      " sku            False\n",
      "name           False\n",
      "desc            True\n",
      "price           True\n",
      "promo_price    False\n",
      "in_stock       False\n",
      "type            True\n",
      "dtype: bool\n",
      "\n",
      "################################## .shape \n",
      "\n",
      " (19326, 7)\n",
      "\n",
      "################################## .columns \n",
      "\n",
      " Index(['sku', 'name', 'desc', 'price', 'promo_price', 'in_stock', 'type'], dtype='object')\n"
     ]
    }
   ],
   "source": [
    "print(products.head().to_string())\n",
    "print('\\n################################## .describe() \\n\\n', products.describe())\n",
    "print('\\n################################## .isna().any() \\n\\n', products.isna().any())\n",
    "print('\\n################################## .shape \\n\\n', products.shape)\n",
    "print('\\n################################## .columns \\n\\n', products.columns)"
   ]
  },
  {
   "cell_type": "markdown",
   "metadata": {},
   "source": [
    "# __Datacleaning__"
   ]
  },
  {
   "cell_type": "markdown",
   "metadata": {},
   "source": [
    "## Cleaning orders"
   ]
  },
  {
   "cell_type": "code",
   "execution_count": 4,
   "metadata": {},
   "outputs": [
    {
     "name": "stdout",
     "output_type": "stream",
     "text": [
      "Nan-count before removal = 5\n",
      "Nan-count after removal = 0\n"
     ]
    }
   ],
   "source": [
    "# Convert datatypes\n",
    "orders['created_date'] = pd.to_datetime(orders['created_date'])\n",
    "\n",
    "# Create new columns for 'year' (int), 'month' (int), 'day_of_month' (int), 'weekday' (categorical variable, ordered)\n",
    "orders['year'] = pd.DatetimeIndex(orders['created_date']).year\n",
    "orders['month'] = pd.DatetimeIndex(orders['created_date']).month\n",
    "orders['day_of_month'] = pd.DatetimeIndex(orders['created_date']).day\n",
    "orders['weekday'] = orders['created_date'].dt.strftime('%A')\n",
    "\n",
    "# create sorted categories for weekday\n",
    "cats = [ 'Monday', 'Tuesday', 'Wednesday', 'Thursday', 'Friday', 'Saturday', 'Sunday']\n",
    "orders['weekday'] = pd.Categorical(orders['weekday'], categories = cats, ordered=True)\n",
    "\n",
    "# Exclude missing values in total_paid column (cause for missing values is order-state = pending) and check for na before and after manipulation\n",
    "print(f'Nan-count before removal = {orders.total_paid.isna().sum()}')\n",
    "orders.dropna(inplace=True)\n",
    "print(f'Nan-count after removal = {orders.total_paid.isna().sum()}')"
   ]
  },
  {
   "cell_type": "markdown",
   "metadata": {},
   "source": [
    "## Cleaning orderlines"
   ]
  },
  {
   "cell_type": "code",
   "execution_count": 5,
   "metadata": {},
   "outputs": [],
   "source": [
    "# Convert datatypes\n",
    "orderlines['date'] = pd.to_datetime(orderlines['date'])\n",
    "\n",
    "# rename id_order to order_id to standardize it\n",
    "orderlines.rename(columns={'id_order':'order_id'}, \n",
    "                   inplace=True)"
   ]
  },
  {
   "cell_type": "code",
   "execution_count": 6,
   "metadata": {},
   "outputs": [],
   "source": [
    "# FIX UNIT_PRICE COLUMN DECIMAL ISSUE\n",
    "## remove all decimal dots \n",
    "orderlines = orderlines.assign(unit_price_nd = orderlines['unit_price'].str.replace('\\.','', regex=True))\n",
    "\n",
    "## separate all numbers before and after the decimal dot\n",
    "orderlines['integers'] = orderlines['unit_price_nd'].str[:-2]\n",
    "orderlines['decimals'] = orderlines['unit_price_nd'].str[-2:]\n",
    "\n",
    "## concatenate integers and decimals with dot in between\n",
    "orderlines['new_unit_price'] = orderlines['integers'] + '.' + orderlines['decimals']\n",
    "\n",
    "## create converted unit_price column based on fixed column\n",
    "orderlines['unit_price'] = pd.to_numeric(orderlines['new_unit_price'])\n",
    "\n",
    "## drop 'auxiliary' columns\n",
    "orderlines.drop(['unit_price_nd','decimals','integers','new_unit_price'], axis=1, inplace=True)\n",
    "\n",
    "# create a new column \"total_price\" by multiplying product_quantity times unit_price\n",
    "orderlines['total_price'] = orderlines['product_quantity'] * orderlines['unit_price']"
   ]
  },
  {
   "cell_type": "markdown",
   "metadata": {},
   "source": [
    "## Cleaning products"
   ]
  },
  {
   "cell_type": "markdown",
   "metadata": {},
   "source": [
    "### Price and promo Price Columns\n",
    "* First idea is to remove all rows containing prices that have three digits after the last dot\n",
    "* For now dropping all na\n",
    "* Checking the number of rows that have this issue: \n",
    "    * price: 537 / 10477 total rows\n",
    "    * promo_price: 9638 / 10477 total rows"
   ]
  },
  {
   "cell_type": "code",
   "execution_count": 7,
   "metadata": {},
   "outputs": [
    {
     "data": {
      "text/html": [
       "<div>\n",
       "<style scoped>\n",
       "    .dataframe tbody tr th:only-of-type {\n",
       "        vertical-align: middle;\n",
       "    }\n",
       "\n",
       "    .dataframe tbody tr th {\n",
       "        vertical-align: top;\n",
       "    }\n",
       "\n",
       "    .dataframe thead th {\n",
       "        text-align: right;\n",
       "    }\n",
       "</style>\n",
       "<table border=\"1\" class=\"dataframe\">\n",
       "  <thead>\n",
       "    <tr style=\"text-align: right;\">\n",
       "      <th></th>\n",
       "      <th>sku</th>\n",
       "      <th>name</th>\n",
       "      <th>desc</th>\n",
       "      <th>price</th>\n",
       "      <th>promo_price</th>\n",
       "      <th>in_stock</th>\n",
       "      <th>type</th>\n",
       "      <th>duplicated</th>\n",
       "    </tr>\n",
       "  </thead>\n",
       "  <tbody>\n",
       "    <tr>\n",
       "      <th>101</th>\n",
       "      <td>APP0390</td>\n",
       "      <td>Apple MacBook Pro 133 \"Core i5 25GHz | 4GB RAM...</td>\n",
       "      <td>MacBook Pro laptop 133 inches (MD101Y / A).</td>\n",
       "      <td>1199</td>\n",
       "      <td>11.455.917</td>\n",
       "      <td>0</td>\n",
       "      <td>1282</td>\n",
       "      <td>True</td>\n",
       "    </tr>\n",
       "    <tr>\n",
       "      <th>102</th>\n",
       "      <td>APP0390</td>\n",
       "      <td>Apple MacBook Pro 133 \"Core i5 25GHz | 4GB RAM...</td>\n",
       "      <td>MacBook Pro laptop 133 inches (MD101Y / A).</td>\n",
       "      <td>1199</td>\n",
       "      <td>11.455.917</td>\n",
       "      <td>0</td>\n",
       "      <td>1282</td>\n",
       "      <td>True</td>\n",
       "    </tr>\n",
       "    <tr>\n",
       "      <th>103</th>\n",
       "      <td>APP0390</td>\n",
       "      <td>Apple MacBook Pro 133 \"Core i5 25GHz | 4GB RAM...</td>\n",
       "      <td>MacBook Pro laptop 133 inches (MD101Y / A).</td>\n",
       "      <td>1199</td>\n",
       "      <td>11.455.917</td>\n",
       "      <td>0</td>\n",
       "      <td>1282</td>\n",
       "      <td>True</td>\n",
       "    </tr>\n",
       "    <tr>\n",
       "      <th>104</th>\n",
       "      <td>APP0390</td>\n",
       "      <td>Apple MacBook Pro 133 \"Core i5 25GHz | 4GB RAM...</td>\n",
       "      <td>MacBook Pro laptop 133 inches (MD101Y / A).</td>\n",
       "      <td>1199</td>\n",
       "      <td>11.455.917</td>\n",
       "      <td>0</td>\n",
       "      <td>1282</td>\n",
       "      <td>True</td>\n",
       "    </tr>\n",
       "    <tr>\n",
       "      <th>105</th>\n",
       "      <td>APP0390</td>\n",
       "      <td>Apple MacBook Pro 133 \"Core i5 25GHz | 4GB RAM...</td>\n",
       "      <td>MacBook Pro laptop 133 inches (MD101Y / A).</td>\n",
       "      <td>1199</td>\n",
       "      <td>11.455.917</td>\n",
       "      <td>0</td>\n",
       "      <td>1282</td>\n",
       "      <td>True</td>\n",
       "    </tr>\n",
       "  </tbody>\n",
       "</table>\n",
       "</div>"
      ],
      "text/plain": [
       "         sku                                               name  \\\n",
       "101  APP0390  Apple MacBook Pro 133 \"Core i5 25GHz | 4GB RAM...   \n",
       "102  APP0390  Apple MacBook Pro 133 \"Core i5 25GHz | 4GB RAM...   \n",
       "103  APP0390  Apple MacBook Pro 133 \"Core i5 25GHz | 4GB RAM...   \n",
       "104  APP0390  Apple MacBook Pro 133 \"Core i5 25GHz | 4GB RAM...   \n",
       "105  APP0390  Apple MacBook Pro 133 \"Core i5 25GHz | 4GB RAM...   \n",
       "\n",
       "                                            desc price promo_price  in_stock  \\\n",
       "101  MacBook Pro laptop 133 inches (MD101Y / A).  1199  11.455.917         0   \n",
       "102  MacBook Pro laptop 133 inches (MD101Y / A).  1199  11.455.917         0   \n",
       "103  MacBook Pro laptop 133 inches (MD101Y / A).  1199  11.455.917         0   \n",
       "104  MacBook Pro laptop 133 inches (MD101Y / A).  1199  11.455.917         0   \n",
       "105  MacBook Pro laptop 133 inches (MD101Y / A).  1199  11.455.917         0   \n",
       "\n",
       "     type  duplicated  \n",
       "101  1282        True  \n",
       "102  1282        True  \n",
       "103  1282        True  \n",
       "104  1282        True  \n",
       "105  1282        True  "
      ]
     },
     "execution_count": 7,
     "metadata": {},
     "output_type": "execute_result"
    }
   ],
   "source": [
    "(\n",
    "products\n",
    "    .assign(duplicated = lambda df: df[['sku', 'price']].duplicated())\n",
    "    .query(\"duplicated == True\")\n",
    "    .head()\n",
    ")"
   ]
  },
  {
   "cell_type": "code",
   "execution_count": 8,
   "metadata": {},
   "outputs": [
    {
     "name": "stdout",
     "output_type": "stream",
     "text": [
      "Duplicates in products: 8747\n",
      "Duplicates in products after removal: 0\n"
     ]
    }
   ],
   "source": [
    "# Duplicates\n",
    "print(f'Duplicates in products: {products.duplicated(\"sku\").sum()}')\n",
    "# --> 8747\n",
    "products.drop_duplicates(subset= 'sku', inplace=True)\n",
    "print(f'Duplicates in products after removal: {products.duplicated(\"sku\").sum()}')"
   ]
  },
  {
   "cell_type": "markdown",
   "metadata": {},
   "source": [
    "### Find \"bad\" prices and replace with NaN"
   ]
  },
  {
   "cell_type": "code",
   "execution_count": 9,
   "metadata": {},
   "outputs": [],
   "source": [
    "# Find all \"bad\" prices\n",
    "# Replace missing values by '000.000'\n",
    "products = products.assign(price = products['price'].fillna('000.000'))\n",
    "\n",
    "# split the price and add a dot count\n",
    "products = products.assign(price_split = products['price'].str.split('\\.'), \n",
    "                           dots_count = products['price'].str.count('\\.'))"
   ]
  },
  {
   "cell_type": "code",
   "execution_count": 10,
   "metadata": {},
   "outputs": [],
   "source": [
    "'''\n",
    "Function to check the price for each row\n",
    "If price matches the pattern (only 2 digits after the last dot) function will return False, else it will return True \n",
    "'''\n",
    "\n",
    "def check_price(row):\n",
    "    matcher= re.compile(R'.*\\.\\d{2}$')\n",
    "    if matcher.match(row['price']):\n",
    "        return False\n",
    "    else:\n",
    "        return True\n",
    "\n",
    "'''\n",
    "Function to check the number of elements in each price_split\n",
    "Returns an integer representing that number\n",
    "'''\n",
    "\n",
    "def check_len_price_split(row):\n",
    "    return len(row['price_split'])\n",
    "\n",
    "# create new column 'need_check' with False if last element of price consists of only 2 digits, and True if it's more than 2\n",
    "products = (\n",
    "            products\n",
    "                .assign(\n",
    "                    need_check = products.apply(lambda row: check_price(row), axis=1),\n",
    "                    len_price_split = products.apply(lambda row: check_len_price_split(row), axis=1))\n",
    "            )"
   ]
  },
  {
   "cell_type": "code",
   "execution_count": 11,
   "metadata": {},
   "outputs": [],
   "source": [
    "# replace all faulty prices that fulfill three conditions with NaN\n",
    "# conditions: \n",
    "# 1. more or less than 2 digits after the last dot\n",
    "# 2. more than one element in column price_split\n",
    "# 3. number of dots in price is different than 0\n",
    "\n",
    "products.loc[(products.need_check==True) & (products.len_price_split > 1) & (products.dots_count != 0), 'price'] = 'Null'\n",
    "\n",
    "# convert price to float and coerce errors\n",
    "products['price'] = pd.to_numeric(products['price'], errors='coerce')\n",
    "\n",
    "# remove now unnecessary columns\n",
    "products.drop(['price_split','need_check','len_price_split','dots_count'], axis=1, inplace=True)"
   ]
  },
  {
   "cell_type": "markdown",
   "metadata": {},
   "source": [
    "### Fill missing prices"
   ]
  },
  {
   "cell_type": "code",
   "execution_count": 14,
   "metadata": {},
   "outputs": [
    {
     "data": {
      "text/plain": [
       "0.05782122836856714"
      ]
     },
     "execution_count": 14,
     "metadata": {},
     "output_type": "execute_result"
    }
   ],
   "source": [
    "# check impact of missing values in price column\n",
    "# create df containing only rows with missing values in products df \n",
    "prod_na = products.loc[products.isna().sum(axis=1) > 0,:].copy()\n",
    "\n",
    "# create list of skus that have missing price in products df\n",
    "na_skus = prod_na['sku'].tolist()\n",
    "\n",
    "# check how much of the revenue of total completed orders is associated with skus that have missing prices \n",
    "(\n",
    "orderlines\n",
    "    .merge(orders, how='left', on ='order_id')\n",
    "    .query('state == \"Completed\" & sku == @na_skus')\n",
    "    ['total_price'].sum()\n",
    ") / (\n",
    "orderlines\n",
    "    .merge(orders, how='left', on='order_id')\n",
    "    .query('state == \"Completed\"')\n",
    "    ['total_price'].sum()\n",
    ")"
   ]
  },
  {
   "cell_type": "code",
   "execution_count": 15,
   "metadata": {},
   "outputs": [],
   "source": [
    "# find out which sku are missing in products\n",
    "prod_na_list = (\n",
    "products\n",
    "    .loc[products['price'].isna(),'sku']\n",
    "    .tolist()\n",
    ")\n",
    "\n",
    "# find them on orderlines, and aggregate the information to find the maximum value\n",
    "orderlines_prod_na_max = (\n",
    "orderlines\n",
    "    .query(\"sku == @prod_na_list\")\n",
    "    .groupby('sku') \n",
    "    .agg(max_price_orderlines = ('unit_price', max))\n",
    "    .reset_index()\n",
    ")\n",
    "\n",
    "# add max_price_orderlines to the products df\n",
    "products = (\n",
    "products\n",
    "    .merge(orderlines_prod_na_max, how='left',on='sku')\n",
    ")\n"
   ]
  },
  {
   "cell_type": "code",
   "execution_count": 16,
   "metadata": {},
   "outputs": [],
   "source": [
    "# replace missing values in price with orderlines_max_price\n",
    "products = (\n",
    "products\n",
    "    .assign(\n",
    "        price = lambda df_: np.where(np.isnan(df_['price']), df_['max_price_orderlines'], df_['price'])\n",
    "        )\n",
    " )\n",
    "\n",
    "# remove max_price_orderlines column\n",
    "products.drop('max_price_orderlines', axis=1, inplace=True)"
   ]
  },
  {
   "cell_type": "markdown",
   "metadata": {},
   "source": [
    "### Promo price"
   ]
  },
  {
   "cell_type": "code",
   "execution_count": 17,
   "metadata": {},
   "outputs": [
    {
     "name": "stderr",
     "output_type": "stream",
     "text": [
      "C:\\Users\\tobia\\AppData\\Local\\Temp\\ipykernel_10472\\2699542818.py:4: FutureWarning: The default value of regex will change from True to False in a future version. In addition, single character regular expressions will *not* be treated as literal strings when regex=True.\n",
      "  .assign(promo_price = lambda df: df['promo_price'].str.replace('.', ''))\n"
     ]
    }
   ],
   "source": [
    "# Remove all dots from promo_prices and add one dot before the second to last digit, then convert to numeric\n",
    "products = (\n",
    "    products\n",
    "        .assign(promo_price = lambda df: df['promo_price'].str.replace('.', ''))\n",
    "        .assign(promo_price = lambda df: df['promo_price'].str[:-2] + '.' + df['promo_price'].str[-2:])\n",
    "        .dropna(subset = 'promo_price')\n",
    "        .assign(promo_price = lambda df: pd.to_numeric(df['promo_price']))\n",
    ")"
   ]
  },
  {
   "cell_type": "code",
   "execution_count": 18,
   "metadata": {},
   "outputs": [
    {
     "data": {
      "text/html": [
       "<div>\n",
       "<style scoped>\n",
       "    .dataframe tbody tr th:only-of-type {\n",
       "        vertical-align: middle;\n",
       "    }\n",
       "\n",
       "    .dataframe tbody tr th {\n",
       "        vertical-align: top;\n",
       "    }\n",
       "\n",
       "    .dataframe thead th {\n",
       "        text-align: right;\n",
       "    }\n",
       "</style>\n",
       "<table border=\"1\" class=\"dataframe\">\n",
       "  <thead>\n",
       "    <tr style=\"text-align: right;\">\n",
       "      <th></th>\n",
       "      <th>sku</th>\n",
       "      <th>name</th>\n",
       "      <th>desc</th>\n",
       "      <th>price</th>\n",
       "      <th>promo_price</th>\n",
       "      <th>in_stock</th>\n",
       "      <th>type</th>\n",
       "    </tr>\n",
       "  </thead>\n",
       "  <tbody>\n",
       "    <tr>\n",
       "      <th>10303</th>\n",
       "      <td>FIB0007</td>\n",
       "      <td>Fibaro Monoxide Detector Sensor HomeKit</td>\n",
       "      <td>Fibaro Monoxide Detector Sensor HomeKit for iP...</td>\n",
       "      <td>99.99</td>\n",
       "      <td>99.99</td>\n",
       "      <td>1</td>\n",
       "      <td>11905404</td>\n",
       "    </tr>\n",
       "    <tr>\n",
       "      <th>270</th>\n",
       "      <td>FIT0013</td>\n",
       "      <td>Fitbit ZIP monitor green activity</td>\n",
       "      <td>Activity Monitor compact and lightweight.</td>\n",
       "      <td>59.99</td>\n",
       "      <td>54.90</td>\n",
       "      <td>0</td>\n",
       "      <td>11905404</td>\n",
       "    </tr>\n",
       "    <tr>\n",
       "      <th>5522</th>\n",
       "      <td>DLK0136</td>\n",
       "      <td>D-Link DCS 180 camera HD 960L Wi-Fi ac include...</td>\n",
       "      <td>HD camera with panoramic 180 degree view angle...</td>\n",
       "      <td>233.99</td>\n",
       "      <td>154.99</td>\n",
       "      <td>0</td>\n",
       "      <td>9094</td>\n",
       "    </tr>\n",
       "    <tr>\n",
       "      <th>4671</th>\n",
       "      <td>TRA0041</td>\n",
       "      <td>Transcend JetDrive GO 300 32GB Silver</td>\n",
       "      <td>Lightning to USB external memory for iPad and ...</td>\n",
       "      <td>59.00</td>\n",
       "      <td>37.99</td>\n",
       "      <td>0</td>\n",
       "      <td>42945397</td>\n",
       "    </tr>\n",
       "    <tr>\n",
       "      <th>7070</th>\n",
       "      <td>SEA0112</td>\n",
       "      <td>Innov8 Seagate External Hard Drive 8TB USB-C</td>\n",
       "      <td>Robust external hard drive with USB connection...</td>\n",
       "      <td>399.00</td>\n",
       "      <td>367.79</td>\n",
       "      <td>0</td>\n",
       "      <td>11935397</td>\n",
       "    </tr>\n",
       "    <tr>\n",
       "      <th>7512</th>\n",
       "      <td>SYN0168</td>\n",
       "      <td>Synology DS1817 + | 2GB RAM | NAS server Mac a...</td>\n",
       "      <td>NAS with 2GB of RAM and 8 bays compatible with...</td>\n",
       "      <td>978.89</td>\n",
       "      <td>958.99</td>\n",
       "      <td>0</td>\n",
       "      <td>12175397</td>\n",
       "    </tr>\n",
       "    <tr>\n",
       "      <th>4891</th>\n",
       "      <td>TUC0278</td>\n",
       "      <td>Svolta Tucano MacBook Pro Sleeve bag / Retina ...</td>\n",
       "      <td>briefcase robust design and protection Macbook...</td>\n",
       "      <td>29.99</td>\n",
       "      <td>29.99</td>\n",
       "      <td>1</td>\n",
       "      <td>10230</td>\n",
       "    </tr>\n",
       "    <tr>\n",
       "      <th>2119</th>\n",
       "      <td>BOS0015</td>\n",
       "      <td>Bose QuietComfort 25 Headphones Black</td>\n",
       "      <td>Noise-canceling headphones for iPhone iPad and...</td>\n",
       "      <td>329.00</td>\n",
       "      <td>217.99</td>\n",
       "      <td>0</td>\n",
       "      <td>5384</td>\n",
       "    </tr>\n",
       "    <tr>\n",
       "      <th>8504</th>\n",
       "      <td>AP20225</td>\n",
       "      <td>Like new - Apple iPad Air 2 Wi-Fi 16GB Gold</td>\n",
       "      <td>Air iPad 2 Wi-Fi refitted color gold</td>\n",
       "      <td>429.00</td>\n",
       "      <td>342.81</td>\n",
       "      <td>0</td>\n",
       "      <td>42931714</td>\n",
       "    </tr>\n",
       "    <tr>\n",
       "      <th>8317</th>\n",
       "      <td>AP20218</td>\n",
       "      <td>Like new - Apple Leather Strap 42mm Loop Midni...</td>\n",
       "      <td>Leather strap with grainy texture for Apple Wa...</td>\n",
       "      <td>159.00</td>\n",
       "      <td>99.00</td>\n",
       "      <td>0</td>\n",
       "      <td>1298</td>\n",
       "    </tr>\n",
       "    <tr>\n",
       "      <th>350</th>\n",
       "      <td>KEN0094</td>\n",
       "      <td>Kensington Cable, retractable Mac and PC</td>\n",
       "      <td>retractable cable Mac and PC combination.</td>\n",
       "      <td>29.99</td>\n",
       "      <td>26.99</td>\n",
       "      <td>1</td>\n",
       "      <td>1325</td>\n",
       "    </tr>\n",
       "    <tr>\n",
       "      <th>7588</th>\n",
       "      <td>PAC2063</td>\n",
       "      <td>Second hand - Apple iMac 20 \"Core 2 Duo 266GHz...</td>\n",
       "      <td>Refurbished iMac 20 inch Core 2 Duo 266GHz | 4...</td>\n",
       "      <td>1499.00</td>\n",
       "      <td>345.59</td>\n",
       "      <td>0</td>\n",
       "      <td>51882158</td>\n",
       "    </tr>\n",
       "    <tr>\n",
       "      <th>8198</th>\n",
       "      <td>THU0039-A</td>\n",
       "      <td>Open - Thule Atmos X3 Case Black iPhone 7</td>\n",
       "      <td>resistant sheath with adhesive inner material ...</td>\n",
       "      <td>29.95</td>\n",
       "      <td>20.29</td>\n",
       "      <td>0</td>\n",
       "      <td>1298</td>\n",
       "    </tr>\n",
       "    <tr>\n",
       "      <th>2691</th>\n",
       "      <td>APP1162</td>\n",
       "      <td>Case Apple iPhone 6 Plus / 6s Plus Silicone Ca...</td>\n",
       "      <td>Ultrathin silicone case and microfiber premium...</td>\n",
       "      <td>45.00</td>\n",
       "      <td>45.00</td>\n",
       "      <td>0</td>\n",
       "      <td>11865403</td>\n",
       "    </tr>\n",
       "    <tr>\n",
       "      <th>391</th>\n",
       "      <td>WAC0092</td>\n",
       "      <td>Wacom Bamboo Stylus Mini Blue</td>\n",
       "      <td>IPhone iPad and iPod pointer.</td>\n",
       "      <td>9.99</td>\n",
       "      <td>7.99</td>\n",
       "      <td>0</td>\n",
       "      <td>1229</td>\n",
       "    </tr>\n",
       "    <tr>\n",
       "      <th>8810</th>\n",
       "      <td>AP20140</td>\n",
       "      <td>Like new - Apple USB power adapter W-C 29</td>\n",
       "      <td>USB-C adapter 29 W Apple official reconditioned</td>\n",
       "      <td>59.00</td>\n",
       "      <td>34.99</td>\n",
       "      <td>0</td>\n",
       "      <td>12585395</td>\n",
       "    </tr>\n",
       "    <tr>\n",
       "      <th>6254</th>\n",
       "      <td>PAC1763</td>\n",
       "      <td>QNAP TS-431P NAS</td>\n",
       "      <td>NAS with 12TB capacity Seagate Hard Drives for...</td>\n",
       "      <td>861.95</td>\n",
       "      <td>624.37</td>\n",
       "      <td>0</td>\n",
       "      <td>12175397</td>\n",
       "    </tr>\n",
       "    <tr>\n",
       "      <th>9916</th>\n",
       "      <td>QNA0259</td>\n",
       "      <td>QNAP rack rail kit</td>\n",
       "      <td>Rail kit for rackmount NAS servers in 1U</td>\n",
       "      <td>42.99</td>\n",
       "      <td>42.99</td>\n",
       "      <td>0</td>\n",
       "      <td>1404</td>\n",
       "    </tr>\n",
       "    <tr>\n",
       "      <th>653</th>\n",
       "      <td>OWC0086-2</td>\n",
       "      <td>Mac OWC Memory 16GB (2x8GB) 1066MHz DDR3 DIMM</td>\n",
       "      <td>RAM 16GB (2x8GB) Mac Pro (2009/2010).</td>\n",
       "      <td>113.98</td>\n",
       "      <td>98.99</td>\n",
       "      <td>1</td>\n",
       "      <td>1364</td>\n",
       "    </tr>\n",
       "    <tr>\n",
       "      <th>5534</th>\n",
       "      <td>TUC0292</td>\n",
       "      <td>Tucano DUEINUNO iPhone Case 2 in 1 7/8 Rosa</td>\n",
       "      <td>Case 2 in 1 with removable rear cover and anti...</td>\n",
       "      <td>24.99</td>\n",
       "      <td>18.99</td>\n",
       "      <td>0</td>\n",
       "      <td>11865403</td>\n",
       "    </tr>\n",
       "  </tbody>\n",
       "</table>\n",
       "</div>"
      ],
      "text/plain": [
       "             sku                                               name  \\\n",
       "10303    FIB0007            Fibaro Monoxide Detector Sensor HomeKit   \n",
       "270      FIT0013                  Fitbit ZIP monitor green activity   \n",
       "5522     DLK0136  D-Link DCS 180 camera HD 960L Wi-Fi ac include...   \n",
       "4671     TRA0041              Transcend JetDrive GO 300 32GB Silver   \n",
       "7070     SEA0112       Innov8 Seagate External Hard Drive 8TB USB-C   \n",
       "7512     SYN0168  Synology DS1817 + | 2GB RAM | NAS server Mac a...   \n",
       "4891     TUC0278  Svolta Tucano MacBook Pro Sleeve bag / Retina ...   \n",
       "2119     BOS0015              Bose QuietComfort 25 Headphones Black   \n",
       "8504     AP20225        Like new - Apple iPad Air 2 Wi-Fi 16GB Gold   \n",
       "8317     AP20218  Like new - Apple Leather Strap 42mm Loop Midni...   \n",
       "350      KEN0094           Kensington Cable, retractable Mac and PC   \n",
       "7588     PAC2063  Second hand - Apple iMac 20 \"Core 2 Duo 266GHz...   \n",
       "8198   THU0039-A          Open - Thule Atmos X3 Case Black iPhone 7   \n",
       "2691     APP1162  Case Apple iPhone 6 Plus / 6s Plus Silicone Ca...   \n",
       "391      WAC0092                      Wacom Bamboo Stylus Mini Blue   \n",
       "8810     AP20140          Like new - Apple USB power adapter W-C 29   \n",
       "6254     PAC1763                                   QNAP TS-431P NAS   \n",
       "9916     QNA0259                                 QNAP rack rail kit   \n",
       "653    OWC0086-2      Mac OWC Memory 16GB (2x8GB) 1066MHz DDR3 DIMM   \n",
       "5534     TUC0292        Tucano DUEINUNO iPhone Case 2 in 1 7/8 Rosa   \n",
       "\n",
       "                                                    desc    price  \\\n",
       "10303  Fibaro Monoxide Detector Sensor HomeKit for iP...    99.99   \n",
       "270            Activity Monitor compact and lightweight.    59.99   \n",
       "5522   HD camera with panoramic 180 degree view angle...   233.99   \n",
       "4671   Lightning to USB external memory for iPad and ...    59.00   \n",
       "7070   Robust external hard drive with USB connection...   399.00   \n",
       "7512   NAS with 2GB of RAM and 8 bays compatible with...   978.89   \n",
       "4891   briefcase robust design and protection Macbook...    29.99   \n",
       "2119   Noise-canceling headphones for iPhone iPad and...   329.00   \n",
       "8504                Air iPad 2 Wi-Fi refitted color gold   429.00   \n",
       "8317   Leather strap with grainy texture for Apple Wa...   159.00   \n",
       "350            retractable cable Mac and PC combination.    29.99   \n",
       "7588   Refurbished iMac 20 inch Core 2 Duo 266GHz | 4...  1499.00   \n",
       "8198   resistant sheath with adhesive inner material ...    29.95   \n",
       "2691   Ultrathin silicone case and microfiber premium...    45.00   \n",
       "391                        IPhone iPad and iPod pointer.     9.99   \n",
       "8810     USB-C adapter 29 W Apple official reconditioned    59.00   \n",
       "6254   NAS with 12TB capacity Seagate Hard Drives for...   861.95   \n",
       "9916            Rail kit for rackmount NAS servers in 1U    42.99   \n",
       "653                RAM 16GB (2x8GB) Mac Pro (2009/2010).   113.98   \n",
       "5534   Case 2 in 1 with removable rear cover and anti...    24.99   \n",
       "\n",
       "       promo_price  in_stock      type  \n",
       "10303        99.99         1  11905404  \n",
       "270          54.90         0  11905404  \n",
       "5522        154.99         0      9094  \n",
       "4671         37.99         0  42945397  \n",
       "7070        367.79         0  11935397  \n",
       "7512        958.99         0  12175397  \n",
       "4891         29.99         1     10230  \n",
       "2119        217.99         0      5384  \n",
       "8504        342.81         0  42931714  \n",
       "8317         99.00         0      1298  \n",
       "350          26.99         1      1325  \n",
       "7588        345.59         0  51882158  \n",
       "8198         20.29         0      1298  \n",
       "2691         45.00         0  11865403  \n",
       "391           7.99         0      1229  \n",
       "8810         34.99         0  12585395  \n",
       "6254        624.37         0  12175397  \n",
       "9916         42.99         0      1404  \n",
       "653          98.99         1      1364  \n",
       "5534         18.99         0  11865403  "
      ]
     },
     "execution_count": 18,
     "metadata": {},
     "output_type": "execute_result"
    }
   ],
   "source": [
    "# Function to reduce promo_price\n",
    "# While promo_price is higher than price, divides by 10 to move decimal point one further to the left\n",
    "# Returns the result of the divisions once promo price is smaller than price\n",
    "def reduce_promo_price(row):\n",
    "  result = round(row['promo_price'], 2) \n",
    "  while result > row['price']:\n",
    "    result = round((result / 10), 2)\n",
    "  return result\n",
    "\n",
    "products['promo_price'] = products.apply(lambda row : reduce_promo_price(row), axis=1)\n",
    "products.sample(20)"
   ]
  },
  {
   "cell_type": "code",
   "execution_count": 19,
   "metadata": {},
   "outputs": [],
   "source": [
    "# TESTING\n",
    "\n",
    "# (\n",
    "# products\n",
    "#     .merge((og_products\n",
    "#                 .rename(columns={'price': 'og_price', 'promo_price': 'og_promo_price'})\n",
    "#                 [['sku', 'og_price', 'og_promo_price']]), \n",
    "#             how='left', on='sku')\n",
    "#     [['sku', 'name', 'price', 'og_price', 'promo_price', 'og_promo_price']]\n",
    "#     .sample(15)\n",
    "# )"
   ]
  },
  {
   "cell_type": "markdown",
   "metadata": {},
   "source": [
    "## Cleaning brands"
   ]
  },
  {
   "cell_type": "code",
   "execution_count": null,
   "metadata": {},
   "outputs": [],
   "source": [
    "# No cleaning needed, everything is fine here"
   ]
  },
  {
   "cell_type": "markdown",
   "metadata": {},
   "source": [
    "# Data-Consistency Checks"
   ]
  },
  {
   "cell_type": "markdown",
   "metadata": {},
   "source": [
    "## Dates between orders and orderlines"
   ]
  },
  {
   "cell_type": "code",
   "execution_count": 20,
   "metadata": {},
   "outputs": [
    {
     "data": {
      "text/html": [
       "<div>\n",
       "<style scoped>\n",
       "    .dataframe tbody tr th:only-of-type {\n",
       "        vertical-align: middle;\n",
       "    }\n",
       "\n",
       "    .dataframe tbody tr th {\n",
       "        vertical-align: top;\n",
       "    }\n",
       "\n",
       "    .dataframe thead th {\n",
       "        text-align: right;\n",
       "    }\n",
       "</style>\n",
       "<table border=\"1\" class=\"dataframe\">\n",
       "  <thead>\n",
       "    <tr style=\"text-align: right;\">\n",
       "      <th></th>\n",
       "      <th>df</th>\n",
       "      <th>first_order</th>\n",
       "      <th>last_order</th>\n",
       "    </tr>\n",
       "  </thead>\n",
       "  <tbody>\n",
       "    <tr>\n",
       "      <th>0</th>\n",
       "      <td>orders</td>\n",
       "      <td>2017-01-01 00:07:19</td>\n",
       "      <td>2018-03-14 13:58:36</td>\n",
       "    </tr>\n",
       "    <tr>\n",
       "      <th>1</th>\n",
       "      <td>orderlines</td>\n",
       "      <td>2017-01-01 00:07:19</td>\n",
       "      <td>2018-03-14 13:58:36</td>\n",
       "    </tr>\n",
       "  </tbody>\n",
       "</table>\n",
       "</div>"
      ],
      "text/plain": [
       "           df         first_order          last_order\n",
       "0      orders 2017-01-01 00:07:19 2018-03-14 13:58:36\n",
       "1  orderlines 2017-01-01 00:07:19 2018-03-14 13:58:36"
      ]
     },
     "execution_count": 20,
     "metadata": {},
     "output_type": "execute_result"
    }
   ],
   "source": [
    "# Check whether dates of first and last orders match in orders vs orderlines\n",
    "\n",
    "min_date_orders=min(orders['created_date'])\n",
    "max_date_orders= max(orders['created_date'])\n",
    "min_date_orderlines = min(orderlines['date'])\n",
    "max_date_orderlines = max(orderlines['date'])\n",
    "\n",
    "pd.DataFrame(\n",
    "    {\n",
    "        'df': ['orders', 'orderlines'],\n",
    "        'first_order': [min_date_orders, min_date_orderlines],\n",
    "        'last_order': [max_date_orders, max_date_orderlines]\n",
    "    })"
   ]
  },
  {
   "cell_type": "markdown",
   "metadata": {},
   "source": [
    "## Total price between orders and orderlines"
   ]
  },
  {
   "cell_type": "code",
   "execution_count": 21,
   "metadata": {},
   "outputs": [
    {
     "name": "stdout",
     "output_type": "stream",
     "text": [
      "Total price sum in orders=     129159615.07000001\n",
      "Total price sum in orderlines= 128776222.02999999\n",
      "\n"
     ]
    }
   ],
   "source": [
    "# Exploration of price mismatch from perspective of ORDERLINES\n",
    "\n",
    "print(f'Total price sum in orders=     {orders.total_paid.sum()}\\nTotal price sum in orderlines= {orderlines.total_price.sum()}\\n')\n",
    "\n",
    "# Exploration of price mismatch from perspective of ORDERLINES\n",
    "## create copy of orderlines with column checking whether order id is also in orders df\n",
    "ol_copy = orderlines.assign(check_orders = orderlines['order_id'].isin(orders['order_id'])).copy()\n",
    "\n",
    "# check unequal rows\n",
    "# print(\n",
    "# ol_copy\n",
    "#     .query(\"check_orders==False\")\n",
    "# )\n",
    "# print()\n",
    "\n",
    "# there are 240 rows of orders that are not in the orders df - these will be removed for now\n",
    "orderlines = (ol_copy\n",
    "              .query(\"check_orders==True\").copy())"
   ]
  },
  {
   "cell_type": "code",
   "execution_count": 22,
   "metadata": {},
   "outputs": [],
   "source": [
    "# Exploration of price mismatch from perspective of ORDERS\n",
    "# check whether order id is also in orderlines df\n",
    "(\n",
    "orders\n",
    " .assign(check_orders = orders['order_id'].isin(orderlines['order_id']))\n",
    " .query(\"check_orders==False\")\n",
    ")\n",
    "\n",
    "# check state of orders that are in orders but not in orderlines\n",
    "(\n",
    "orders\n",
    "    .assign(check_orders = orders['order_id'].isin(orderlines['order_id']))\n",
    "    .query(\"check_orders==False\")\n",
    "    ['state'].value_counts()\n",
    ")\n",
    "\n",
    "# Can be explored further, but for now all unmatched orders will be dropped\n",
    "orders = (orders\n",
    "            .assign(check_orders = orders['order_id'].isin(orderlines['order_id']))\n",
    "            .query(\"check_orders==True\")\n",
    "         )"
   ]
  },
  {
   "cell_type": "code",
   "execution_count": 23,
   "metadata": {},
   "outputs": [],
   "source": [
    "# Merge orderlines and order to check price-differences\n",
    "ol_orders_merged = (\n",
    "    orderlines\n",
    "        .groupby('order_id')\n",
    "        .agg({'total_price':'sum'})\n",
    "        .merge(orders, how='left', on='order_id')\n",
    "        .rename(columns= {\n",
    "            'total_price':'total_price_orderlines',\n",
    "            'total_paid': 'total_paid_orders'\n",
    "        })\n",
    "        .copy()\n",
    ")\n",
    "\n",
    "# create price-difference column and remove small differences\n",
    "def get_price_difference(row):\n",
    "    if (abs(row['total_price_orderlines'] - row['total_paid_orders']) <= 0.1):\n",
    "        result = 0\n",
    "    else:\n",
    "        result = (row['total_price_orderlines'] - row['total_paid_orders'])\n",
    "    return abs(round(result,2))\n",
    "\n",
    "ol_orders_merged['price_diff'] = ol_orders_merged.apply(lambda row : get_price_difference(row), axis=1)\n"
   ]
  },
  {
   "cell_type": "code",
   "execution_count": 24,
   "metadata": {},
   "outputs": [
    {
     "data": {
      "text/plain": [
       "6.99     16729\n",
       "4.99     15881\n",
       "3.99     10287\n",
       "19.99     1239\n",
       "9.99       972\n",
       "5.00       632\n",
       "7.00       451\n",
       "11.99      246\n",
       "4.00       129\n",
       "1.01       124\n",
       "6.98       100\n",
       "14.99       86\n",
       "1.99        84\n",
       "4.98        72\n",
       "19.98       62\n",
       "20.00       57\n",
       "10.00       42\n",
       "7.01        33\n",
       "3.98        28\n",
       "20.01       15\n",
       "9.98        10\n",
       "14.98       10\n",
       "21.01        8\n",
       "10.01        7\n",
       "12.99        7\n",
       "Name: price_diff, dtype: int64"
      ]
     },
     "execution_count": 24,
     "metadata": {},
     "output_type": "execute_result"
    }
   ],
   "source": [
    "# Explore price differences\n",
    "(\n",
    "ol_orders_merged\n",
    "    .query(\"price_diff != 0\")\n",
    "    ['price_diff']\n",
    "    .value_counts()\n",
    "    .head(25)\n",
    ")"
   ]
  },
  {
   "cell_type": "markdown",
   "metadata": {},
   "source": [
    "### Insights on price-differences\n",
    "\n",
    "* price differences probably come from shipping costs\n",
    "* price differences that were less than +- 10 cents were set to 0 to clean the dataset \n",
    "* recommendation: no need to remove any rows, because the remaining rows all contain plausible and explainable price-differences"
   ]
  },
  {
   "cell_type": "markdown",
   "metadata": {},
   "source": [
    "# Export of orders and orderlines"
   ]
  },
  {
   "cell_type": "code",
   "execution_count": null,
   "metadata": {},
   "outputs": [],
   "source": [
    "orderlines.to_csv(R'C:\\Users\\tobia\\Documents\\Bootcamp\\03_datacleaning_storytelling_pd_matplot\\00_eniac_data\\cleaned_data\\orderlines_cleaned.csv', index=False)\n",
    "orders.to_csv(R'C:\\Users\\tobia\\Documents\\Bootcamp\\03_datacleaning_storytelling_pd_matplot\\00_eniac_data\\cleaned_data\\orders_cleaned.csv', index=False)"
   ]
  },
  {
   "cell_type": "markdown",
   "metadata": {},
   "source": [
    "# __Exploration of specific questions__"
   ]
  },
  {
   "cell_type": "markdown",
   "metadata": {},
   "source": [
    "## Suggested Questions\n",
    "\n",
    "__How many orders are there?__  \n",
    "226909 unique order_ids.  \n",
    "  \n",
    "__How many products are there?__  \n",
    "10579 unique products  \n",
    "\n",
    "__Which timespan is captured in the dataset?__  \n",
    "First order in dataset made on: 2017-01-01 00:07:19  \n",
    "Last order in dataset made on: 2018-03-14 13:58:36\n",
    "\n",
    "__How many orders are completed?__  \n",
    "46605 orders are completed.  \n",
    "  \n",
    "__How should revenue be computed?__  \n",
    "Summarize price of all unique orders with state = completed.  \n",
    "Total revenue from captured data: 15907059.89 €\n",
    "\n"
   ]
  },
  {
   "cell_type": "code",
   "execution_count": 25,
   "metadata": {},
   "outputs": [
    {
     "name": "stdout",
     "output_type": "stream",
     "text": [
      "First order in dataset made on: 2017-01-01 00:07:19\n",
      "Last order in dataset made on: 2018-03-14 13:58:36\n",
      "Total revenue (sum of total_paid of orders where state = completed) = 15907059.889999995\n"
     ]
    }
   ],
   "source": [
    "# num of orders\n",
    "orders.order_id.nunique()\n",
    "# num of products\n",
    "products.sku.nunique()\n",
    "\n",
    "# timeperiod captured\n",
    "first_order = orders.created_date.min()\n",
    "last_order = orders.created_date.max()\n",
    "print(f'First order in dataset made on: {first_order}\\nLast order in dataset made on: {last_order}')\n",
    "\n",
    "# num of completed orders\n",
    "orders.loc[orders['state'] == 'Completed','order_id'].count()\n",
    "\n",
    "# revenue\n",
    "print(f\"Total revenue (sum of total_paid of orders where state = completed) = {orders.loc[orders['state'] == 'Completed','total_paid'].sum()}\")"
   ]
  },
  {
   "cell_type": "markdown",
   "metadata": {},
   "source": [
    "## Revenue  \n",
    "  \n",
    "__Monthly Revenue__:  \n"
   ]
  },
  {
   "cell_type": "code",
   "execution_count": 26,
   "metadata": {},
   "outputs": [
    {
     "name": "stdout",
     "output_type": "stream",
     "text": [
      "     weekday  total_paid weekday_cat\n",
      "0     Monday  3157528.75      Monday\n",
      "1    Tuesday  2553186.82     Tuesday\n",
      "2  Wednesday  2613447.69   Wednesday\n",
      "3   Thursday  2510786.30    Thursday\n",
      "4     Friday  2632860.30      Friday\n",
      "5   Saturday  1125456.37    Saturday\n",
      "6     Sunday  1313793.66      Sunday\n"
     ]
    },
    {
     "data": {
      "text/plain": [
       "<AxesSubplot:xlabel='weekday_cat'>"
      ]
     },
     "execution_count": 26,
     "metadata": {},
     "output_type": "execute_result"
    },
    {
     "data": {
      "image/png": "[encoded data removed]",
      "text/plain": [
       "<Figure size 432x288 with 1 Axes>"
      ]
     },
     "metadata": {
      "needs_background": "light"
     },
     "output_type": "display_data"
    }
   ],
   "source": [
    "rev_by_day = pd.DataFrame(\n",
    "    orders\n",
    "    .loc[orders['state'] == 'Completed', 'total_paid']\n",
    "    .groupby(orders.weekday)\n",
    "    .sum()\n",
    ")\n",
    "rev_by_day.reset_index(inplace=True)\n",
    "\n",
    "rev_by_day['weekday_cat'] = pd.Categorical(\n",
    "    rev_by_day['weekday'],\n",
    "    categories=['Monday', 'Tuesday', 'Wednesday', 'Thursday', 'Friday', 'Saturday', 'Sunday'],\n",
    "    ordered = True\n",
    ")\n",
    "rev_by_day = rev_by_day.sort_values('weekday_cat')\n",
    "\n",
    "print(rev_by_day.head(10))\n",
    "\n",
    "rev_by_day.plot.bar(x = 'weekday_cat')\n"
   ]
  }
 ],
 "metadata": {
  "kernelspec": {
   "display_name": "Python 3.9.5",
   "language": "python",
   "name": "python3"
  },
  "language_info": {
   "codemirror_mode": {
    "name": "ipython",
    "version": 3
   },
   "file_extension": ".py",
   "mimetype": "text/x-python",
   "name": "python",
   "nbconvert_exporter": "python",
   "pygments_lexer": "ipython3",
   "version": "3.9.5"
  },
  "orig_nbformat": 4,
  "vscode": {
   "interpreter": {
    "hash": "f32269641e17bf27d9ca909c2404938da1b1b2df6b9d3f5a88a1b877c863c5b8"
   }
  }
 },
 "nbformat": 4,
 "nbformat_minor": 2
}
